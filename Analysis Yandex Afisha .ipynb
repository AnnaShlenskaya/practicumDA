{
 "cells": [
  {
   "cell_type": "markdown",
   "metadata": {},
   "source": [
    " # Оптимизация маркетинговых затрат Яндекс.Афиши на основании данных, полученных с июня 2017 по конец мая 2018 года"
   ]
  },
  {
   "cell_type": "markdown",
   "metadata": {},
   "source": [
    "## Оглавление"
   ]
  },
  {
   "cell_type": "markdown",
   "metadata": {},
   "source": [
    "## [Изучение общей информации](#step1)"
   ]
  },
  {
   "cell_type": "markdown",
   "metadata": {},
   "source": [
    "#### [Таблица visits](#step2)"
   ]
  },
  {
   "cell_type": "markdown",
   "metadata": {},
   "source": [
    "#### [Таблица orders](#step3)"
   ]
  },
  {
   "cell_type": "markdown",
   "metadata": {},
   "source": [
    "#### [Таблица costs](#step4)"
   ]
  },
  {
   "cell_type": "markdown",
   "metadata": {},
   "source": [
    "## [Отчёты и метрики](#step5)"
   ]
  },
  {
   "cell_type": "markdown",
   "metadata": {},
   "source": [
    "### [ Продукт](#step6)"
   ]
  },
  {
   "cell_type": "markdown",
   "metadata": {},
   "source": [
    "#### [Сколько людей пользуются в день, неделю, месяц?](#step7)"
   ]
  },
  {
   "cell_type": "markdown",
   "metadata": {},
   "source": [
    "#### [Сколько сессий в день?](#step8)"
   ]
  },
  {
   "cell_type": "markdown",
   "metadata": {},
   "source": [
    "#### [Сколько длится одна сессия?](#step9)"
   ]
  },
  {
   "cell_type": "markdown",
   "metadata": {},
   "source": [
    "#### [Как часто люди возвращаются?](#step10)"
   ]
  },
  {
   "cell_type": "markdown",
   "metadata": {},
   "source": [
    "### [ Продажи](#step11)"
   ]
  },
  {
   "cell_type": "markdown",
   "metadata": {},
   "source": [
    "#### [Когда люди начинают покупать?](#step12)"
   ]
  },
  {
   "cell_type": "markdown",
   "metadata": {},
   "source": [
    "#### [Сколько раз покупают за период?](#step13)"
   ]
  },
  {
   "cell_type": "markdown",
   "metadata": {},
   "source": [
    "#### [Какой средний чек?](#step14)"
   ]
  },
  {
   "cell_type": "markdown",
   "metadata": {},
   "source": [
    "#### [Сколько денег приносят? (LTV)](#step15)"
   ]
  },
  {
   "cell_type": "markdown",
   "metadata": {},
   "source": [
    "### [Маркетинг](#step16)"
   ]
  },
  {
   "cell_type": "markdown",
   "metadata": {},
   "source": [
    "#### [Сколько денег потратили? Всего / на каждый источник / по времени](#step17)"
   ]
  },
  {
   "cell_type": "markdown",
   "metadata": {},
   "source": [
    "#### [Сколько стоило привлечение одного покупателя из каждого источника?](#step18)"
   ]
  },
  {
   "cell_type": "markdown",
   "metadata": {},
   "source": [
    "#### [На сколько окупились расходы? (ROI)](#step19)"
   ]
  },
  {
   "cell_type": "markdown",
   "metadata": {},
   "source": [
    "## [Общий вывод](#step5)"
   ]
  },
  {
   "cell_type": "markdown",
   "metadata": {},
   "source": [
    "## Изучение общей информации <a name=\"step1\"></a>"
   ]
  },
  {
   "cell_type": "markdown",
   "metadata": {},
   "source": [
    "#### Таблица visits (лог сервера с информацией о посещениях сайта):\n",
    "* Uid — уникальный идентификатор пользователя\n",
    "* Device — категория устройства пользователя\n",
    "* Start Ts — дата и время начала сессии\n",
    "* End Ts — дата и время окончания сессии\n",
    "* Source Id — идентификатор рекламного источника, из которого пришел пользователь\n",
    "#### Таблица orders (информация о заказах):\n",
    "* Uid — уникальный id пользователя, который сделал заказ\n",
    "* Buy Ts — дата и время заказа\n",
    "* Revenue — выручка Яндекс.Афиши с этого заказа\n",
    "#### Таблица costs (информация о затратах на маркетинг):\n",
    "* source_id — идентификатор рекламного источника\n",
    "* dt — дата\n",
    "* costs — затраты на этот рекламный источник в этот день"
   ]
  },
  {
   "cell_type": "code",
   "execution_count": 1,
   "metadata": {},
   "outputs": [],
   "source": [
    "# Импортируем библиотеки\n",
    "import pandas as pd\n",
    "import numpy as np\n",
    "import matplotlib.pyplot as plt\n",
    "import seaborn as sns\n",
    "\n",
    "from datetime import datetime\n",
    "from scipy import stats as st"
   ]
  },
  {
   "cell_type": "code",
   "execution_count": 2,
   "metadata": {},
   "outputs": [],
   "source": [
    "#Загружим датасеты\n",
    "visits = pd.read_csv('/datasets/visits_log.csv')\n",
    "orders = pd.read_csv('/datasets/orders_log.csv')\n",
    "costs = pd.read_csv('/datasets/costs.csv')"
   ]
  },
  {
   "cell_type": "markdown",
   "metadata": {},
   "source": [
    "#### Таблица visits<a name=\"step2\"></a>"
   ]
  },
  {
   "cell_type": "code",
   "execution_count": 3,
   "metadata": {},
   "outputs": [
    {
     "data": {
      "text/html": [
       "<div>\n",
       "<style scoped>\n",
       "    .dataframe tbody tr th:only-of-type {\n",
       "        vertical-align: middle;\n",
       "    }\n",
       "\n",
       "    .dataframe tbody tr th {\n",
       "        vertical-align: top;\n",
       "    }\n",
       "\n",
       "    .dataframe thead th {\n",
       "        text-align: right;\n",
       "    }\n",
       "</style>\n",
       "<table border=\"1\" class=\"dataframe\">\n",
       "  <thead>\n",
       "    <tr style=\"text-align: right;\">\n",
       "      <th></th>\n",
       "      <th>Device</th>\n",
       "      <th>End Ts</th>\n",
       "      <th>Source Id</th>\n",
       "      <th>Start Ts</th>\n",
       "      <th>Uid</th>\n",
       "    </tr>\n",
       "  </thead>\n",
       "  <tbody>\n",
       "    <tr>\n",
       "      <td>0</td>\n",
       "      <td>touch</td>\n",
       "      <td>2017-12-20 17:38:00</td>\n",
       "      <td>4</td>\n",
       "      <td>2017-12-20 17:20:00</td>\n",
       "      <td>16879256277535980062</td>\n",
       "    </tr>\n",
       "    <tr>\n",
       "      <td>1</td>\n",
       "      <td>desktop</td>\n",
       "      <td>2018-02-19 17:21:00</td>\n",
       "      <td>2</td>\n",
       "      <td>2018-02-19 16:53:00</td>\n",
       "      <td>104060357244891740</td>\n",
       "    </tr>\n",
       "    <tr>\n",
       "      <td>2</td>\n",
       "      <td>touch</td>\n",
       "      <td>2017-07-01 01:54:00</td>\n",
       "      <td>5</td>\n",
       "      <td>2017-07-01 01:54:00</td>\n",
       "      <td>7459035603376831527</td>\n",
       "    </tr>\n",
       "    <tr>\n",
       "      <td>3</td>\n",
       "      <td>desktop</td>\n",
       "      <td>2018-05-20 11:23:00</td>\n",
       "      <td>9</td>\n",
       "      <td>2018-05-20 10:59:00</td>\n",
       "      <td>16174680259334210214</td>\n",
       "    </tr>\n",
       "    <tr>\n",
       "      <td>4</td>\n",
       "      <td>desktop</td>\n",
       "      <td>2017-12-27 14:06:00</td>\n",
       "      <td>3</td>\n",
       "      <td>2017-12-27 14:06:00</td>\n",
       "      <td>9969694820036681168</td>\n",
       "    </tr>\n",
       "  </tbody>\n",
       "</table>\n",
       "</div>"
      ],
      "text/plain": [
       "    Device               End Ts  Source Id             Start Ts  \\\n",
       "0    touch  2017-12-20 17:38:00          4  2017-12-20 17:20:00   \n",
       "1  desktop  2018-02-19 17:21:00          2  2018-02-19 16:53:00   \n",
       "2    touch  2017-07-01 01:54:00          5  2017-07-01 01:54:00   \n",
       "3  desktop  2018-05-20 11:23:00          9  2018-05-20 10:59:00   \n",
       "4  desktop  2017-12-27 14:06:00          3  2017-12-27 14:06:00   \n",
       "\n",
       "                    Uid  \n",
       "0  16879256277535980062  \n",
       "1    104060357244891740  \n",
       "2   7459035603376831527  \n",
       "3  16174680259334210214  \n",
       "4   9969694820036681168  "
      ]
     },
     "execution_count": 3,
     "metadata": {},
     "output_type": "execute_result"
    }
   ],
   "source": [
    "visits.head()"
   ]
  },
  {
   "cell_type": "code",
   "execution_count": 4,
   "metadata": {},
   "outputs": [
    {
     "name": "stdout",
     "output_type": "stream",
     "text": [
      "<class 'pandas.core.frame.DataFrame'>\n",
      "RangeIndex: 359400 entries, 0 to 359399\n",
      "Data columns (total 5 columns):\n",
      "Device       359400 non-null object\n",
      "End Ts       359400 non-null object\n",
      "Source Id    359400 non-null int64\n",
      "Start Ts     359400 non-null object\n",
      "Uid          359400 non-null uint64\n",
      "dtypes: int64(1), object(3), uint64(1)\n",
      "memory usage: 13.7+ MB\n"
     ]
    }
   ],
   "source": [
    "visits.info()"
   ]
  },
  {
   "cell_type": "markdown",
   "metadata": {},
   "source": [
    "Сразу бросается в глаза, названия столбцов, а также,что столбцы с датами не в том формате, в котором нужно. Переименуем столбцы и переведем столбцы с датами в формат datetime."
   ]
  },
  {
   "cell_type": "code",
   "execution_count": 5,
   "metadata": {},
   "outputs": [],
   "source": [
    "visits.columns = ['device', 'end_ts', 'source_id', 'start_ts', 'uid']\n",
    "#Немного поменяем порядок, а то все столбцы в разброс как то, путает\n",
    "visits = visits[['uid', 'device', 'start_ts', 'end_ts', 'source_id']]"
   ]
  },
  {
   "cell_type": "code",
   "execution_count": 6,
   "metadata": {},
   "outputs": [
    {
     "data": {
      "text/html": [
       "<div>\n",
       "<style scoped>\n",
       "    .dataframe tbody tr th:only-of-type {\n",
       "        vertical-align: middle;\n",
       "    }\n",
       "\n",
       "    .dataframe tbody tr th {\n",
       "        vertical-align: top;\n",
       "    }\n",
       "\n",
       "    .dataframe thead th {\n",
       "        text-align: right;\n",
       "    }\n",
       "</style>\n",
       "<table border=\"1\" class=\"dataframe\">\n",
       "  <thead>\n",
       "    <tr style=\"text-align: right;\">\n",
       "      <th></th>\n",
       "      <th>uid</th>\n",
       "      <th>device</th>\n",
       "      <th>start_ts</th>\n",
       "      <th>end_ts</th>\n",
       "      <th>source_id</th>\n",
       "    </tr>\n",
       "  </thead>\n",
       "  <tbody>\n",
       "    <tr>\n",
       "      <td>0</td>\n",
       "      <td>16879256277535980062</td>\n",
       "      <td>touch</td>\n",
       "      <td>2017-12-20 17:20:00</td>\n",
       "      <td>2017-12-20 17:38:00</td>\n",
       "      <td>4</td>\n",
       "    </tr>\n",
       "    <tr>\n",
       "      <td>1</td>\n",
       "      <td>104060357244891740</td>\n",
       "      <td>desktop</td>\n",
       "      <td>2018-02-19 16:53:00</td>\n",
       "      <td>2018-02-19 17:21:00</td>\n",
       "      <td>2</td>\n",
       "    </tr>\n",
       "    <tr>\n",
       "      <td>2</td>\n",
       "      <td>7459035603376831527</td>\n",
       "      <td>touch</td>\n",
       "      <td>2017-07-01 01:54:00</td>\n",
       "      <td>2017-07-01 01:54:00</td>\n",
       "      <td>5</td>\n",
       "    </tr>\n",
       "    <tr>\n",
       "      <td>3</td>\n",
       "      <td>16174680259334210214</td>\n",
       "      <td>desktop</td>\n",
       "      <td>2018-05-20 10:59:00</td>\n",
       "      <td>2018-05-20 11:23:00</td>\n",
       "      <td>9</td>\n",
       "    </tr>\n",
       "    <tr>\n",
       "      <td>4</td>\n",
       "      <td>9969694820036681168</td>\n",
       "      <td>desktop</td>\n",
       "      <td>2017-12-27 14:06:00</td>\n",
       "      <td>2017-12-27 14:06:00</td>\n",
       "      <td>3</td>\n",
       "    </tr>\n",
       "  </tbody>\n",
       "</table>\n",
       "</div>"
      ],
      "text/plain": [
       "                    uid   device             start_ts               end_ts  \\\n",
       "0  16879256277535980062    touch  2017-12-20 17:20:00  2017-12-20 17:38:00   \n",
       "1    104060357244891740  desktop  2018-02-19 16:53:00  2018-02-19 17:21:00   \n",
       "2   7459035603376831527    touch  2017-07-01 01:54:00  2017-07-01 01:54:00   \n",
       "3  16174680259334210214  desktop  2018-05-20 10:59:00  2018-05-20 11:23:00   \n",
       "4   9969694820036681168  desktop  2017-12-27 14:06:00  2017-12-27 14:06:00   \n",
       "\n",
       "   source_id  \n",
       "0          4  \n",
       "1          2  \n",
       "2          5  \n",
       "3          9  \n",
       "4          3  "
      ]
     },
     "execution_count": 6,
     "metadata": {},
     "output_type": "execute_result"
    }
   ],
   "source": [
    "visits.head()"
   ]
  },
  {
   "cell_type": "code",
   "execution_count": 7,
   "metadata": {},
   "outputs": [],
   "source": [
    "visits['end_ts'] = pd.to_datetime(visits['end_ts'], format = '%Y-%m-%d %H:%M:%S')\n",
    "visits['start_ts'] = pd.to_datetime(visits['start_ts'], format = '%Y-%m-%d %H:%M:%S')"
   ]
  },
  {
   "cell_type": "code",
   "execution_count": 8,
   "metadata": {},
   "outputs": [
    {
     "name": "stdout",
     "output_type": "stream",
     "text": [
      "<class 'pandas.core.frame.DataFrame'>\n",
      "RangeIndex: 359400 entries, 0 to 359399\n",
      "Data columns (total 5 columns):\n",
      "uid          359400 non-null uint64\n",
      "device       359400 non-null object\n",
      "start_ts     359400 non-null datetime64[ns]\n",
      "end_ts       359400 non-null datetime64[ns]\n",
      "source_id    359400 non-null int64\n",
      "dtypes: datetime64[ns](2), int64(1), object(1), uint64(1)\n",
      "memory usage: 13.7+ MB\n"
     ]
    }
   ],
   "source": [
    "visits.info()"
   ]
  },
  {
   "cell_type": "code",
   "execution_count": 9,
   "metadata": {},
   "outputs": [
    {
     "data": {
      "text/html": [
       "<div>\n",
       "<style scoped>\n",
       "    .dataframe tbody tr th:only-of-type {\n",
       "        vertical-align: middle;\n",
       "    }\n",
       "\n",
       "    .dataframe tbody tr th {\n",
       "        vertical-align: top;\n",
       "    }\n",
       "\n",
       "    .dataframe thead th {\n",
       "        text-align: right;\n",
       "    }\n",
       "</style>\n",
       "<table border=\"1\" class=\"dataframe\">\n",
       "  <thead>\n",
       "    <tr style=\"text-align: right;\">\n",
       "      <th></th>\n",
       "      <th>uid</th>\n",
       "      <th>source_id</th>\n",
       "    </tr>\n",
       "  </thead>\n",
       "  <tbody>\n",
       "    <tr>\n",
       "      <td>count</td>\n",
       "      <td>3.594000e+05</td>\n",
       "      <td>359400.000000</td>\n",
       "    </tr>\n",
       "    <tr>\n",
       "      <td>mean</td>\n",
       "      <td>9.202557e+18</td>\n",
       "      <td>3.750515</td>\n",
       "    </tr>\n",
       "    <tr>\n",
       "      <td>std</td>\n",
       "      <td>5.298433e+18</td>\n",
       "      <td>1.917116</td>\n",
       "    </tr>\n",
       "    <tr>\n",
       "      <td>min</td>\n",
       "      <td>1.186350e+13</td>\n",
       "      <td>1.000000</td>\n",
       "    </tr>\n",
       "    <tr>\n",
       "      <td>25%</td>\n",
       "      <td>4.613407e+18</td>\n",
       "      <td>3.000000</td>\n",
       "    </tr>\n",
       "    <tr>\n",
       "      <td>50%</td>\n",
       "      <td>9.227413e+18</td>\n",
       "      <td>4.000000</td>\n",
       "    </tr>\n",
       "    <tr>\n",
       "      <td>75%</td>\n",
       "      <td>1.372824e+19</td>\n",
       "      <td>5.000000</td>\n",
       "    </tr>\n",
       "    <tr>\n",
       "      <td>max</td>\n",
       "      <td>1.844668e+19</td>\n",
       "      <td>10.000000</td>\n",
       "    </tr>\n",
       "  </tbody>\n",
       "</table>\n",
       "</div>"
      ],
      "text/plain": [
       "                uid      source_id\n",
       "count  3.594000e+05  359400.000000\n",
       "mean   9.202557e+18       3.750515\n",
       "std    5.298433e+18       1.917116\n",
       "min    1.186350e+13       1.000000\n",
       "25%    4.613407e+18       3.000000\n",
       "50%    9.227413e+18       4.000000\n",
       "75%    1.372824e+19       5.000000\n",
       "max    1.844668e+19      10.000000"
      ]
     },
     "execution_count": 9,
     "metadata": {},
     "output_type": "execute_result"
    }
   ],
   "source": [
    "visits.describe()"
   ]
  },
  {
   "cell_type": "code",
   "execution_count": 10,
   "metadata": {},
   "outputs": [
    {
     "data": {
      "text/plain": [
       "uid          0\n",
       "device       0\n",
       "start_ts     0\n",
       "end_ts       0\n",
       "source_id    0\n",
       "dtype: int64"
      ]
     },
     "execution_count": 10,
     "metadata": {},
     "output_type": "execute_result"
    }
   ],
   "source": [
    "visits.isnull().sum()"
   ]
  },
  {
   "cell_type": "code",
   "execution_count": 11,
   "metadata": {},
   "outputs": [
    {
     "data": {
      "text/plain": [
       "0"
      ]
     },
     "execution_count": 11,
     "metadata": {},
     "output_type": "execute_result"
    }
   ],
   "source": [
    "visits.duplicated().sum()"
   ]
  },
  {
   "cell_type": "markdown",
   "metadata": {},
   "source": [
    "#### Таблица orders<a name=\"step3\"></a>"
   ]
  },
  {
   "cell_type": "code",
   "execution_count": 12,
   "metadata": {},
   "outputs": [
    {
     "data": {
      "text/html": [
       "<div>\n",
       "<style scoped>\n",
       "    .dataframe tbody tr th:only-of-type {\n",
       "        vertical-align: middle;\n",
       "    }\n",
       "\n",
       "    .dataframe tbody tr th {\n",
       "        vertical-align: top;\n",
       "    }\n",
       "\n",
       "    .dataframe thead th {\n",
       "        text-align: right;\n",
       "    }\n",
       "</style>\n",
       "<table border=\"1\" class=\"dataframe\">\n",
       "  <thead>\n",
       "    <tr style=\"text-align: right;\">\n",
       "      <th></th>\n",
       "      <th>Buy Ts</th>\n",
       "      <th>Revenue</th>\n",
       "      <th>Uid</th>\n",
       "    </tr>\n",
       "  </thead>\n",
       "  <tbody>\n",
       "    <tr>\n",
       "      <td>0</td>\n",
       "      <td>2017-06-01 00:10:00</td>\n",
       "      <td>17.00</td>\n",
       "      <td>10329302124590727494</td>\n",
       "    </tr>\n",
       "    <tr>\n",
       "      <td>1</td>\n",
       "      <td>2017-06-01 00:25:00</td>\n",
       "      <td>0.55</td>\n",
       "      <td>11627257723692907447</td>\n",
       "    </tr>\n",
       "    <tr>\n",
       "      <td>2</td>\n",
       "      <td>2017-06-01 00:27:00</td>\n",
       "      <td>0.37</td>\n",
       "      <td>17903680561304213844</td>\n",
       "    </tr>\n",
       "    <tr>\n",
       "      <td>3</td>\n",
       "      <td>2017-06-01 00:29:00</td>\n",
       "      <td>0.55</td>\n",
       "      <td>16109239769442553005</td>\n",
       "    </tr>\n",
       "    <tr>\n",
       "      <td>4</td>\n",
       "      <td>2017-06-01 07:58:00</td>\n",
       "      <td>0.37</td>\n",
       "      <td>14200605875248379450</td>\n",
       "    </tr>\n",
       "  </tbody>\n",
       "</table>\n",
       "</div>"
      ],
      "text/plain": [
       "                Buy Ts  Revenue                   Uid\n",
       "0  2017-06-01 00:10:00    17.00  10329302124590727494\n",
       "1  2017-06-01 00:25:00     0.55  11627257723692907447\n",
       "2  2017-06-01 00:27:00     0.37  17903680561304213844\n",
       "3  2017-06-01 00:29:00     0.55  16109239769442553005\n",
       "4  2017-06-01 07:58:00     0.37  14200605875248379450"
      ]
     },
     "execution_count": 12,
     "metadata": {},
     "output_type": "execute_result"
    }
   ],
   "source": [
    "orders.head()"
   ]
  },
  {
   "cell_type": "code",
   "execution_count": 13,
   "metadata": {},
   "outputs": [
    {
     "name": "stdout",
     "output_type": "stream",
     "text": [
      "<class 'pandas.core.frame.DataFrame'>\n",
      "RangeIndex: 50415 entries, 0 to 50414\n",
      "Data columns (total 3 columns):\n",
      "Buy Ts     50415 non-null object\n",
      "Revenue    50415 non-null float64\n",
      "Uid        50415 non-null uint64\n",
      "dtypes: float64(1), object(1), uint64(1)\n",
      "memory usage: 1.2+ MB\n"
     ]
    }
   ],
   "source": [
    "orders.info()"
   ]
  },
  {
   "cell_type": "markdown",
   "metadata": {},
   "source": [
    "Название столбцов и неправильный формат дат, как и в предыдущей таблице"
   ]
  },
  {
   "cell_type": "code",
   "execution_count": 14,
   "metadata": {},
   "outputs": [],
   "source": [
    "orders.columns = ['buy_ts','revenue', 'uid']\n",
    "orders = orders[['uid', 'buy_ts', 'revenue']]"
   ]
  },
  {
   "cell_type": "code",
   "execution_count": 15,
   "metadata": {},
   "outputs": [
    {
     "data": {
      "text/html": [
       "<div>\n",
       "<style scoped>\n",
       "    .dataframe tbody tr th:only-of-type {\n",
       "        vertical-align: middle;\n",
       "    }\n",
       "\n",
       "    .dataframe tbody tr th {\n",
       "        vertical-align: top;\n",
       "    }\n",
       "\n",
       "    .dataframe thead th {\n",
       "        text-align: right;\n",
       "    }\n",
       "</style>\n",
       "<table border=\"1\" class=\"dataframe\">\n",
       "  <thead>\n",
       "    <tr style=\"text-align: right;\">\n",
       "      <th></th>\n",
       "      <th>uid</th>\n",
       "      <th>buy_ts</th>\n",
       "      <th>revenue</th>\n",
       "    </tr>\n",
       "  </thead>\n",
       "  <tbody>\n",
       "    <tr>\n",
       "      <td>0</td>\n",
       "      <td>10329302124590727494</td>\n",
       "      <td>2017-06-01 00:10:00</td>\n",
       "      <td>17.00</td>\n",
       "    </tr>\n",
       "    <tr>\n",
       "      <td>1</td>\n",
       "      <td>11627257723692907447</td>\n",
       "      <td>2017-06-01 00:25:00</td>\n",
       "      <td>0.55</td>\n",
       "    </tr>\n",
       "    <tr>\n",
       "      <td>2</td>\n",
       "      <td>17903680561304213844</td>\n",
       "      <td>2017-06-01 00:27:00</td>\n",
       "      <td>0.37</td>\n",
       "    </tr>\n",
       "    <tr>\n",
       "      <td>3</td>\n",
       "      <td>16109239769442553005</td>\n",
       "      <td>2017-06-01 00:29:00</td>\n",
       "      <td>0.55</td>\n",
       "    </tr>\n",
       "    <tr>\n",
       "      <td>4</td>\n",
       "      <td>14200605875248379450</td>\n",
       "      <td>2017-06-01 07:58:00</td>\n",
       "      <td>0.37</td>\n",
       "    </tr>\n",
       "  </tbody>\n",
       "</table>\n",
       "</div>"
      ],
      "text/plain": [
       "                    uid               buy_ts  revenue\n",
       "0  10329302124590727494  2017-06-01 00:10:00    17.00\n",
       "1  11627257723692907447  2017-06-01 00:25:00     0.55\n",
       "2  17903680561304213844  2017-06-01 00:27:00     0.37\n",
       "3  16109239769442553005  2017-06-01 00:29:00     0.55\n",
       "4  14200605875248379450  2017-06-01 07:58:00     0.37"
      ]
     },
     "execution_count": 15,
     "metadata": {},
     "output_type": "execute_result"
    }
   ],
   "source": [
    "orders.head()"
   ]
  },
  {
   "cell_type": "code",
   "execution_count": 16,
   "metadata": {},
   "outputs": [],
   "source": [
    "orders['buy_ts'] = pd.to_datetime(orders['buy_ts'], format = '%Y-%m-%d %H:%M:%S')"
   ]
  },
  {
   "cell_type": "code",
   "execution_count": 17,
   "metadata": {},
   "outputs": [
    {
     "name": "stdout",
     "output_type": "stream",
     "text": [
      "<class 'pandas.core.frame.DataFrame'>\n",
      "RangeIndex: 50415 entries, 0 to 50414\n",
      "Data columns (total 3 columns):\n",
      "uid        50415 non-null uint64\n",
      "buy_ts     50415 non-null datetime64[ns]\n",
      "revenue    50415 non-null float64\n",
      "dtypes: datetime64[ns](1), float64(1), uint64(1)\n",
      "memory usage: 1.2 MB\n"
     ]
    }
   ],
   "source": [
    "orders.info()"
   ]
  },
  {
   "cell_type": "code",
   "execution_count": 18,
   "metadata": {},
   "outputs": [
    {
     "data": {
      "text/plain": [
       "uid        0\n",
       "buy_ts     0\n",
       "revenue    0\n",
       "dtype: int64"
      ]
     },
     "execution_count": 18,
     "metadata": {},
     "output_type": "execute_result"
    }
   ],
   "source": [
    "orders.isnull().sum()"
   ]
  },
  {
   "cell_type": "code",
   "execution_count": 19,
   "metadata": {},
   "outputs": [
    {
     "data": {
      "text/plain": [
       "0"
      ]
     },
     "execution_count": 19,
     "metadata": {},
     "output_type": "execute_result"
    }
   ],
   "source": [
    "orders.duplicated().sum()"
   ]
  },
  {
   "cell_type": "markdown",
   "metadata": {},
   "source": [
    "#### Таблица costs<a name=\"step4\"></a>"
   ]
  },
  {
   "cell_type": "code",
   "execution_count": 20,
   "metadata": {},
   "outputs": [
    {
     "data": {
      "text/html": [
       "<div>\n",
       "<style scoped>\n",
       "    .dataframe tbody tr th:only-of-type {\n",
       "        vertical-align: middle;\n",
       "    }\n",
       "\n",
       "    .dataframe tbody tr th {\n",
       "        vertical-align: top;\n",
       "    }\n",
       "\n",
       "    .dataframe thead th {\n",
       "        text-align: right;\n",
       "    }\n",
       "</style>\n",
       "<table border=\"1\" class=\"dataframe\">\n",
       "  <thead>\n",
       "    <tr style=\"text-align: right;\">\n",
       "      <th></th>\n",
       "      <th>source_id</th>\n",
       "      <th>dt</th>\n",
       "      <th>costs</th>\n",
       "    </tr>\n",
       "  </thead>\n",
       "  <tbody>\n",
       "    <tr>\n",
       "      <td>0</td>\n",
       "      <td>1</td>\n",
       "      <td>2017-06-01</td>\n",
       "      <td>75.20</td>\n",
       "    </tr>\n",
       "    <tr>\n",
       "      <td>1</td>\n",
       "      <td>1</td>\n",
       "      <td>2017-06-02</td>\n",
       "      <td>62.25</td>\n",
       "    </tr>\n",
       "    <tr>\n",
       "      <td>2</td>\n",
       "      <td>1</td>\n",
       "      <td>2017-06-03</td>\n",
       "      <td>36.53</td>\n",
       "    </tr>\n",
       "    <tr>\n",
       "      <td>3</td>\n",
       "      <td>1</td>\n",
       "      <td>2017-06-04</td>\n",
       "      <td>55.00</td>\n",
       "    </tr>\n",
       "    <tr>\n",
       "      <td>4</td>\n",
       "      <td>1</td>\n",
       "      <td>2017-06-05</td>\n",
       "      <td>57.08</td>\n",
       "    </tr>\n",
       "  </tbody>\n",
       "</table>\n",
       "</div>"
      ],
      "text/plain": [
       "   source_id          dt  costs\n",
       "0          1  2017-06-01  75.20\n",
       "1          1  2017-06-02  62.25\n",
       "2          1  2017-06-03  36.53\n",
       "3          1  2017-06-04  55.00\n",
       "4          1  2017-06-05  57.08"
      ]
     },
     "execution_count": 20,
     "metadata": {},
     "output_type": "execute_result"
    }
   ],
   "source": [
    "costs.head()"
   ]
  },
  {
   "cell_type": "code",
   "execution_count": 21,
   "metadata": {},
   "outputs": [
    {
     "name": "stdout",
     "output_type": "stream",
     "text": [
      "<class 'pandas.core.frame.DataFrame'>\n",
      "RangeIndex: 2542 entries, 0 to 2541\n",
      "Data columns (total 3 columns):\n",
      "source_id    2542 non-null int64\n",
      "dt           2542 non-null object\n",
      "costs        2542 non-null float64\n",
      "dtypes: float64(1), int64(1), object(1)\n",
      "memory usage: 59.7+ KB\n"
     ]
    }
   ],
   "source": [
    "costs.info()"
   ]
  },
  {
   "cell_type": "code",
   "execution_count": 22,
   "metadata": {},
   "outputs": [],
   "source": [
    "costs.columns = ['source_id','date', 'costs']"
   ]
  },
  {
   "cell_type": "code",
   "execution_count": 23,
   "metadata": {},
   "outputs": [],
   "source": [
    "costs['date'] = pd.to_datetime(costs['date'], format = '%Y-%m-%d %H:%M:%S')"
   ]
  },
  {
   "cell_type": "code",
   "execution_count": 24,
   "metadata": {},
   "outputs": [
    {
     "name": "stdout",
     "output_type": "stream",
     "text": [
      "<class 'pandas.core.frame.DataFrame'>\n",
      "RangeIndex: 2542 entries, 0 to 2541\n",
      "Data columns (total 3 columns):\n",
      "source_id    2542 non-null int64\n",
      "date         2542 non-null datetime64[ns]\n",
      "costs        2542 non-null float64\n",
      "dtypes: datetime64[ns](1), float64(1), int64(1)\n",
      "memory usage: 59.7 KB\n"
     ]
    }
   ],
   "source": [
    "costs.info()"
   ]
  },
  {
   "cell_type": "code",
   "execution_count": 25,
   "metadata": {},
   "outputs": [
    {
     "data": {
      "text/plain": [
       "source_id    0\n",
       "date         0\n",
       "costs        0\n",
       "dtype: int64"
      ]
     },
     "execution_count": 25,
     "metadata": {},
     "output_type": "execute_result"
    }
   ],
   "source": [
    "costs.isnull().sum()"
   ]
  },
  {
   "cell_type": "code",
   "execution_count": 26,
   "metadata": {},
   "outputs": [
    {
     "data": {
      "text/plain": [
       "0"
      ]
     },
     "execution_count": 26,
     "metadata": {},
     "output_type": "execute_result"
    }
   ],
   "source": [
    "costs.duplicated().sum()"
   ]
  },
  {
   "cell_type": "markdown",
   "metadata": {},
   "source": [
    "Данные в таблицах чистые, без дубликатов и пропусков. Произведена процедура перевода дат в необходимый формат."
   ]
  },
  {
   "cell_type": "markdown",
   "metadata": {},
   "source": [
    "## Отчёты и метрики<a name=\"step5\"></a>"
   ]
  },
  {
   "cell_type": "markdown",
   "metadata": {},
   "source": [
    "### Продукт<a name=\"step6\"></a>"
   ]
  },
  {
   "cell_type": "markdown",
   "metadata": {},
   "source": [
    "#### Сколько людей пользуются в день, неделю, месяц?<a name=\"step7\"></a>"
   ]
  },
  {
   "cell_type": "code",
   "execution_count": 27,
   "metadata": {},
   "outputs": [
    {
     "data": {
      "text/html": [
       "<div>\n",
       "<style scoped>\n",
       "    .dataframe tbody tr th:only-of-type {\n",
       "        vertical-align: middle;\n",
       "    }\n",
       "\n",
       "    .dataframe tbody tr th {\n",
       "        vertical-align: top;\n",
       "    }\n",
       "\n",
       "    .dataframe thead th {\n",
       "        text-align: right;\n",
       "    }\n",
       "</style>\n",
       "<table border=\"1\" class=\"dataframe\">\n",
       "  <thead>\n",
       "    <tr style=\"text-align: right;\">\n",
       "      <th></th>\n",
       "      <th>uid</th>\n",
       "      <th>device</th>\n",
       "      <th>start_ts</th>\n",
       "      <th>end_ts</th>\n",
       "      <th>source_id</th>\n",
       "    </tr>\n",
       "  </thead>\n",
       "  <tbody>\n",
       "    <tr>\n",
       "      <td>0</td>\n",
       "      <td>16879256277535980062</td>\n",
       "      <td>touch</td>\n",
       "      <td>2017-12-20 17:20:00</td>\n",
       "      <td>2017-12-20 17:38:00</td>\n",
       "      <td>4</td>\n",
       "    </tr>\n",
       "    <tr>\n",
       "      <td>1</td>\n",
       "      <td>104060357244891740</td>\n",
       "      <td>desktop</td>\n",
       "      <td>2018-02-19 16:53:00</td>\n",
       "      <td>2018-02-19 17:21:00</td>\n",
       "      <td>2</td>\n",
       "    </tr>\n",
       "    <tr>\n",
       "      <td>2</td>\n",
       "      <td>7459035603376831527</td>\n",
       "      <td>touch</td>\n",
       "      <td>2017-07-01 01:54:00</td>\n",
       "      <td>2017-07-01 01:54:00</td>\n",
       "      <td>5</td>\n",
       "    </tr>\n",
       "    <tr>\n",
       "      <td>3</td>\n",
       "      <td>16174680259334210214</td>\n",
       "      <td>desktop</td>\n",
       "      <td>2018-05-20 10:59:00</td>\n",
       "      <td>2018-05-20 11:23:00</td>\n",
       "      <td>9</td>\n",
       "    </tr>\n",
       "    <tr>\n",
       "      <td>4</td>\n",
       "      <td>9969694820036681168</td>\n",
       "      <td>desktop</td>\n",
       "      <td>2017-12-27 14:06:00</td>\n",
       "      <td>2017-12-27 14:06:00</td>\n",
       "      <td>3</td>\n",
       "    </tr>\n",
       "  </tbody>\n",
       "</table>\n",
       "</div>"
      ],
      "text/plain": [
       "                    uid   device            start_ts              end_ts  \\\n",
       "0  16879256277535980062    touch 2017-12-20 17:20:00 2017-12-20 17:38:00   \n",
       "1    104060357244891740  desktop 2018-02-19 16:53:00 2018-02-19 17:21:00   \n",
       "2   7459035603376831527    touch 2017-07-01 01:54:00 2017-07-01 01:54:00   \n",
       "3  16174680259334210214  desktop 2018-05-20 10:59:00 2018-05-20 11:23:00   \n",
       "4   9969694820036681168  desktop 2017-12-27 14:06:00 2017-12-27 14:06:00   \n",
       "\n",
       "   source_id  \n",
       "0          4  \n",
       "1          2  \n",
       "2          5  \n",
       "3          9  \n",
       "4          3  "
      ]
     },
     "execution_count": 27,
     "metadata": {},
     "output_type": "execute_result"
    }
   ],
   "source": [
    "visits.head()"
   ]
  },
  {
   "cell_type": "markdown",
   "metadata": {},
   "source": [
    "Из столбца с датой выделяем в отдельные столбцы день, месяц, неделю и год"
   ]
  },
  {
   "cell_type": "code",
   "execution_count": 28,
   "metadata": {},
   "outputs": [],
   "source": [
    "visits['session_year']  = visits['start_ts'].dt.year\n",
    "visits['session_month'] = visits['start_ts'].dt.month\n",
    "visits['session_week']  = visits['start_ts'].dt.week\n",
    "visits['session_date'] = visits['start_ts'].dt.date"
   ]
  },
  {
   "cell_type": "code",
   "execution_count": 29,
   "metadata": {},
   "outputs": [
    {
     "data": {
      "text/html": [
       "<div>\n",
       "<style scoped>\n",
       "    .dataframe tbody tr th:only-of-type {\n",
       "        vertical-align: middle;\n",
       "    }\n",
       "\n",
       "    .dataframe tbody tr th {\n",
       "        vertical-align: top;\n",
       "    }\n",
       "\n",
       "    .dataframe thead th {\n",
       "        text-align: right;\n",
       "    }\n",
       "</style>\n",
       "<table border=\"1\" class=\"dataframe\">\n",
       "  <thead>\n",
       "    <tr style=\"text-align: right;\">\n",
       "      <th></th>\n",
       "      <th>uid</th>\n",
       "      <th>device</th>\n",
       "      <th>start_ts</th>\n",
       "      <th>end_ts</th>\n",
       "      <th>source_id</th>\n",
       "      <th>session_year</th>\n",
       "      <th>session_month</th>\n",
       "      <th>session_week</th>\n",
       "      <th>session_date</th>\n",
       "    </tr>\n",
       "  </thead>\n",
       "  <tbody>\n",
       "    <tr>\n",
       "      <td>0</td>\n",
       "      <td>16879256277535980062</td>\n",
       "      <td>touch</td>\n",
       "      <td>2017-12-20 17:20:00</td>\n",
       "      <td>2017-12-20 17:38:00</td>\n",
       "      <td>4</td>\n",
       "      <td>2017</td>\n",
       "      <td>12</td>\n",
       "      <td>51</td>\n",
       "      <td>2017-12-20</td>\n",
       "    </tr>\n",
       "    <tr>\n",
       "      <td>1</td>\n",
       "      <td>104060357244891740</td>\n",
       "      <td>desktop</td>\n",
       "      <td>2018-02-19 16:53:00</td>\n",
       "      <td>2018-02-19 17:21:00</td>\n",
       "      <td>2</td>\n",
       "      <td>2018</td>\n",
       "      <td>2</td>\n",
       "      <td>8</td>\n",
       "      <td>2018-02-19</td>\n",
       "    </tr>\n",
       "    <tr>\n",
       "      <td>2</td>\n",
       "      <td>7459035603376831527</td>\n",
       "      <td>touch</td>\n",
       "      <td>2017-07-01 01:54:00</td>\n",
       "      <td>2017-07-01 01:54:00</td>\n",
       "      <td>5</td>\n",
       "      <td>2017</td>\n",
       "      <td>7</td>\n",
       "      <td>26</td>\n",
       "      <td>2017-07-01</td>\n",
       "    </tr>\n",
       "    <tr>\n",
       "      <td>3</td>\n",
       "      <td>16174680259334210214</td>\n",
       "      <td>desktop</td>\n",
       "      <td>2018-05-20 10:59:00</td>\n",
       "      <td>2018-05-20 11:23:00</td>\n",
       "      <td>9</td>\n",
       "      <td>2018</td>\n",
       "      <td>5</td>\n",
       "      <td>20</td>\n",
       "      <td>2018-05-20</td>\n",
       "    </tr>\n",
       "    <tr>\n",
       "      <td>4</td>\n",
       "      <td>9969694820036681168</td>\n",
       "      <td>desktop</td>\n",
       "      <td>2017-12-27 14:06:00</td>\n",
       "      <td>2017-12-27 14:06:00</td>\n",
       "      <td>3</td>\n",
       "      <td>2017</td>\n",
       "      <td>12</td>\n",
       "      <td>52</td>\n",
       "      <td>2017-12-27</td>\n",
       "    </tr>\n",
       "  </tbody>\n",
       "</table>\n",
       "</div>"
      ],
      "text/plain": [
       "                    uid   device            start_ts              end_ts  \\\n",
       "0  16879256277535980062    touch 2017-12-20 17:20:00 2017-12-20 17:38:00   \n",
       "1    104060357244891740  desktop 2018-02-19 16:53:00 2018-02-19 17:21:00   \n",
       "2   7459035603376831527    touch 2017-07-01 01:54:00 2017-07-01 01:54:00   \n",
       "3  16174680259334210214  desktop 2018-05-20 10:59:00 2018-05-20 11:23:00   \n",
       "4   9969694820036681168  desktop 2017-12-27 14:06:00 2017-12-27 14:06:00   \n",
       "\n",
       "   source_id  session_year  session_month  session_week session_date  \n",
       "0          4          2017             12            51   2017-12-20  \n",
       "1          2          2018              2             8   2018-02-19  \n",
       "2          5          2017              7            26   2017-07-01  \n",
       "3          9          2018              5            20   2018-05-20  \n",
       "4          3          2017             12            52   2017-12-27  "
      ]
     },
     "execution_count": 29,
     "metadata": {},
     "output_type": "execute_result"
    }
   ],
   "source": [
    "visits.head()"
   ]
  },
  {
   "cell_type": "markdown",
   "metadata": {},
   "source": [
    "#### Среднее количество пользователей в день"
   ]
  },
  {
   "cell_type": "code",
   "execution_count": 30,
   "metadata": {},
   "outputs": [],
   "source": [
    "dau = visits.groupby(visits['start_ts'].astype('datetime64[D]')).agg({'uid': 'nunique'}).reset_index()"
   ]
  },
  {
   "cell_type": "code",
   "execution_count": 31,
   "metadata": {},
   "outputs": [
    {
     "data": {
      "text/plain": [
       "uid    907.991758\n",
       "dtype: float64"
      ]
     },
     "execution_count": 31,
     "metadata": {},
     "output_type": "execute_result"
    }
   ],
   "source": [
    "dau.mean()"
   ]
  },
  {
   "cell_type": "code",
   "execution_count": 32,
   "metadata": {},
   "outputs": [
    {
     "name": "stderr",
     "output_type": "stream",
     "text": [
      "/opt/conda/lib/python3.7/site-packages/pandas/plotting/_matplotlib/converter.py:103: FutureWarning: Using an implicitly registered datetime converter for a matplotlib plotting method. The converter was registered by pandas on import. Future versions of pandas will require you to explicitly register matplotlib converters.\n",
      "\n",
      "To register the converters:\n",
      "\t>>> from pandas.plotting import register_matplotlib_converters\n",
      "\t>>> register_matplotlib_converters()\n",
      "  warnings.warn(msg, FutureWarning)\n"
     ]
    },
    {
     "data": {
      "text/plain": [
       "<matplotlib.lines.Line2D at 0x7f1f8df09b10>"
      ]
     },
     "execution_count": 32,
     "metadata": {},
     "output_type": "execute_result"
    },
    {
     "data": {
      "image/png": "[encoded data removed]",
      "text/plain": [
       "<Figure size 1080x504 with 1 Axes>"
      ]
     },
     "metadata": {
      "needs_background": "light"
     },
     "output_type": "display_data"
    }
   ],
   "source": [
    "plt.figure(figsize=(15,7))\n",
    "plt.title('DAU duiring the year')\n",
    "plt.plot(dau['start_ts'], dau['uid'])\n",
    "plt.axhline(y = 907.991758, color = 'red')"
   ]
  },
  {
   "cell_type": "code",
   "execution_count": 33,
   "metadata": {},
   "outputs": [
    {
     "data": {
      "text/html": [
       "<div>\n",
       "<style scoped>\n",
       "    .dataframe tbody tr th:only-of-type {\n",
       "        vertical-align: middle;\n",
       "    }\n",
       "\n",
       "    .dataframe tbody tr th {\n",
       "        vertical-align: top;\n",
       "    }\n",
       "\n",
       "    .dataframe thead th {\n",
       "        text-align: right;\n",
       "    }\n",
       "</style>\n",
       "<table border=\"1\" class=\"dataframe\">\n",
       "  <thead>\n",
       "    <tr style=\"text-align: right;\">\n",
       "      <th></th>\n",
       "      <th>start_ts</th>\n",
       "      <th>uid</th>\n",
       "    </tr>\n",
       "  </thead>\n",
       "  <tbody>\n",
       "    <tr>\n",
       "      <td>176</td>\n",
       "      <td>2017-11-24</td>\n",
       "      <td>3319</td>\n",
       "    </tr>\n",
       "    <tr>\n",
       "      <td>363</td>\n",
       "      <td>2018-05-31</td>\n",
       "      <td>1997</td>\n",
       "    </tr>\n",
       "    <tr>\n",
       "      <td>177</td>\n",
       "      <td>2017-11-25</td>\n",
       "      <td>1817</td>\n",
       "    </tr>\n",
       "    <tr>\n",
       "      <td>245</td>\n",
       "      <td>2018-02-01</td>\n",
       "      <td>1640</td>\n",
       "    </tr>\n",
       "    <tr>\n",
       "      <td>298</td>\n",
       "      <td>2018-03-26</td>\n",
       "      <td>1609</td>\n",
       "    </tr>\n",
       "  </tbody>\n",
       "</table>\n",
       "</div>"
      ],
      "text/plain": [
       "      start_ts   uid\n",
       "176 2017-11-24  3319\n",
       "363 2018-05-31  1997\n",
       "177 2017-11-25  1817\n",
       "245 2018-02-01  1640\n",
       "298 2018-03-26  1609"
      ]
     },
     "execution_count": 33,
     "metadata": {},
     "output_type": "execute_result"
    }
   ],
   "source": [
    "dau.sort_values(by = 'uid', ascending = False).head()"
   ]
  },
  {
   "cell_type": "code",
   "execution_count": 34,
   "metadata": {},
   "outputs": [
    {
     "data": {
      "text/html": [
       "<div>\n",
       "<style scoped>\n",
       "    .dataframe tbody tr th:only-of-type {\n",
       "        vertical-align: middle;\n",
       "    }\n",
       "\n",
       "    .dataframe tbody tr th {\n",
       "        vertical-align: top;\n",
       "    }\n",
       "\n",
       "    .dataframe thead th {\n",
       "        text-align: right;\n",
       "    }\n",
       "</style>\n",
       "<table border=\"1\" class=\"dataframe\">\n",
       "  <thead>\n",
       "    <tr style=\"text-align: right;\">\n",
       "      <th></th>\n",
       "      <th>start_ts</th>\n",
       "      <th>uid</th>\n",
       "    </tr>\n",
       "  </thead>\n",
       "  <tbody>\n",
       "    <tr>\n",
       "      <td>303</td>\n",
       "      <td>2018-03-31</td>\n",
       "      <td>1</td>\n",
       "    </tr>\n",
       "    <tr>\n",
       "      <td>302</td>\n",
       "      <td>2018-03-30</td>\n",
       "      <td>131</td>\n",
       "    </tr>\n",
       "    <tr>\n",
       "      <td>72</td>\n",
       "      <td>2017-08-12</td>\n",
       "      <td>271</td>\n",
       "    </tr>\n",
       "    <tr>\n",
       "      <td>65</td>\n",
       "      <td>2017-08-05</td>\n",
       "      <td>280</td>\n",
       "    </tr>\n",
       "    <tr>\n",
       "      <td>73</td>\n",
       "      <td>2017-08-13</td>\n",
       "      <td>281</td>\n",
       "    </tr>\n",
       "  </tbody>\n",
       "</table>\n",
       "</div>"
      ],
      "text/plain": [
       "      start_ts  uid\n",
       "303 2018-03-31    1\n",
       "302 2018-03-30  131\n",
       "72  2017-08-12  271\n",
       "65  2017-08-05  280\n",
       "73  2017-08-13  281"
      ]
     },
     "execution_count": 34,
     "metadata": {},
     "output_type": "execute_result"
    }
   ],
   "source": [
    "dau.sort_values(by = 'uid', ascending = True).head()"
   ]
  },
  {
   "cell_type": "markdown",
   "metadata": {},
   "source": [
    "В конце ноября 2017 виден скачок как на графике, так и по таблице. В этот период пользователей за день было больше всего. В конце марта 2018 наоборот, меньше всего. В среднем, каждый день заходит около 900 человек"
   ]
  },
  {
   "cell_type": "markdown",
   "metadata": {},
   "source": [
    "#### Среднее количество пользователей в неделю"
   ]
  },
  {
   "cell_type": "code",
   "execution_count": 35,
   "metadata": {},
   "outputs": [],
   "source": [
    "wau = visits.groupby(visits['start_ts'].astype('datetime64[W]')).agg({'uid': 'nunique'}).reset_index()"
   ]
  },
  {
   "cell_type": "code",
   "execution_count": 36,
   "metadata": {},
   "outputs": [
    {
     "data": {
      "text/plain": [
       "uid    5724.415094\n",
       "dtype: float64"
      ]
     },
     "execution_count": 36,
     "metadata": {},
     "output_type": "execute_result"
    }
   ],
   "source": [
    "wau.mean()"
   ]
  },
  {
   "cell_type": "code",
   "execution_count": 37,
   "metadata": {
    "scrolled": true
   },
   "outputs": [
    {
     "data": {
      "text/plain": [
       "<matplotlib.lines.Line2D at 0x7f1f8d8055d0>"
      ]
     },
     "execution_count": 37,
     "metadata": {},
     "output_type": "execute_result"
    },
    {
     "data": {
      "image/png": "[encoded data removed]",
      "text/plain": [
       "<Figure size 1080x504 with 1 Axes>"
      ]
     },
     "metadata": {
      "needs_background": "light"
     },
     "output_type": "display_data"
    }
   ],
   "source": [
    "plt.figure(figsize=(15,7))\n",
    "plt.title('WAU duiring the year')\n",
    "plt.plot(wau['start_ts'], wau['uid'])\n",
    "plt.axhline(y = 5724.415094, color = 'red')"
   ]
  },
  {
   "cell_type": "code",
   "execution_count": 38,
   "metadata": {},
   "outputs": [
    {
     "data": {
      "text/html": [
       "<div>\n",
       "<style scoped>\n",
       "    .dataframe tbody tr th:only-of-type {\n",
       "        vertical-align: middle;\n",
       "    }\n",
       "\n",
       "    .dataframe tbody tr th {\n",
       "        vertical-align: top;\n",
       "    }\n",
       "\n",
       "    .dataframe thead th {\n",
       "        text-align: right;\n",
       "    }\n",
       "</style>\n",
       "<table border=\"1\" class=\"dataframe\">\n",
       "  <thead>\n",
       "    <tr style=\"text-align: right;\">\n",
       "      <th></th>\n",
       "      <th>start_ts</th>\n",
       "      <th>uid</th>\n",
       "    </tr>\n",
       "  </thead>\n",
       "  <tbody>\n",
       "    <tr>\n",
       "      <td>25</td>\n",
       "      <td>2017-11-23</td>\n",
       "      <td>10716</td>\n",
       "    </tr>\n",
       "    <tr>\n",
       "      <td>27</td>\n",
       "      <td>2017-12-07</td>\n",
       "      <td>8575</td>\n",
       "    </tr>\n",
       "    <tr>\n",
       "      <td>42</td>\n",
       "      <td>2018-03-22</td>\n",
       "      <td>8486</td>\n",
       "    </tr>\n",
       "    <tr>\n",
       "      <td>24</td>\n",
       "      <td>2017-11-16</td>\n",
       "      <td>8294</td>\n",
       "    </tr>\n",
       "    <tr>\n",
       "      <td>36</td>\n",
       "      <td>2018-02-08</td>\n",
       "      <td>8218</td>\n",
       "    </tr>\n",
       "  </tbody>\n",
       "</table>\n",
       "</div>"
      ],
      "text/plain": [
       "     start_ts    uid\n",
       "25 2017-11-23  10716\n",
       "27 2017-12-07   8575\n",
       "42 2018-03-22   8486\n",
       "24 2017-11-16   8294\n",
       "36 2018-02-08   8218"
      ]
     },
     "execution_count": 38,
     "metadata": {},
     "output_type": "execute_result"
    }
   ],
   "source": [
    "wau.sort_values(by = 'uid', ascending = False).head()"
   ]
  },
  {
   "cell_type": "code",
   "execution_count": 39,
   "metadata": {},
   "outputs": [
    {
     "data": {
      "text/html": [
       "<div>\n",
       "<style scoped>\n",
       "    .dataframe tbody tr th:only-of-type {\n",
       "        vertical-align: middle;\n",
       "    }\n",
       "\n",
       "    .dataframe tbody tr th {\n",
       "        vertical-align: top;\n",
       "    }\n",
       "\n",
       "    .dataframe thead th {\n",
       "        text-align: right;\n",
       "    }\n",
       "</style>\n",
       "<table border=\"1\" class=\"dataframe\">\n",
       "  <thead>\n",
       "    <tr style=\"text-align: right;\">\n",
       "      <th></th>\n",
       "      <th>start_ts</th>\n",
       "      <th>uid</th>\n",
       "    </tr>\n",
       "  </thead>\n",
       "  <tbody>\n",
       "    <tr>\n",
       "      <td>52</td>\n",
       "      <td>2018-05-31</td>\n",
       "      <td>1997</td>\n",
       "    </tr>\n",
       "    <tr>\n",
       "      <td>9</td>\n",
       "      <td>2017-08-03</td>\n",
       "      <td>2343</td>\n",
       "    </tr>\n",
       "    <tr>\n",
       "      <td>8</td>\n",
       "      <td>2017-07-27</td>\n",
       "      <td>2505</td>\n",
       "    </tr>\n",
       "    <tr>\n",
       "      <td>10</td>\n",
       "      <td>2017-08-10</td>\n",
       "      <td>2658</td>\n",
       "    </tr>\n",
       "    <tr>\n",
       "      <td>2</td>\n",
       "      <td>2017-06-15</td>\n",
       "      <td>2844</td>\n",
       "    </tr>\n",
       "  </tbody>\n",
       "</table>\n",
       "</div>"
      ],
      "text/plain": [
       "     start_ts   uid\n",
       "52 2018-05-31  1997\n",
       "9  2017-08-03  2343\n",
       "8  2017-07-27  2505\n",
       "10 2017-08-10  2658\n",
       "2  2017-06-15  2844"
      ]
     },
     "execution_count": 39,
     "metadata": {},
     "output_type": "execute_result"
    }
   ],
   "source": [
    "wau.sort_values(by = 'uid', ascending = True).head()"
   ]
  },
  {
   "cell_type": "markdown",
   "metadata": {},
   "source": [
    "Самое большое количество людей за неделю пришлось на конец ноября 2017. На конец мая 2018- самое маленькое. В среднем заходили почти 6000 раз в неделю"
   ]
  },
  {
   "cell_type": "markdown",
   "metadata": {},
   "source": [
    "#### Среднее количество пользователей в месяц"
   ]
  },
  {
   "cell_type": "code",
   "execution_count": 40,
   "metadata": {},
   "outputs": [],
   "source": [
    "mau = visits.groupby(visits['start_ts'].astype('datetime64[M]')).agg({'uid': 'nunique'}).reset_index()"
   ]
  },
  {
   "cell_type": "code",
   "execution_count": 41,
   "metadata": {},
   "outputs": [
    {
     "data": {
      "text/plain": [
       "uid    23228.416667\n",
       "dtype: float64"
      ]
     },
     "execution_count": 41,
     "metadata": {},
     "output_type": "execute_result"
    }
   ],
   "source": [
    "mau.mean()"
   ]
  },
  {
   "cell_type": "code",
   "execution_count": 42,
   "metadata": {},
   "outputs": [
    {
     "data": {
      "text/plain": [
       "<matplotlib.lines.Line2D at 0x7f1f8d77b590>"
      ]
     },
     "execution_count": 42,
     "metadata": {},
     "output_type": "execute_result"
    },
    {
     "data": {
      "image/png": "[encoded data removed]",
      "text/plain": [
       "<Figure size 1080x504 with 1 Axes>"
      ]
     },
     "metadata": {
      "needs_background": "light"
     },
     "output_type": "display_data"
    }
   ],
   "source": [
    "plt.figure(figsize=(15,7))\n",
    "plt.title('MAU duiring the year')\n",
    "plt.plot(mau['start_ts'], mau['uid'])\n",
    "plt.axhline(y = 23228.416667, color = 'red')"
   ]
  },
  {
   "cell_type": "code",
   "execution_count": 43,
   "metadata": {},
   "outputs": [
    {
     "data": {
      "text/html": [
       "<div>\n",
       "<style scoped>\n",
       "    .dataframe tbody tr th:only-of-type {\n",
       "        vertical-align: middle;\n",
       "    }\n",
       "\n",
       "    .dataframe tbody tr th {\n",
       "        vertical-align: top;\n",
       "    }\n",
       "\n",
       "    .dataframe thead th {\n",
       "        text-align: right;\n",
       "    }\n",
       "</style>\n",
       "<table border=\"1\" class=\"dataframe\">\n",
       "  <thead>\n",
       "    <tr style=\"text-align: right;\">\n",
       "      <th></th>\n",
       "      <th>start_ts</th>\n",
       "      <th>uid</th>\n",
       "    </tr>\n",
       "  </thead>\n",
       "  <tbody>\n",
       "    <tr>\n",
       "      <td>5</td>\n",
       "      <td>2017-11-01</td>\n",
       "      <td>32797</td>\n",
       "    </tr>\n",
       "    <tr>\n",
       "      <td>6</td>\n",
       "      <td>2017-12-01</td>\n",
       "      <td>31557</td>\n",
       "    </tr>\n",
       "    <tr>\n",
       "      <td>4</td>\n",
       "      <td>2017-10-01</td>\n",
       "      <td>29692</td>\n",
       "    </tr>\n",
       "    <tr>\n",
       "      <td>8</td>\n",
       "      <td>2018-02-01</td>\n",
       "      <td>28749</td>\n",
       "    </tr>\n",
       "    <tr>\n",
       "      <td>7</td>\n",
       "      <td>2018-01-01</td>\n",
       "      <td>28716</td>\n",
       "    </tr>\n",
       "  </tbody>\n",
       "</table>\n",
       "</div>"
      ],
      "text/plain": [
       "    start_ts    uid\n",
       "5 2017-11-01  32797\n",
       "6 2017-12-01  31557\n",
       "4 2017-10-01  29692\n",
       "8 2018-02-01  28749\n",
       "7 2018-01-01  28716"
      ]
     },
     "execution_count": 43,
     "metadata": {},
     "output_type": "execute_result"
    }
   ],
   "source": [
    "mau.sort_values(by = 'uid', ascending = False).head()"
   ]
  },
  {
   "cell_type": "code",
   "execution_count": 44,
   "metadata": {},
   "outputs": [
    {
     "data": {
      "text/html": [
       "<div>\n",
       "<style scoped>\n",
       "    .dataframe tbody tr th:only-of-type {\n",
       "        vertical-align: middle;\n",
       "    }\n",
       "\n",
       "    .dataframe tbody tr th {\n",
       "        vertical-align: top;\n",
       "    }\n",
       "\n",
       "    .dataframe thead th {\n",
       "        text-align: right;\n",
       "    }\n",
       "</style>\n",
       "<table border=\"1\" class=\"dataframe\">\n",
       "  <thead>\n",
       "    <tr style=\"text-align: right;\">\n",
       "      <th></th>\n",
       "      <th>start_ts</th>\n",
       "      <th>uid</th>\n",
       "    </tr>\n",
       "  </thead>\n",
       "  <tbody>\n",
       "    <tr>\n",
       "      <td>2</td>\n",
       "      <td>2017-08-01</td>\n",
       "      <td>11631</td>\n",
       "    </tr>\n",
       "    <tr>\n",
       "      <td>0</td>\n",
       "      <td>2017-06-01</td>\n",
       "      <td>13259</td>\n",
       "    </tr>\n",
       "    <tr>\n",
       "      <td>1</td>\n",
       "      <td>2017-07-01</td>\n",
       "      <td>14183</td>\n",
       "    </tr>\n",
       "    <tr>\n",
       "      <td>3</td>\n",
       "      <td>2017-09-01</td>\n",
       "      <td>18975</td>\n",
       "    </tr>\n",
       "    <tr>\n",
       "      <td>11</td>\n",
       "      <td>2018-05-01</td>\n",
       "      <td>20701</td>\n",
       "    </tr>\n",
       "  </tbody>\n",
       "</table>\n",
       "</div>"
      ],
      "text/plain": [
       "     start_ts    uid\n",
       "2  2017-08-01  11631\n",
       "0  2017-06-01  13259\n",
       "1  2017-07-01  14183\n",
       "3  2017-09-01  18975\n",
       "11 2018-05-01  20701"
      ]
     },
     "execution_count": 44,
     "metadata": {},
     "output_type": "execute_result"
    }
   ],
   "source": [
    "mau.sort_values(by = 'uid', ascending = True).head()"
   ]
  },
  {
   "cell_type": "markdown",
   "metadata": {},
   "source": [
    "Самое большое количество людей за месяц пришлось на конец ноября. На конец августа 2017-самое маленькое. В среднем заходили почти 23000 раз в неделю"
   ]
  },
  {
   "cell_type": "markdown",
   "metadata": {},
   "source": [
    "#### Сколько сессий в день?<a name=\"step8\"></a>"
   ]
  },
  {
   "cell_type": "code",
   "execution_count": 45,
   "metadata": {},
   "outputs": [],
   "source": [
    "sessions_per_day = visits.groupby('session_date').agg({'uid': 'count'}).reset_index()"
   ]
  },
  {
   "cell_type": "code",
   "execution_count": 46,
   "metadata": {},
   "outputs": [
    {
     "data": {
      "text/plain": [
       "uid    987.362637\n",
       "dtype: float64"
      ]
     },
     "execution_count": 46,
     "metadata": {},
     "output_type": "execute_result"
    }
   ],
   "source": [
    "sessions_per_day.mean()"
   ]
  },
  {
   "cell_type": "code",
   "execution_count": 47,
   "metadata": {},
   "outputs": [
    {
     "data": {
      "text/html": [
       "<div>\n",
       "<style scoped>\n",
       "    .dataframe tbody tr th:only-of-type {\n",
       "        vertical-align: middle;\n",
       "    }\n",
       "\n",
       "    .dataframe tbody tr th {\n",
       "        vertical-align: top;\n",
       "    }\n",
       "\n",
       "    .dataframe thead th {\n",
       "        text-align: right;\n",
       "    }\n",
       "</style>\n",
       "<table border=\"1\" class=\"dataframe\">\n",
       "  <thead>\n",
       "    <tr style=\"text-align: right;\">\n",
       "      <th></th>\n",
       "      <th>session_date</th>\n",
       "      <th>uid</th>\n",
       "    </tr>\n",
       "  </thead>\n",
       "  <tbody>\n",
       "    <tr>\n",
       "      <td>176</td>\n",
       "      <td>2017-11-24</td>\n",
       "      <td>4042</td>\n",
       "    </tr>\n",
       "    <tr>\n",
       "      <td>363</td>\n",
       "      <td>2018-05-31</td>\n",
       "      <td>2256</td>\n",
       "    </tr>\n",
       "    <tr>\n",
       "      <td>177</td>\n",
       "      <td>2017-11-25</td>\n",
       "      <td>2089</td>\n",
       "    </tr>\n",
       "    <tr>\n",
       "      <td>245</td>\n",
       "      <td>2018-02-01</td>\n",
       "      <td>1878</td>\n",
       "    </tr>\n",
       "    <tr>\n",
       "      <td>298</td>\n",
       "      <td>2018-03-26</td>\n",
       "      <td>1796</td>\n",
       "    </tr>\n",
       "  </tbody>\n",
       "</table>\n",
       "</div>"
      ],
      "text/plain": [
       "    session_date   uid\n",
       "176   2017-11-24  4042\n",
       "363   2018-05-31  2256\n",
       "177   2017-11-25  2089\n",
       "245   2018-02-01  1878\n",
       "298   2018-03-26  1796"
      ]
     },
     "execution_count": 47,
     "metadata": {},
     "output_type": "execute_result"
    }
   ],
   "source": [
    "sessions_per_day.sort_values(by = 'uid', ascending = False).head()"
   ]
  },
  {
   "cell_type": "code",
   "execution_count": 48,
   "metadata": {},
   "outputs": [
    {
     "data": {
      "text/html": [
       "<div>\n",
       "<style scoped>\n",
       "    .dataframe tbody tr th:only-of-type {\n",
       "        vertical-align: middle;\n",
       "    }\n",
       "\n",
       "    .dataframe tbody tr th {\n",
       "        vertical-align: top;\n",
       "    }\n",
       "\n",
       "    .dataframe thead th {\n",
       "        text-align: right;\n",
       "    }\n",
       "</style>\n",
       "<table border=\"1\" class=\"dataframe\">\n",
       "  <thead>\n",
       "    <tr style=\"text-align: right;\">\n",
       "      <th></th>\n",
       "      <th>session_date</th>\n",
       "      <th>uid</th>\n",
       "    </tr>\n",
       "  </thead>\n",
       "  <tbody>\n",
       "    <tr>\n",
       "      <td>303</td>\n",
       "      <td>2018-03-31</td>\n",
       "      <td>1</td>\n",
       "    </tr>\n",
       "    <tr>\n",
       "      <td>302</td>\n",
       "      <td>2018-03-30</td>\n",
       "      <td>134</td>\n",
       "    </tr>\n",
       "    <tr>\n",
       "      <td>73</td>\n",
       "      <td>2017-08-13</td>\n",
       "      <td>293</td>\n",
       "    </tr>\n",
       "    <tr>\n",
       "      <td>72</td>\n",
       "      <td>2017-08-12</td>\n",
       "      <td>296</td>\n",
       "    </tr>\n",
       "    <tr>\n",
       "      <td>66</td>\n",
       "      <td>2017-08-06</td>\n",
       "      <td>296</td>\n",
       "    </tr>\n",
       "  </tbody>\n",
       "</table>\n",
       "</div>"
      ],
      "text/plain": [
       "    session_date  uid\n",
       "303   2018-03-31    1\n",
       "302   2018-03-30  134\n",
       "73    2017-08-13  293\n",
       "72    2017-08-12  296\n",
       "66    2017-08-06  296"
      ]
     },
     "execution_count": 48,
     "metadata": {},
     "output_type": "execute_result"
    }
   ],
   "source": [
    "sessions_per_day.sort_values(by = 'uid', ascending = True).head()"
   ]
  },
  {
   "cell_type": "code",
   "execution_count": 49,
   "metadata": {},
   "outputs": [
    {
     "data": {
      "text/plain": [
       "<matplotlib.lines.Line2D at 0x7f1f8d6ef810>"
      ]
     },
     "execution_count": 49,
     "metadata": {},
     "output_type": "execute_result"
    },
    {
     "data": {
      "image/png": "[encoded data removed]",
      "text/plain": [
       "<Figure size 1080x504 with 1 Axes>"
      ]
     },
     "metadata": {
      "needs_background": "light"
     },
     "output_type": "display_data"
    }
   ],
   "source": [
    "plt.figure(figsize=(15,7))\n",
    "plt.title('Sessions per day')\n",
    "plt.plot(sessions_per_day['session_date'], sessions_per_day['uid'])\n",
    "plt.axhline(y =  987.362637, color = 'red')"
   ]
  },
  {
   "cell_type": "code",
   "execution_count": 50,
   "metadata": {},
   "outputs": [
    {
     "data": {
      "text/html": [
       "<div>\n",
       "<style scoped>\n",
       "    .dataframe tbody tr th:only-of-type {\n",
       "        vertical-align: middle;\n",
       "    }\n",
       "\n",
       "    .dataframe tbody tr th {\n",
       "        vertical-align: top;\n",
       "    }\n",
       "\n",
       "    .dataframe thead th {\n",
       "        text-align: right;\n",
       "    }\n",
       "</style>\n",
       "<table border=\"1\" class=\"dataframe\">\n",
       "  <thead>\n",
       "    <tr style=\"text-align: right;\">\n",
       "      <th></th>\n",
       "      <th>session_date</th>\n",
       "      <th>uid</th>\n",
       "    </tr>\n",
       "  </thead>\n",
       "  <tbody>\n",
       "    <tr>\n",
       "      <td>176</td>\n",
       "      <td>2017-11-24</td>\n",
       "      <td>4042</td>\n",
       "    </tr>\n",
       "    <tr>\n",
       "      <td>363</td>\n",
       "      <td>2018-05-31</td>\n",
       "      <td>2256</td>\n",
       "    </tr>\n",
       "    <tr>\n",
       "      <td>177</td>\n",
       "      <td>2017-11-25</td>\n",
       "      <td>2089</td>\n",
       "    </tr>\n",
       "    <tr>\n",
       "      <td>245</td>\n",
       "      <td>2018-02-01</td>\n",
       "      <td>1878</td>\n",
       "    </tr>\n",
       "    <tr>\n",
       "      <td>298</td>\n",
       "      <td>2018-03-26</td>\n",
       "      <td>1796</td>\n",
       "    </tr>\n",
       "  </tbody>\n",
       "</table>\n",
       "</div>"
      ],
      "text/plain": [
       "    session_date   uid\n",
       "176   2017-11-24  4042\n",
       "363   2018-05-31  2256\n",
       "177   2017-11-25  2089\n",
       "245   2018-02-01  1878\n",
       "298   2018-03-26  1796"
      ]
     },
     "execution_count": 50,
     "metadata": {},
     "output_type": "execute_result"
    }
   ],
   "source": [
    "sessions_per_day.sort_values(by = 'uid', ascending = False).head()"
   ]
  },
  {
   "cell_type": "code",
   "execution_count": 51,
   "metadata": {},
   "outputs": [
    {
     "data": {
      "text/html": [
       "<div>\n",
       "<style scoped>\n",
       "    .dataframe tbody tr th:only-of-type {\n",
       "        vertical-align: middle;\n",
       "    }\n",
       "\n",
       "    .dataframe tbody tr th {\n",
       "        vertical-align: top;\n",
       "    }\n",
       "\n",
       "    .dataframe thead th {\n",
       "        text-align: right;\n",
       "    }\n",
       "</style>\n",
       "<table border=\"1\" class=\"dataframe\">\n",
       "  <thead>\n",
       "    <tr style=\"text-align: right;\">\n",
       "      <th></th>\n",
       "      <th>session_date</th>\n",
       "      <th>uid</th>\n",
       "    </tr>\n",
       "  </thead>\n",
       "  <tbody>\n",
       "    <tr>\n",
       "      <td>303</td>\n",
       "      <td>2018-03-31</td>\n",
       "      <td>1</td>\n",
       "    </tr>\n",
       "    <tr>\n",
       "      <td>302</td>\n",
       "      <td>2018-03-30</td>\n",
       "      <td>134</td>\n",
       "    </tr>\n",
       "    <tr>\n",
       "      <td>73</td>\n",
       "      <td>2017-08-13</td>\n",
       "      <td>293</td>\n",
       "    </tr>\n",
       "    <tr>\n",
       "      <td>72</td>\n",
       "      <td>2017-08-12</td>\n",
       "      <td>296</td>\n",
       "    </tr>\n",
       "    <tr>\n",
       "      <td>66</td>\n",
       "      <td>2017-08-06</td>\n",
       "      <td>296</td>\n",
       "    </tr>\n",
       "  </tbody>\n",
       "</table>\n",
       "</div>"
      ],
      "text/plain": [
       "    session_date  uid\n",
       "303   2018-03-31    1\n",
       "302   2018-03-30  134\n",
       "73    2017-08-13  293\n",
       "72    2017-08-12  296\n",
       "66    2017-08-06  296"
      ]
     },
     "execution_count": 51,
     "metadata": {},
     "output_type": "execute_result"
    }
   ],
   "source": [
    "sessions_per_day.sort_values(by = 'uid', ascending = True).head()"
   ]
  },
  {
   "cell_type": "markdown",
   "metadata": {},
   "source": [
    "Данные показатели, опять же, говорят о том, что в конце ноября самая большая активность. Не знаю, с чем это может быть связано"
   ]
  },
  {
   "cell_type": "markdown",
   "metadata": {},
   "source": [
    "В общем и целом, дела в 2018 году шли почти также, как и в 2017. Были как спады, так и подъемы. Но, почему то, в конце ноября 2017 года общая картина пошла на спад."
   ]
  },
  {
   "cell_type": "markdown",
   "metadata": {},
   "source": [
    "#### Сколько длится одна сессия?<a name=\"step9\"></a>"
   ]
  },
  {
   "cell_type": "code",
   "execution_count": 52,
   "metadata": {},
   "outputs": [],
   "source": [
    "visits['session_duration_sec'] = (visits['end_ts'] - visits['start_ts']).dt.seconds"
   ]
  },
  {
   "cell_type": "code",
   "execution_count": 53,
   "metadata": {},
   "outputs": [
    {
     "data": {
      "text/plain": [
       "643.506488592098"
      ]
     },
     "execution_count": 53,
     "metadata": {},
     "output_type": "execute_result"
    }
   ],
   "source": [
    "#в секундах\n",
    "visits['session_duration_sec'].mean()"
   ]
  },
  {
   "cell_type": "code",
   "execution_count": 54,
   "metadata": {},
   "outputs": [
    {
     "data": {
      "text/plain": [
       "10.725108143201632"
      ]
     },
     "execution_count": 54,
     "metadata": {},
     "output_type": "execute_result"
    }
   ],
   "source": [
    "#в минутах\n",
    "visits['session_duration_sec'].mean()/60"
   ]
  },
  {
   "cell_type": "code",
   "execution_count": 55,
   "metadata": {},
   "outputs": [
    {
     "data": {
      "text/plain": [
       "<matplotlib.axes._subplots.AxesSubplot at 0x7f1f8d6e2490>"
      ]
     },
     "execution_count": 55,
     "metadata": {},
     "output_type": "execute_result"
    },
    {
     "data": {
      "image/png": "[encoded data removed]",
      "text/plain": [
       "<Figure size 432x288 with 1 Axes>"
      ]
     },
     "metadata": {
      "needs_background": "light"
     },
     "output_type": "display_data"
    }
   ],
   "source": [
    "visits['session_duration_sec'].hist(bins=10, range=(0, 1500))"
   ]
  },
  {
   "cell_type": "markdown",
   "metadata": {},
   "source": [
    "Рассчитаем еще и по моду (значение в выборке, которое встречается чаще всего)"
   ]
  },
  {
   "cell_type": "code",
   "execution_count": 56,
   "metadata": {},
   "outputs": [
    {
     "data": {
      "text/plain": [
       "0    60\n",
       "dtype: int64"
      ]
     },
     "execution_count": 56,
     "metadata": {},
     "output_type": "execute_result"
    }
   ],
   "source": [
    "#в секундах\n",
    "visits['session_duration_sec'].mode()"
   ]
  },
  {
   "cell_type": "code",
   "execution_count": 57,
   "metadata": {},
   "outputs": [
    {
     "data": {
      "text/plain": [
       "0    1.0\n",
       "dtype: float64"
      ]
     },
     "execution_count": 57,
     "metadata": {},
     "output_type": "execute_result"
    }
   ],
   "source": [
    "#в минутах\n",
    "visits['session_duration_sec'].mode()/60"
   ]
  },
  {
   "cell_type": "markdown",
   "metadata": {},
   "source": [
    "Одна сессия длится, в среднем, почти 11 минут, по моду 1 минуту."
   ]
  },
  {
   "cell_type": "markdown",
   "metadata": {},
   "source": [
    "В общем и целом, мне кажется, что 11 минут вполне достаточно для того, что бы купить билет. Одна минута-ну очень мало. Наверное они зашли и резко передумали или по ошибке нажали не на ту вкладку"
   ]
  },
  {
   "cell_type": "markdown",
   "metadata": {},
   "source": [
    "#### Как часто люди возвращаются?<a name=\"step10\"></a>"
   ]
  },
  {
   "cell_type": "code",
   "execution_count": 58,
   "metadata": {},
   "outputs": [
    {
     "data": {
      "text/html": [
       "<div>\n",
       "<style scoped>\n",
       "    .dataframe tbody tr th:only-of-type {\n",
       "        vertical-align: middle;\n",
       "    }\n",
       "\n",
       "    .dataframe tbody tr th {\n",
       "        vertical-align: top;\n",
       "    }\n",
       "\n",
       "    .dataframe thead th {\n",
       "        text-align: right;\n",
       "    }\n",
       "</style>\n",
       "<table border=\"1\" class=\"dataframe\">\n",
       "  <thead>\n",
       "    <tr style=\"text-align: right;\">\n",
       "      <th></th>\n",
       "      <th>uid</th>\n",
       "      <th>device</th>\n",
       "      <th>start_ts</th>\n",
       "      <th>end_ts</th>\n",
       "      <th>source_id</th>\n",
       "      <th>session_year</th>\n",
       "      <th>session_month</th>\n",
       "      <th>session_week</th>\n",
       "      <th>session_date</th>\n",
       "      <th>session_duration_sec</th>\n",
       "    </tr>\n",
       "  </thead>\n",
       "  <tbody>\n",
       "    <tr>\n",
       "      <td>0</td>\n",
       "      <td>16879256277535980062</td>\n",
       "      <td>touch</td>\n",
       "      <td>2017-12-20 17:20:00</td>\n",
       "      <td>2017-12-20 17:38:00</td>\n",
       "      <td>4</td>\n",
       "      <td>2017</td>\n",
       "      <td>12</td>\n",
       "      <td>51</td>\n",
       "      <td>2017-12-20</td>\n",
       "      <td>1080</td>\n",
       "    </tr>\n",
       "    <tr>\n",
       "      <td>1</td>\n",
       "      <td>104060357244891740</td>\n",
       "      <td>desktop</td>\n",
       "      <td>2018-02-19 16:53:00</td>\n",
       "      <td>2018-02-19 17:21:00</td>\n",
       "      <td>2</td>\n",
       "      <td>2018</td>\n",
       "      <td>2</td>\n",
       "      <td>8</td>\n",
       "      <td>2018-02-19</td>\n",
       "      <td>1680</td>\n",
       "    </tr>\n",
       "    <tr>\n",
       "      <td>2</td>\n",
       "      <td>7459035603376831527</td>\n",
       "      <td>touch</td>\n",
       "      <td>2017-07-01 01:54:00</td>\n",
       "      <td>2017-07-01 01:54:00</td>\n",
       "      <td>5</td>\n",
       "      <td>2017</td>\n",
       "      <td>7</td>\n",
       "      <td>26</td>\n",
       "      <td>2017-07-01</td>\n",
       "      <td>0</td>\n",
       "    </tr>\n",
       "    <tr>\n",
       "      <td>3</td>\n",
       "      <td>16174680259334210214</td>\n",
       "      <td>desktop</td>\n",
       "      <td>2018-05-20 10:59:00</td>\n",
       "      <td>2018-05-20 11:23:00</td>\n",
       "      <td>9</td>\n",
       "      <td>2018</td>\n",
       "      <td>5</td>\n",
       "      <td>20</td>\n",
       "      <td>2018-05-20</td>\n",
       "      <td>1440</td>\n",
       "    </tr>\n",
       "    <tr>\n",
       "      <td>4</td>\n",
       "      <td>9969694820036681168</td>\n",
       "      <td>desktop</td>\n",
       "      <td>2017-12-27 14:06:00</td>\n",
       "      <td>2017-12-27 14:06:00</td>\n",
       "      <td>3</td>\n",
       "      <td>2017</td>\n",
       "      <td>12</td>\n",
       "      <td>52</td>\n",
       "      <td>2017-12-27</td>\n",
       "      <td>0</td>\n",
       "    </tr>\n",
       "  </tbody>\n",
       "</table>\n",
       "</div>"
      ],
      "text/plain": [
       "                    uid   device            start_ts              end_ts  \\\n",
       "0  16879256277535980062    touch 2017-12-20 17:20:00 2017-12-20 17:38:00   \n",
       "1    104060357244891740  desktop 2018-02-19 16:53:00 2018-02-19 17:21:00   \n",
       "2   7459035603376831527    touch 2017-07-01 01:54:00 2017-07-01 01:54:00   \n",
       "3  16174680259334210214  desktop 2018-05-20 10:59:00 2018-05-20 11:23:00   \n",
       "4   9969694820036681168  desktop 2017-12-27 14:06:00 2017-12-27 14:06:00   \n",
       "\n",
       "   source_id  session_year  session_month  session_week session_date  \\\n",
       "0          4          2017             12            51   2017-12-20   \n",
       "1          2          2018              2             8   2018-02-19   \n",
       "2          5          2017              7            26   2017-07-01   \n",
       "3          9          2018              5            20   2018-05-20   \n",
       "4          3          2017             12            52   2017-12-27   \n",
       "\n",
       "   session_duration_sec  \n",
       "0                  1080  \n",
       "1                  1680  \n",
       "2                     0  \n",
       "3                  1440  \n",
       "4                     0  "
      ]
     },
     "execution_count": 58,
     "metadata": {},
     "output_type": "execute_result"
    }
   ],
   "source": [
    "visits.head()"
   ]
  },
  {
   "cell_type": "code",
   "execution_count": 59,
   "metadata": {},
   "outputs": [
    {
     "data": {
      "text/plain": [
       "uid\n",
       "11863502262781    2018-03-01 17:27:00\n",
       "49537067089222    2018-02-06 15:55:00\n",
       "297729379853735   2017-06-07 18:47:00\n",
       "313578113262317   2017-09-18 22:49:00\n",
       "325320750514679   2017-09-30 14:29:00\n",
       "Name: start_ts, dtype: datetime64[ns]"
      ]
     },
     "execution_count": 59,
     "metadata": {},
     "output_type": "execute_result"
    }
   ],
   "source": [
    "first_time_session= visits.groupby('uid')['start_ts'].min()\n",
    "first_time_session.head()"
   ]
  },
  {
   "cell_type": "code",
   "execution_count": 60,
   "metadata": {},
   "outputs": [],
   "source": [
    "first_time_session.name = 'first_time_session'\n",
    "visits = visits.join(first_time_session, on = 'uid') "
   ]
  },
  {
   "cell_type": "code",
   "execution_count": 61,
   "metadata": {},
   "outputs": [
    {
     "data": {
      "text/html": [
       "<div>\n",
       "<style scoped>\n",
       "    .dataframe tbody tr th:only-of-type {\n",
       "        vertical-align: middle;\n",
       "    }\n",
       "\n",
       "    .dataframe tbody tr th {\n",
       "        vertical-align: top;\n",
       "    }\n",
       "\n",
       "    .dataframe thead th {\n",
       "        text-align: right;\n",
       "    }\n",
       "</style>\n",
       "<table border=\"1\" class=\"dataframe\">\n",
       "  <thead>\n",
       "    <tr style=\"text-align: right;\">\n",
       "      <th></th>\n",
       "      <th>uid</th>\n",
       "      <th>device</th>\n",
       "      <th>start_ts</th>\n",
       "      <th>end_ts</th>\n",
       "      <th>source_id</th>\n",
       "      <th>session_year</th>\n",
       "      <th>session_month</th>\n",
       "      <th>session_week</th>\n",
       "      <th>session_date</th>\n",
       "      <th>session_duration_sec</th>\n",
       "      <th>first_time_session</th>\n",
       "    </tr>\n",
       "  </thead>\n",
       "  <tbody>\n",
       "    <tr>\n",
       "      <td>0</td>\n",
       "      <td>16879256277535980062</td>\n",
       "      <td>touch</td>\n",
       "      <td>2017-12-20 17:20:00</td>\n",
       "      <td>2017-12-20 17:38:00</td>\n",
       "      <td>4</td>\n",
       "      <td>2017</td>\n",
       "      <td>12</td>\n",
       "      <td>51</td>\n",
       "      <td>2017-12-20</td>\n",
       "      <td>1080</td>\n",
       "      <td>2017-12-20 17:20:00</td>\n",
       "    </tr>\n",
       "    <tr>\n",
       "      <td>1</td>\n",
       "      <td>104060357244891740</td>\n",
       "      <td>desktop</td>\n",
       "      <td>2018-02-19 16:53:00</td>\n",
       "      <td>2018-02-19 17:21:00</td>\n",
       "      <td>2</td>\n",
       "      <td>2018</td>\n",
       "      <td>2</td>\n",
       "      <td>8</td>\n",
       "      <td>2018-02-19</td>\n",
       "      <td>1680</td>\n",
       "      <td>2018-02-19 16:53:00</td>\n",
       "    </tr>\n",
       "    <tr>\n",
       "      <td>2</td>\n",
       "      <td>7459035603376831527</td>\n",
       "      <td>touch</td>\n",
       "      <td>2017-07-01 01:54:00</td>\n",
       "      <td>2017-07-01 01:54:00</td>\n",
       "      <td>5</td>\n",
       "      <td>2017</td>\n",
       "      <td>7</td>\n",
       "      <td>26</td>\n",
       "      <td>2017-07-01</td>\n",
       "      <td>0</td>\n",
       "      <td>2017-07-01 01:54:00</td>\n",
       "    </tr>\n",
       "    <tr>\n",
       "      <td>3</td>\n",
       "      <td>16174680259334210214</td>\n",
       "      <td>desktop</td>\n",
       "      <td>2018-05-20 10:59:00</td>\n",
       "      <td>2018-05-20 11:23:00</td>\n",
       "      <td>9</td>\n",
       "      <td>2018</td>\n",
       "      <td>5</td>\n",
       "      <td>20</td>\n",
       "      <td>2018-05-20</td>\n",
       "      <td>1440</td>\n",
       "      <td>2018-03-09 20:05:00</td>\n",
       "    </tr>\n",
       "    <tr>\n",
       "      <td>4</td>\n",
       "      <td>9969694820036681168</td>\n",
       "      <td>desktop</td>\n",
       "      <td>2017-12-27 14:06:00</td>\n",
       "      <td>2017-12-27 14:06:00</td>\n",
       "      <td>3</td>\n",
       "      <td>2017</td>\n",
       "      <td>12</td>\n",
       "      <td>52</td>\n",
       "      <td>2017-12-27</td>\n",
       "      <td>0</td>\n",
       "      <td>2017-12-27 14:06:00</td>\n",
       "    </tr>\n",
       "  </tbody>\n",
       "</table>\n",
       "</div>"
      ],
      "text/plain": [
       "                    uid   device            start_ts              end_ts  \\\n",
       "0  16879256277535980062    touch 2017-12-20 17:20:00 2017-12-20 17:38:00   \n",
       "1    104060357244891740  desktop 2018-02-19 16:53:00 2018-02-19 17:21:00   \n",
       "2   7459035603376831527    touch 2017-07-01 01:54:00 2017-07-01 01:54:00   \n",
       "3  16174680259334210214  desktop 2018-05-20 10:59:00 2018-05-20 11:23:00   \n",
       "4   9969694820036681168  desktop 2017-12-27 14:06:00 2017-12-27 14:06:00   \n",
       "\n",
       "   source_id  session_year  session_month  session_week session_date  \\\n",
       "0          4          2017             12            51   2017-12-20   \n",
       "1          2          2018              2             8   2018-02-19   \n",
       "2          5          2017              7            26   2017-07-01   \n",
       "3          9          2018              5            20   2018-05-20   \n",
       "4          3          2017             12            52   2017-12-27   \n",
       "\n",
       "   session_duration_sec  first_time_session  \n",
       "0                  1080 2017-12-20 17:20:00  \n",
       "1                  1680 2018-02-19 16:53:00  \n",
       "2                     0 2017-07-01 01:54:00  \n",
       "3                  1440 2018-03-09 20:05:00  \n",
       "4                     0 2017-12-27 14:06:00  "
      ]
     },
     "execution_count": 61,
     "metadata": {},
     "output_type": "execute_result"
    }
   ],
   "source": [
    "visits.head()"
   ]
  },
  {
   "cell_type": "code",
   "execution_count": 62,
   "metadata": {},
   "outputs": [],
   "source": [
    "visits['first_session_month'] = visits['first_time_session'].astype('datetime64[M]')\n",
    "visits['session_month'] = visits['start_ts'].astype('datetime64[M]')"
   ]
  },
  {
   "cell_type": "markdown",
   "metadata": {},
   "source": [
    "В новый столбец lifetime запишем разницу между месяцем первой сессии и последней. Найдем число месяцев, прошедших между датами"
   ]
  },
  {
   "cell_type": "code",
   "execution_count": 63,
   "metadata": {},
   "outputs": [],
   "source": [
    "visits['lifetime'] = (visits['session_month'] - visits['first_session_month']) / np.timedelta64(1, 'M')\n",
    "visits['lifetime'] = visits['lifetime'].round().astype('int')"
   ]
  },
  {
   "cell_type": "code",
   "execution_count": 64,
   "metadata": {},
   "outputs": [],
   "source": [
    "visits_grouped_by_cohorts = visits.groupby(['first_session_month', 'lifetime']).agg({'uid': 'nunique'}).reset_index()"
   ]
  },
  {
   "cell_type": "markdown",
   "metadata": {},
   "source": [
    "Найдём исходное количество пользователей в когорте. Возьмём их число на нулевую неделю"
   ]
  },
  {
   "cell_type": "code",
   "execution_count": 65,
   "metadata": {},
   "outputs": [
    {
     "data": {
      "text/html": [
       "<div>\n",
       "<style scoped>\n",
       "    .dataframe tbody tr th:only-of-type {\n",
       "        vertical-align: middle;\n",
       "    }\n",
       "\n",
       "    .dataframe tbody tr th {\n",
       "        vertical-align: top;\n",
       "    }\n",
       "\n",
       "    .dataframe thead th {\n",
       "        text-align: right;\n",
       "    }\n",
       "</style>\n",
       "<table border=\"1\" class=\"dataframe\">\n",
       "  <thead>\n",
       "    <tr style=\"text-align: right;\">\n",
       "      <th></th>\n",
       "      <th>first_session_month</th>\n",
       "      <th>cohort_uid</th>\n",
       "    </tr>\n",
       "  </thead>\n",
       "  <tbody>\n",
       "    <tr>\n",
       "      <td>0</td>\n",
       "      <td>2017-06-01</td>\n",
       "      <td>13259</td>\n",
       "    </tr>\n",
       "    <tr>\n",
       "      <td>12</td>\n",
       "      <td>2017-07-01</td>\n",
       "      <td>13140</td>\n",
       "    </tr>\n",
       "    <tr>\n",
       "      <td>23</td>\n",
       "      <td>2017-08-01</td>\n",
       "      <td>10181</td>\n",
       "    </tr>\n",
       "    <tr>\n",
       "      <td>33</td>\n",
       "      <td>2017-09-01</td>\n",
       "      <td>16704</td>\n",
       "    </tr>\n",
       "    <tr>\n",
       "      <td>42</td>\n",
       "      <td>2017-10-01</td>\n",
       "      <td>25977</td>\n",
       "    </tr>\n",
       "    <tr>\n",
       "      <td>50</td>\n",
       "      <td>2017-11-01</td>\n",
       "      <td>27248</td>\n",
       "    </tr>\n",
       "    <tr>\n",
       "      <td>57</td>\n",
       "      <td>2017-12-01</td>\n",
       "      <td>25268</td>\n",
       "    </tr>\n",
       "    <tr>\n",
       "      <td>63</td>\n",
       "      <td>2018-01-01</td>\n",
       "      <td>22624</td>\n",
       "    </tr>\n",
       "    <tr>\n",
       "      <td>68</td>\n",
       "      <td>2018-02-01</td>\n",
       "      <td>22197</td>\n",
       "    </tr>\n",
       "    <tr>\n",
       "      <td>72</td>\n",
       "      <td>2018-03-01</td>\n",
       "      <td>20589</td>\n",
       "    </tr>\n",
       "    <tr>\n",
       "      <td>75</td>\n",
       "      <td>2018-04-01</td>\n",
       "      <td>15709</td>\n",
       "    </tr>\n",
       "    <tr>\n",
       "      <td>77</td>\n",
       "      <td>2018-05-01</td>\n",
       "      <td>15273</td>\n",
       "    </tr>\n",
       "  </tbody>\n",
       "</table>\n",
       "</div>"
      ],
      "text/plain": [
       "   first_session_month  cohort_uid\n",
       "0           2017-06-01       13259\n",
       "12          2017-07-01       13140\n",
       "23          2017-08-01       10181\n",
       "33          2017-09-01       16704\n",
       "42          2017-10-01       25977\n",
       "50          2017-11-01       27248\n",
       "57          2017-12-01       25268\n",
       "63          2018-01-01       22624\n",
       "68          2018-02-01       22197\n",
       "72          2018-03-01       20589\n",
       "75          2018-04-01       15709\n",
       "77          2018-05-01       15273"
      ]
     },
     "execution_count": 65,
     "metadata": {},
     "output_type": "execute_result"
    }
   ],
   "source": [
    "initial_users_count = visits_grouped_by_cohorts[visits_grouped_by_cohorts['lifetime'] == 0][['first_session_month', 'uid']]\n",
    "initial_users_count.columns = ['first_session_month', 'cohort_uid']\n",
    "initial_users_count"
   ]
  },
  {
   "cell_type": "markdown",
   "metadata": {},
   "source": [
    "Посмотрим, как изменяется возвращаемость с течением времени. Объединим данные по когортам с исходным количеством пользователей в когорте. Далее рассчитаем Retention Rate. Разделим количество активных пользователей в каждую из недель на исходное число пользователей в когорте"
   ]
  },
  {
   "cell_type": "code",
   "execution_count": 66,
   "metadata": {},
   "outputs": [
    {
     "data": {
      "text/html": [
       "<div>\n",
       "<style scoped>\n",
       "    .dataframe tbody tr th:only-of-type {\n",
       "        vertical-align: middle;\n",
       "    }\n",
       "\n",
       "    .dataframe tbody tr th {\n",
       "        vertical-align: top;\n",
       "    }\n",
       "\n",
       "    .dataframe thead th {\n",
       "        text-align: right;\n",
       "    }\n",
       "</style>\n",
       "<table border=\"1\" class=\"dataframe\">\n",
       "  <thead>\n",
       "    <tr style=\"text-align: right;\">\n",
       "      <th>lifetime</th>\n",
       "      <th>0</th>\n",
       "      <th>1</th>\n",
       "      <th>2</th>\n",
       "      <th>3</th>\n",
       "      <th>4</th>\n",
       "      <th>5</th>\n",
       "      <th>6</th>\n",
       "      <th>7</th>\n",
       "      <th>8</th>\n",
       "      <th>9</th>\n",
       "      <th>10</th>\n",
       "      <th>11</th>\n",
       "    </tr>\n",
       "    <tr>\n",
       "      <th>first_session_month</th>\n",
       "      <th></th>\n",
       "      <th></th>\n",
       "      <th></th>\n",
       "      <th></th>\n",
       "      <th></th>\n",
       "      <th></th>\n",
       "      <th></th>\n",
       "      <th></th>\n",
       "      <th></th>\n",
       "      <th></th>\n",
       "      <th></th>\n",
       "      <th></th>\n",
       "    </tr>\n",
       "  </thead>\n",
       "  <tbody>\n",
       "    <tr>\n",
       "      <td>2017-06-01</td>\n",
       "      <td>1.0</td>\n",
       "      <td>0.078664</td>\n",
       "      <td>0.053775</td>\n",
       "      <td>0.061392</td>\n",
       "      <td>0.068557</td>\n",
       "      <td>0.071423</td>\n",
       "      <td>0.061015</td>\n",
       "      <td>0.057772</td>\n",
       "      <td>0.052342</td>\n",
       "      <td>0.050833</td>\n",
       "      <td>0.040652</td>\n",
       "      <td>0.044951</td>\n",
       "    </tr>\n",
       "    <tr>\n",
       "      <td>2017-07-01</td>\n",
       "      <td>1.0</td>\n",
       "      <td>0.056088</td>\n",
       "      <td>0.051294</td>\n",
       "      <td>0.056164</td>\n",
       "      <td>0.058219</td>\n",
       "      <td>0.048174</td>\n",
       "      <td>0.045358</td>\n",
       "      <td>0.045738</td>\n",
       "      <td>0.038813</td>\n",
       "      <td>0.028615</td>\n",
       "      <td>0.027473</td>\n",
       "      <td>NaN</td>\n",
       "    </tr>\n",
       "    <tr>\n",
       "      <td>2017-08-01</td>\n",
       "      <td>1.0</td>\n",
       "      <td>0.076908</td>\n",
       "      <td>0.062862</td>\n",
       "      <td>0.062764</td>\n",
       "      <td>0.050093</td>\n",
       "      <td>0.044004</td>\n",
       "      <td>0.036342</td>\n",
       "      <td>0.039485</td>\n",
       "      <td>0.027895</td>\n",
       "      <td>0.026029</td>\n",
       "      <td>NaN</td>\n",
       "      <td>NaN</td>\n",
       "    </tr>\n",
       "    <tr>\n",
       "      <td>2017-09-01</td>\n",
       "      <td>1.0</td>\n",
       "      <td>0.085489</td>\n",
       "      <td>0.069205</td>\n",
       "      <td>0.050706</td>\n",
       "      <td>0.039392</td>\n",
       "      <td>0.037835</td>\n",
       "      <td>0.035860</td>\n",
       "      <td>0.024186</td>\n",
       "      <td>0.022809</td>\n",
       "      <td>NaN</td>\n",
       "      <td>NaN</td>\n",
       "      <td>NaN</td>\n",
       "    </tr>\n",
       "    <tr>\n",
       "      <td>2017-10-01</td>\n",
       "      <td>1.0</td>\n",
       "      <td>0.078608</td>\n",
       "      <td>0.052239</td>\n",
       "      <td>0.038958</td>\n",
       "      <td>0.034261</td>\n",
       "      <td>0.032221</td>\n",
       "      <td>0.021365</td>\n",
       "      <td>0.020364</td>\n",
       "      <td>NaN</td>\n",
       "      <td>NaN</td>\n",
       "      <td>NaN</td>\n",
       "      <td>NaN</td>\n",
       "    </tr>\n",
       "    <tr>\n",
       "      <td>2017-11-01</td>\n",
       "      <td>1.0</td>\n",
       "      <td>0.078281</td>\n",
       "      <td>0.044113</td>\n",
       "      <td>0.038682</td>\n",
       "      <td>0.033727</td>\n",
       "      <td>0.023415</td>\n",
       "      <td>0.021800</td>\n",
       "      <td>NaN</td>\n",
       "      <td>NaN</td>\n",
       "      <td>NaN</td>\n",
       "      <td>NaN</td>\n",
       "      <td>NaN</td>\n",
       "    </tr>\n",
       "    <tr>\n",
       "      <td>2017-12-01</td>\n",
       "      <td>1.0</td>\n",
       "      <td>0.055802</td>\n",
       "      <td>0.037993</td>\n",
       "      <td>0.031107</td>\n",
       "      <td>0.020263</td>\n",
       "      <td>0.019036</td>\n",
       "      <td>NaN</td>\n",
       "      <td>NaN</td>\n",
       "      <td>NaN</td>\n",
       "      <td>NaN</td>\n",
       "      <td>NaN</td>\n",
       "      <td>NaN</td>\n",
       "    </tr>\n",
       "    <tr>\n",
       "      <td>2018-01-01</td>\n",
       "      <td>1.0</td>\n",
       "      <td>0.059715</td>\n",
       "      <td>0.039339</td>\n",
       "      <td>0.024973</td>\n",
       "      <td>0.020244</td>\n",
       "      <td>NaN</td>\n",
       "      <td>NaN</td>\n",
       "      <td>NaN</td>\n",
       "      <td>NaN</td>\n",
       "      <td>NaN</td>\n",
       "      <td>NaN</td>\n",
       "      <td>NaN</td>\n",
       "    </tr>\n",
       "    <tr>\n",
       "      <td>2018-02-01</td>\n",
       "      <td>1.0</td>\n",
       "      <td>0.057080</td>\n",
       "      <td>0.025454</td>\n",
       "      <td>0.020093</td>\n",
       "      <td>NaN</td>\n",
       "      <td>NaN</td>\n",
       "      <td>NaN</td>\n",
       "      <td>NaN</td>\n",
       "      <td>NaN</td>\n",
       "      <td>NaN</td>\n",
       "      <td>NaN</td>\n",
       "      <td>NaN</td>\n",
       "    </tr>\n",
       "    <tr>\n",
       "      <td>2018-03-01</td>\n",
       "      <td>1.0</td>\n",
       "      <td>0.041818</td>\n",
       "      <td>0.027053</td>\n",
       "      <td>NaN</td>\n",
       "      <td>NaN</td>\n",
       "      <td>NaN</td>\n",
       "      <td>NaN</td>\n",
       "      <td>NaN</td>\n",
       "      <td>NaN</td>\n",
       "      <td>NaN</td>\n",
       "      <td>NaN</td>\n",
       "      <td>NaN</td>\n",
       "    </tr>\n",
       "    <tr>\n",
       "      <td>2018-04-01</td>\n",
       "      <td>1.0</td>\n",
       "      <td>0.048380</td>\n",
       "      <td>NaN</td>\n",
       "      <td>NaN</td>\n",
       "      <td>NaN</td>\n",
       "      <td>NaN</td>\n",
       "      <td>NaN</td>\n",
       "      <td>NaN</td>\n",
       "      <td>NaN</td>\n",
       "      <td>NaN</td>\n",
       "      <td>NaN</td>\n",
       "      <td>NaN</td>\n",
       "    </tr>\n",
       "    <tr>\n",
       "      <td>2018-05-01</td>\n",
       "      <td>1.0</td>\n",
       "      <td>NaN</td>\n",
       "      <td>NaN</td>\n",
       "      <td>NaN</td>\n",
       "      <td>NaN</td>\n",
       "      <td>NaN</td>\n",
       "      <td>NaN</td>\n",
       "      <td>NaN</td>\n",
       "      <td>NaN</td>\n",
       "      <td>NaN</td>\n",
       "      <td>NaN</td>\n",
       "      <td>NaN</td>\n",
       "    </tr>\n",
       "  </tbody>\n",
       "</table>\n",
       "</div>"
      ],
      "text/plain": [
       "lifetime              0         1         2         3         4         5   \\\n",
       "first_session_month                                                          \n",
       "2017-06-01           1.0  0.078664  0.053775  0.061392  0.068557  0.071423   \n",
       "2017-07-01           1.0  0.056088  0.051294  0.056164  0.058219  0.048174   \n",
       "2017-08-01           1.0  0.076908  0.062862  0.062764  0.050093  0.044004   \n",
       "2017-09-01           1.0  0.085489  0.069205  0.050706  0.039392  0.037835   \n",
       "2017-10-01           1.0  0.078608  0.052239  0.038958  0.034261  0.032221   \n",
       "2017-11-01           1.0  0.078281  0.044113  0.038682  0.033727  0.023415   \n",
       "2017-12-01           1.0  0.055802  0.037993  0.031107  0.020263  0.019036   \n",
       "2018-01-01           1.0  0.059715  0.039339  0.024973  0.020244       NaN   \n",
       "2018-02-01           1.0  0.057080  0.025454  0.020093       NaN       NaN   \n",
       "2018-03-01           1.0  0.041818  0.027053       NaN       NaN       NaN   \n",
       "2018-04-01           1.0  0.048380       NaN       NaN       NaN       NaN   \n",
       "2018-05-01           1.0       NaN       NaN       NaN       NaN       NaN   \n",
       "\n",
       "lifetime                   6         7         8         9         10  \\\n",
       "first_session_month                                                     \n",
       "2017-06-01           0.061015  0.057772  0.052342  0.050833  0.040652   \n",
       "2017-07-01           0.045358  0.045738  0.038813  0.028615  0.027473   \n",
       "2017-08-01           0.036342  0.039485  0.027895  0.026029       NaN   \n",
       "2017-09-01           0.035860  0.024186  0.022809       NaN       NaN   \n",
       "2017-10-01           0.021365  0.020364       NaN       NaN       NaN   \n",
       "2017-11-01           0.021800       NaN       NaN       NaN       NaN   \n",
       "2017-12-01                NaN       NaN       NaN       NaN       NaN   \n",
       "2018-01-01                NaN       NaN       NaN       NaN       NaN   \n",
       "2018-02-01                NaN       NaN       NaN       NaN       NaN   \n",
       "2018-03-01                NaN       NaN       NaN       NaN       NaN   \n",
       "2018-04-01                NaN       NaN       NaN       NaN       NaN   \n",
       "2018-05-01                NaN       NaN       NaN       NaN       NaN   \n",
       "\n",
       "lifetime                   11  \n",
       "first_session_month            \n",
       "2017-06-01           0.044951  \n",
       "2017-07-01                NaN  \n",
       "2017-08-01                NaN  \n",
       "2017-09-01                NaN  \n",
       "2017-10-01                NaN  \n",
       "2017-11-01                NaN  \n",
       "2017-12-01                NaN  \n",
       "2018-01-01                NaN  \n",
       "2018-02-01                NaN  \n",
       "2018-03-01                NaN  \n",
       "2018-04-01                NaN  \n",
       "2018-05-01                NaN  "
      ]
     },
     "execution_count": 66,
     "metadata": {},
     "output_type": "execute_result"
    }
   ],
   "source": [
    "visits_grouped_by_cohorts = visits_grouped_by_cohorts.merge(initial_users_count)\n",
    "visits_grouped_by_cohorts['retention'] = visits_grouped_by_cohorts['uid'] / visits_grouped_by_cohorts['cohort_uid']\n",
    "pivot = visits_grouped_by_cohorts.pivot_table(index = 'first_session_month',columns = 'lifetime', values = 'retention', aggfunc = 'sum')\n",
    "pivot"
   ]
  },
  {
   "cell_type": "markdown",
   "metadata": {},
   "source": [
    "Для визуализации построим тепловую карту"
   ]
  },
  {
   "cell_type": "code",
   "execution_count": 67,
   "metadata": {},
   "outputs": [
    {
     "data": {
      "image/png": "[encoded data removed]",
      "text/plain": [
       "<Figure size 936x648 with 2 Axes>"
      ]
     },
     "metadata": {
      "needs_background": "light"
     },
     "output_type": "display_data"
    }
   ],
   "source": [
    "plt.figure(figsize=(13, 9))\n",
    "plt.title('Cohorts: User Retention')\n",
    "sns.heatmap(pivot, annot=True, fmt='.2%', vmin=0, vmax=0.1, center= 0.05, linewidths=0.5,cmap= 'coolwarm', linecolor='grey').set_yticklabels(pivot.index.date);"
   ]
  },
  {
   "cell_type": "markdown",
   "metadata": {},
   "source": [
    "### Продажи<a name=\"step11\"></a>"
   ]
  },
  {
   "cell_type": "markdown",
   "metadata": {},
   "source": [
    "#### • Когда люди начинают покупать?<a name=\"step12\"></a>"
   ]
  },
  {
   "cell_type": "code",
   "execution_count": 68,
   "metadata": {},
   "outputs": [
    {
     "data": {
      "text/html": [
       "<div>\n",
       "<style scoped>\n",
       "    .dataframe tbody tr th:only-of-type {\n",
       "        vertical-align: middle;\n",
       "    }\n",
       "\n",
       "    .dataframe tbody tr th {\n",
       "        vertical-align: top;\n",
       "    }\n",
       "\n",
       "    .dataframe thead th {\n",
       "        text-align: right;\n",
       "    }\n",
       "</style>\n",
       "<table border=\"1\" class=\"dataframe\">\n",
       "  <thead>\n",
       "    <tr style=\"text-align: right;\">\n",
       "      <th></th>\n",
       "      <th>uid</th>\n",
       "      <th>buy_ts</th>\n",
       "      <th>revenue</th>\n",
       "    </tr>\n",
       "  </thead>\n",
       "  <tbody>\n",
       "    <tr>\n",
       "      <td>0</td>\n",
       "      <td>10329302124590727494</td>\n",
       "      <td>2017-06-01 00:10:00</td>\n",
       "      <td>17.00</td>\n",
       "    </tr>\n",
       "    <tr>\n",
       "      <td>1</td>\n",
       "      <td>11627257723692907447</td>\n",
       "      <td>2017-06-01 00:25:00</td>\n",
       "      <td>0.55</td>\n",
       "    </tr>\n",
       "    <tr>\n",
       "      <td>2</td>\n",
       "      <td>17903680561304213844</td>\n",
       "      <td>2017-06-01 00:27:00</td>\n",
       "      <td>0.37</td>\n",
       "    </tr>\n",
       "    <tr>\n",
       "      <td>3</td>\n",
       "      <td>16109239769442553005</td>\n",
       "      <td>2017-06-01 00:29:00</td>\n",
       "      <td>0.55</td>\n",
       "    </tr>\n",
       "    <tr>\n",
       "      <td>4</td>\n",
       "      <td>14200605875248379450</td>\n",
       "      <td>2017-06-01 07:58:00</td>\n",
       "      <td>0.37</td>\n",
       "    </tr>\n",
       "  </tbody>\n",
       "</table>\n",
       "</div>"
      ],
      "text/plain": [
       "                    uid              buy_ts  revenue\n",
       "0  10329302124590727494 2017-06-01 00:10:00    17.00\n",
       "1  11627257723692907447 2017-06-01 00:25:00     0.55\n",
       "2  17903680561304213844 2017-06-01 00:27:00     0.37\n",
       "3  16109239769442553005 2017-06-01 00:29:00     0.55\n",
       "4  14200605875248379450 2017-06-01 07:58:00     0.37"
      ]
     },
     "execution_count": 68,
     "metadata": {},
     "output_type": "execute_result"
    }
   ],
   "source": [
    "orders.head()"
   ]
  },
  {
   "cell_type": "code",
   "execution_count": 69,
   "metadata": {},
   "outputs": [
    {
     "name": "stdout",
     "output_type": "stream",
     "text": [
      "<class 'pandas.core.frame.DataFrame'>\n",
      "RangeIndex: 50415 entries, 0 to 50414\n",
      "Data columns (total 3 columns):\n",
      "uid        50415 non-null uint64\n",
      "buy_ts     50415 non-null datetime64[ns]\n",
      "revenue    50415 non-null float64\n",
      "dtypes: datetime64[ns](1), float64(1), uint64(1)\n",
      "memory usage: 1.2 MB\n"
     ]
    }
   ],
   "source": [
    "orders.info()"
   ]
  },
  {
   "cell_type": "markdown",
   "metadata": {},
   "source": [
    "Сгруппируем и изменим названия для того, что бы не было задвоения"
   ]
  },
  {
   "cell_type": "code",
   "execution_count": 70,
   "metadata": {},
   "outputs": [
    {
     "data": {
      "text/html": [
       "<div>\n",
       "<style scoped>\n",
       "    .dataframe tbody tr th:only-of-type {\n",
       "        vertical-align: middle;\n",
       "    }\n",
       "\n",
       "    .dataframe tbody tr th {\n",
       "        vertical-align: top;\n",
       "    }\n",
       "\n",
       "    .dataframe thead th {\n",
       "        text-align: right;\n",
       "    }\n",
       "</style>\n",
       "<table border=\"1\" class=\"dataframe\">\n",
       "  <thead>\n",
       "    <tr style=\"text-align: right;\">\n",
       "      <th></th>\n",
       "      <th>uid</th>\n",
       "      <th>first_buying_date</th>\n",
       "    </tr>\n",
       "  </thead>\n",
       "  <tbody>\n",
       "    <tr>\n",
       "      <td>0</td>\n",
       "      <td>313578113262317</td>\n",
       "      <td>2018-01-03 21:51:00</td>\n",
       "    </tr>\n",
       "    <tr>\n",
       "      <td>1</td>\n",
       "      <td>1575281904278712</td>\n",
       "      <td>2017-06-03 10:13:00</td>\n",
       "    </tr>\n",
       "    <tr>\n",
       "      <td>2</td>\n",
       "      <td>2429014661409475</td>\n",
       "      <td>2017-10-11 18:33:00</td>\n",
       "    </tr>\n",
       "    <tr>\n",
       "      <td>3</td>\n",
       "      <td>2464366381792757</td>\n",
       "      <td>2018-01-28 15:54:00</td>\n",
       "    </tr>\n",
       "    <tr>\n",
       "      <td>4</td>\n",
       "      <td>2551852515556206</td>\n",
       "      <td>2017-11-24 10:14:00</td>\n",
       "    </tr>\n",
       "  </tbody>\n",
       "</table>\n",
       "</div>"
      ],
      "text/plain": [
       "                uid   first_buying_date\n",
       "0   313578113262317 2018-01-03 21:51:00\n",
       "1  1575281904278712 2017-06-03 10:13:00\n",
       "2  2429014661409475 2017-10-11 18:33:00\n",
       "3  2464366381792757 2018-01-28 15:54:00\n",
       "4  2551852515556206 2017-11-24 10:14:00"
      ]
     },
     "execution_count": 70,
     "metadata": {},
     "output_type": "execute_result"
    }
   ],
   "source": [
    "first_buying = orders.groupby('uid').agg({'buy_ts':'min'}).reset_index()\n",
    "first_buying= first_buying.rename(columns={'buy_ts':'first_buying_date'})\n",
    "first_buying.head()"
   ]
  },
  {
   "cell_type": "code",
   "execution_count": 71,
   "metadata": {},
   "outputs": [
    {
     "data": {
      "text/html": [
       "<div>\n",
       "<style scoped>\n",
       "    .dataframe tbody tr th:only-of-type {\n",
       "        vertical-align: middle;\n",
       "    }\n",
       "\n",
       "    .dataframe tbody tr th {\n",
       "        vertical-align: top;\n",
       "    }\n",
       "\n",
       "    .dataframe thead th {\n",
       "        text-align: right;\n",
       "    }\n",
       "</style>\n",
       "<table border=\"1\" class=\"dataframe\">\n",
       "  <thead>\n",
       "    <tr style=\"text-align: right;\">\n",
       "      <th></th>\n",
       "      <th>uid</th>\n",
       "      <th>device</th>\n",
       "      <th>start_ts</th>\n",
       "      <th>end_ts</th>\n",
       "      <th>source_id</th>\n",
       "      <th>session_year</th>\n",
       "      <th>session_month</th>\n",
       "      <th>session_week</th>\n",
       "      <th>session_date</th>\n",
       "      <th>session_duration_sec</th>\n",
       "      <th>first_time_session</th>\n",
       "      <th>first_session_month</th>\n",
       "      <th>lifetime</th>\n",
       "    </tr>\n",
       "  </thead>\n",
       "  <tbody>\n",
       "    <tr>\n",
       "      <td>0</td>\n",
       "      <td>16879256277535980062</td>\n",
       "      <td>touch</td>\n",
       "      <td>2017-12-20 17:20:00</td>\n",
       "      <td>2017-12-20 17:38:00</td>\n",
       "      <td>4</td>\n",
       "      <td>2017</td>\n",
       "      <td>2017-12-01</td>\n",
       "      <td>51</td>\n",
       "      <td>2017-12-20</td>\n",
       "      <td>1080</td>\n",
       "      <td>2017-12-20 17:20:00</td>\n",
       "      <td>2017-12-01</td>\n",
       "      <td>0</td>\n",
       "    </tr>\n",
       "    <tr>\n",
       "      <td>1</td>\n",
       "      <td>104060357244891740</td>\n",
       "      <td>desktop</td>\n",
       "      <td>2018-02-19 16:53:00</td>\n",
       "      <td>2018-02-19 17:21:00</td>\n",
       "      <td>2</td>\n",
       "      <td>2018</td>\n",
       "      <td>2018-02-01</td>\n",
       "      <td>8</td>\n",
       "      <td>2018-02-19</td>\n",
       "      <td>1680</td>\n",
       "      <td>2018-02-19 16:53:00</td>\n",
       "      <td>2018-02-01</td>\n",
       "      <td>0</td>\n",
       "    </tr>\n",
       "    <tr>\n",
       "      <td>2</td>\n",
       "      <td>7459035603376831527</td>\n",
       "      <td>touch</td>\n",
       "      <td>2017-07-01 01:54:00</td>\n",
       "      <td>2017-07-01 01:54:00</td>\n",
       "      <td>5</td>\n",
       "      <td>2017</td>\n",
       "      <td>2017-07-01</td>\n",
       "      <td>26</td>\n",
       "      <td>2017-07-01</td>\n",
       "      <td>0</td>\n",
       "      <td>2017-07-01 01:54:00</td>\n",
       "      <td>2017-07-01</td>\n",
       "      <td>0</td>\n",
       "    </tr>\n",
       "    <tr>\n",
       "      <td>3</td>\n",
       "      <td>16174680259334210214</td>\n",
       "      <td>desktop</td>\n",
       "      <td>2018-05-20 10:59:00</td>\n",
       "      <td>2018-05-20 11:23:00</td>\n",
       "      <td>9</td>\n",
       "      <td>2018</td>\n",
       "      <td>2018-05-01</td>\n",
       "      <td>20</td>\n",
       "      <td>2018-05-20</td>\n",
       "      <td>1440</td>\n",
       "      <td>2018-03-09 20:05:00</td>\n",
       "      <td>2018-03-01</td>\n",
       "      <td>2</td>\n",
       "    </tr>\n",
       "    <tr>\n",
       "      <td>4</td>\n",
       "      <td>9969694820036681168</td>\n",
       "      <td>desktop</td>\n",
       "      <td>2017-12-27 14:06:00</td>\n",
       "      <td>2017-12-27 14:06:00</td>\n",
       "      <td>3</td>\n",
       "      <td>2017</td>\n",
       "      <td>2017-12-01</td>\n",
       "      <td>52</td>\n",
       "      <td>2017-12-27</td>\n",
       "      <td>0</td>\n",
       "      <td>2017-12-27 14:06:00</td>\n",
       "      <td>2017-12-01</td>\n",
       "      <td>0</td>\n",
       "    </tr>\n",
       "  </tbody>\n",
       "</table>\n",
       "</div>"
      ],
      "text/plain": [
       "                    uid   device            start_ts              end_ts  \\\n",
       "0  16879256277535980062    touch 2017-12-20 17:20:00 2017-12-20 17:38:00   \n",
       "1    104060357244891740  desktop 2018-02-19 16:53:00 2018-02-19 17:21:00   \n",
       "2   7459035603376831527    touch 2017-07-01 01:54:00 2017-07-01 01:54:00   \n",
       "3  16174680259334210214  desktop 2018-05-20 10:59:00 2018-05-20 11:23:00   \n",
       "4   9969694820036681168  desktop 2017-12-27 14:06:00 2017-12-27 14:06:00   \n",
       "\n",
       "   source_id  session_year session_month  session_week session_date  \\\n",
       "0          4          2017    2017-12-01            51   2017-12-20   \n",
       "1          2          2018    2018-02-01             8   2018-02-19   \n",
       "2          5          2017    2017-07-01            26   2017-07-01   \n",
       "3          9          2018    2018-05-01            20   2018-05-20   \n",
       "4          3          2017    2017-12-01            52   2017-12-27   \n",
       "\n",
       "   session_duration_sec  first_time_session first_session_month  lifetime  \n",
       "0                  1080 2017-12-20 17:20:00          2017-12-01         0  \n",
       "1                  1680 2018-02-19 16:53:00          2018-02-01         0  \n",
       "2                     0 2017-07-01 01:54:00          2017-07-01         0  \n",
       "3                  1440 2018-03-09 20:05:00          2018-03-01         2  \n",
       "4                     0 2017-12-27 14:06:00          2017-12-01         0  "
      ]
     },
     "execution_count": 71,
     "metadata": {},
     "output_type": "execute_result"
    }
   ],
   "source": [
    "visits.head()"
   ]
  },
  {
   "cell_type": "code",
   "execution_count": 72,
   "metadata": {},
   "outputs": [
    {
     "data": {
      "text/html": [
       "<div>\n",
       "<style scoped>\n",
       "    .dataframe tbody tr th:only-of-type {\n",
       "        vertical-align: middle;\n",
       "    }\n",
       "\n",
       "    .dataframe tbody tr th {\n",
       "        vertical-align: top;\n",
       "    }\n",
       "\n",
       "    .dataframe thead th {\n",
       "        text-align: right;\n",
       "    }\n",
       "</style>\n",
       "<table border=\"1\" class=\"dataframe\">\n",
       "  <thead>\n",
       "    <tr style=\"text-align: right;\">\n",
       "      <th></th>\n",
       "      <th>uid</th>\n",
       "      <th>first_visits_date</th>\n",
       "    </tr>\n",
       "  </thead>\n",
       "  <tbody>\n",
       "    <tr>\n",
       "      <td>0</td>\n",
       "      <td>11863502262781</td>\n",
       "      <td>2018-03-01 17:27:00</td>\n",
       "    </tr>\n",
       "    <tr>\n",
       "      <td>1</td>\n",
       "      <td>49537067089222</td>\n",
       "      <td>2018-02-06 15:55:00</td>\n",
       "    </tr>\n",
       "    <tr>\n",
       "      <td>2</td>\n",
       "      <td>297729379853735</td>\n",
       "      <td>2017-06-07 18:47:00</td>\n",
       "    </tr>\n",
       "    <tr>\n",
       "      <td>3</td>\n",
       "      <td>313578113262317</td>\n",
       "      <td>2017-09-18 22:49:00</td>\n",
       "    </tr>\n",
       "    <tr>\n",
       "      <td>4</td>\n",
       "      <td>325320750514679</td>\n",
       "      <td>2017-09-30 14:29:00</td>\n",
       "    </tr>\n",
       "  </tbody>\n",
       "</table>\n",
       "</div>"
      ],
      "text/plain": [
       "               uid   first_visits_date\n",
       "0   11863502262781 2018-03-01 17:27:00\n",
       "1   49537067089222 2018-02-06 15:55:00\n",
       "2  297729379853735 2017-06-07 18:47:00\n",
       "3  313578113262317 2017-09-18 22:49:00\n",
       "4  325320750514679 2017-09-30 14:29:00"
      ]
     },
     "execution_count": 72,
     "metadata": {},
     "output_type": "execute_result"
    }
   ],
   "source": [
    "first_visits= visits.groupby('uid').agg({'start_ts':'min'}).reset_index()\n",
    "first_visits=first_visits.rename(columns={'start_ts':'first_visits_date'})\n",
    "first_visits.head()"
   ]
  },
  {
   "cell_type": "code",
   "execution_count": 73,
   "metadata": {},
   "outputs": [
    {
     "data": {
      "text/html": [
       "<div>\n",
       "<style scoped>\n",
       "    .dataframe tbody tr th:only-of-type {\n",
       "        vertical-align: middle;\n",
       "    }\n",
       "\n",
       "    .dataframe tbody tr th {\n",
       "        vertical-align: top;\n",
       "    }\n",
       "\n",
       "    .dataframe thead th {\n",
       "        text-align: right;\n",
       "    }\n",
       "</style>\n",
       "<table border=\"1\" class=\"dataframe\">\n",
       "  <thead>\n",
       "    <tr style=\"text-align: right;\">\n",
       "      <th></th>\n",
       "      <th>uid</th>\n",
       "      <th>first_buying_date</th>\n",
       "      <th>first_visits_date</th>\n",
       "    </tr>\n",
       "  </thead>\n",
       "  <tbody>\n",
       "    <tr>\n",
       "      <td>0</td>\n",
       "      <td>313578113262317</td>\n",
       "      <td>2018-01-03 21:51:00</td>\n",
       "      <td>2017-09-18 22:49:00</td>\n",
       "    </tr>\n",
       "    <tr>\n",
       "      <td>1</td>\n",
       "      <td>1575281904278712</td>\n",
       "      <td>2017-06-03 10:13:00</td>\n",
       "      <td>2017-06-03 10:13:00</td>\n",
       "    </tr>\n",
       "    <tr>\n",
       "      <td>2</td>\n",
       "      <td>2429014661409475</td>\n",
       "      <td>2017-10-11 18:33:00</td>\n",
       "      <td>2017-10-11 17:14:00</td>\n",
       "    </tr>\n",
       "    <tr>\n",
       "      <td>3</td>\n",
       "      <td>2464366381792757</td>\n",
       "      <td>2018-01-28 15:54:00</td>\n",
       "      <td>2018-01-27 20:10:00</td>\n",
       "    </tr>\n",
       "    <tr>\n",
       "      <td>4</td>\n",
       "      <td>2551852515556206</td>\n",
       "      <td>2017-11-24 10:14:00</td>\n",
       "      <td>2017-11-24 10:14:00</td>\n",
       "    </tr>\n",
       "  </tbody>\n",
       "</table>\n",
       "</div>"
      ],
      "text/plain": [
       "                uid   first_buying_date   first_visits_date\n",
       "0   313578113262317 2018-01-03 21:51:00 2017-09-18 22:49:00\n",
       "1  1575281904278712 2017-06-03 10:13:00 2017-06-03 10:13:00\n",
       "2  2429014661409475 2017-10-11 18:33:00 2017-10-11 17:14:00\n",
       "3  2464366381792757 2018-01-28 15:54:00 2018-01-27 20:10:00\n",
       "4  2551852515556206 2017-11-24 10:14:00 2017-11-24 10:14:00"
      ]
     },
     "execution_count": 73,
     "metadata": {},
     "output_type": "execute_result"
    }
   ],
   "source": [
    "buying = first_buying.merge(first_visits, on = 'uid')\n",
    "buying.head()"
   ]
  },
  {
   "cell_type": "code",
   "execution_count": 74,
   "metadata": {},
   "outputs": [],
   "source": [
    "buying['buying_second'] = (buying['first_buying_date'] - buying['first_visits_date']).dt.seconds"
   ]
  },
  {
   "cell_type": "code",
   "execution_count": 75,
   "metadata": {},
   "outputs": [
    {
     "data": {
      "text/plain": [
       "14949.881444569175"
      ]
     },
     "execution_count": 75,
     "metadata": {},
     "output_type": "execute_result"
    }
   ],
   "source": [
    "buying['buying_second'].mean()"
   ]
  },
  {
   "cell_type": "code",
   "execution_count": 76,
   "metadata": {},
   "outputs": [
    {
     "data": {
      "text/plain": [
       "249.1646907428196"
      ]
     },
     "execution_count": 76,
     "metadata": {},
     "output_type": "execute_result"
    }
   ],
   "source": [
    "# в минутах\n",
    "(buying['buying_second']/60).mean()"
   ]
  },
  {
   "cell_type": "code",
   "execution_count": 77,
   "metadata": {},
   "outputs": [
    {
     "data": {
      "text/plain": [
       "16.0"
      ]
     },
     "execution_count": 77,
     "metadata": {},
     "output_type": "execute_result"
    }
   ],
   "source": [
    "(buying['buying_second']/60).median()"
   ]
  },
  {
   "cell_type": "code",
   "execution_count": 78,
   "metadata": {},
   "outputs": [
    {
     "data": {
      "text/plain": [
       "0    1.0\n",
       "dtype: float64"
      ]
     },
     "execution_count": 78,
     "metadata": {},
     "output_type": "execute_result"
    }
   ],
   "source": [
    "(buying['buying_second']/60).mode()"
   ]
  },
  {
   "cell_type": "code",
   "execution_count": 79,
   "metadata": {},
   "outputs": [
    {
     "data": {
      "text/plain": [
       "Text(0.5, 1.0, 'Time from entry to purchase')"
      ]
     },
     "execution_count": 79,
     "metadata": {},
     "output_type": "execute_result"
    },
    {
     "data": {
      "image/png": "[encoded data removed]",
      "text/plain": [
       "<Figure size 432x288 with 1 Axes>"
      ]
     },
     "metadata": {
      "needs_background": "light"
     },
     "output_type": "display_data"
    }
   ],
   "source": [
    "ax = buying['buying_second'].hist(bins=10, range=(0, 1500))\n",
    "ax.set_xlabel('Time(sec)')\n",
    "ax.set_ylabel('Frequency')\n",
    "ax.set_title('Time from entry to purchase')"
   ]
  },
  {
   "cell_type": "markdown",
   "metadata": {},
   "source": [
    "Судя по медиане, людям хватает 18 минут, с момента захода на сайт, что бы выбрать и купить то, что они хотели. По моду получается 1 минута, но это, скорее всего, те, кто сразу знал, чего хотел и сразу это купил."
   ]
  },
  {
   "cell_type": "markdown",
   "metadata": {},
   "source": [
    "#### Сколько раз покупают за период?<a name=\"step13\"></a>"
   ]
  },
  {
   "cell_type": "markdown",
   "metadata": {},
   "source": [
    "Разделим дату покупки на день, месяц, неделю"
   ]
  },
  {
   "cell_type": "code",
   "execution_count": 80,
   "metadata": {},
   "outputs": [],
   "source": [
    "orders['buying_month'] = orders['buy_ts'].dt.month\n",
    "orders['buying_week'] = orders['buy_ts'].dt.week\n",
    "orders['buying_date'] = orders['buy_ts'].dt.date"
   ]
  },
  {
   "cell_type": "code",
   "execution_count": 81,
   "metadata": {},
   "outputs": [
    {
     "data": {
      "text/html": [
       "<div>\n",
       "<style scoped>\n",
       "    .dataframe tbody tr th:only-of-type {\n",
       "        vertical-align: middle;\n",
       "    }\n",
       "\n",
       "    .dataframe tbody tr th {\n",
       "        vertical-align: top;\n",
       "    }\n",
       "\n",
       "    .dataframe thead th {\n",
       "        text-align: right;\n",
       "    }\n",
       "</style>\n",
       "<table border=\"1\" class=\"dataframe\">\n",
       "  <thead>\n",
       "    <tr style=\"text-align: right;\">\n",
       "      <th></th>\n",
       "      <th>uid</th>\n",
       "      <th>buy_ts</th>\n",
       "      <th>revenue</th>\n",
       "      <th>buying_month</th>\n",
       "      <th>buying_week</th>\n",
       "      <th>buying_date</th>\n",
       "    </tr>\n",
       "  </thead>\n",
       "  <tbody>\n",
       "    <tr>\n",
       "      <td>0</td>\n",
       "      <td>10329302124590727494</td>\n",
       "      <td>2017-06-01 00:10:00</td>\n",
       "      <td>17.00</td>\n",
       "      <td>6</td>\n",
       "      <td>22</td>\n",
       "      <td>2017-06-01</td>\n",
       "    </tr>\n",
       "    <tr>\n",
       "      <td>1</td>\n",
       "      <td>11627257723692907447</td>\n",
       "      <td>2017-06-01 00:25:00</td>\n",
       "      <td>0.55</td>\n",
       "      <td>6</td>\n",
       "      <td>22</td>\n",
       "      <td>2017-06-01</td>\n",
       "    </tr>\n",
       "    <tr>\n",
       "      <td>2</td>\n",
       "      <td>17903680561304213844</td>\n",
       "      <td>2017-06-01 00:27:00</td>\n",
       "      <td>0.37</td>\n",
       "      <td>6</td>\n",
       "      <td>22</td>\n",
       "      <td>2017-06-01</td>\n",
       "    </tr>\n",
       "    <tr>\n",
       "      <td>3</td>\n",
       "      <td>16109239769442553005</td>\n",
       "      <td>2017-06-01 00:29:00</td>\n",
       "      <td>0.55</td>\n",
       "      <td>6</td>\n",
       "      <td>22</td>\n",
       "      <td>2017-06-01</td>\n",
       "    </tr>\n",
       "    <tr>\n",
       "      <td>4</td>\n",
       "      <td>14200605875248379450</td>\n",
       "      <td>2017-06-01 07:58:00</td>\n",
       "      <td>0.37</td>\n",
       "      <td>6</td>\n",
       "      <td>22</td>\n",
       "      <td>2017-06-01</td>\n",
       "    </tr>\n",
       "  </tbody>\n",
       "</table>\n",
       "</div>"
      ],
      "text/plain": [
       "                    uid              buy_ts  revenue  buying_month  \\\n",
       "0  10329302124590727494 2017-06-01 00:10:00    17.00             6   \n",
       "1  11627257723692907447 2017-06-01 00:25:00     0.55             6   \n",
       "2  17903680561304213844 2017-06-01 00:27:00     0.37             6   \n",
       "3  16109239769442553005 2017-06-01 00:29:00     0.55             6   \n",
       "4  14200605875248379450 2017-06-01 07:58:00     0.37             6   \n",
       "\n",
       "   buying_week buying_date  \n",
       "0           22  2017-06-01  \n",
       "1           22  2017-06-01  \n",
       "2           22  2017-06-01  \n",
       "3           22  2017-06-01  \n",
       "4           22  2017-06-01  "
      ]
     },
     "execution_count": 81,
     "metadata": {},
     "output_type": "execute_result"
    }
   ],
   "source": [
    "orders.head()"
   ]
  },
  {
   "cell_type": "markdown",
   "metadata": {},
   "source": [
    "Если пойти по пути наименьшего сопротивления, все необходимые нам данные мы можем получить, обратившись к describe()"
   ]
  },
  {
   "cell_type": "markdown",
   "metadata": {},
   "source": [
    "В день:"
   ]
  },
  {
   "cell_type": "code",
   "execution_count": 82,
   "metadata": {},
   "outputs": [
    {
     "data": {
      "text/html": [
       "<div>\n",
       "<style scoped>\n",
       "    .dataframe tbody tr th:only-of-type {\n",
       "        vertical-align: middle;\n",
       "    }\n",
       "\n",
       "    .dataframe tbody tr th {\n",
       "        vertical-align: top;\n",
       "    }\n",
       "\n",
       "    .dataframe thead th {\n",
       "        text-align: right;\n",
       "    }\n",
       "</style>\n",
       "<table border=\"1\" class=\"dataframe\">\n",
       "  <thead>\n",
       "    <tr style=\"text-align: right;\">\n",
       "      <th></th>\n",
       "      <th>index</th>\n",
       "      <th>uid</th>\n",
       "    </tr>\n",
       "  </thead>\n",
       "  <tbody>\n",
       "    <tr>\n",
       "      <td>0</td>\n",
       "      <td>count</td>\n",
       "      <td>364.000000</td>\n",
       "    </tr>\n",
       "    <tr>\n",
       "      <td>1</td>\n",
       "      <td>mean</td>\n",
       "      <td>138.502747</td>\n",
       "    </tr>\n",
       "    <tr>\n",
       "      <td>2</td>\n",
       "      <td>std</td>\n",
       "      <td>76.858480</td>\n",
       "    </tr>\n",
       "    <tr>\n",
       "      <td>3</td>\n",
       "      <td>min</td>\n",
       "      <td>1.000000</td>\n",
       "    </tr>\n",
       "    <tr>\n",
       "      <td>4</td>\n",
       "      <td>25%</td>\n",
       "      <td>82.750000</td>\n",
       "    </tr>\n",
       "    <tr>\n",
       "      <td>5</td>\n",
       "      <td>50%</td>\n",
       "      <td>136.000000</td>\n",
       "    </tr>\n",
       "    <tr>\n",
       "      <td>6</td>\n",
       "      <td>75%</td>\n",
       "      <td>177.000000</td>\n",
       "    </tr>\n",
       "    <tr>\n",
       "      <td>7</td>\n",
       "      <td>max</td>\n",
       "      <td>814.000000</td>\n",
       "    </tr>\n",
       "  </tbody>\n",
       "</table>\n",
       "</div>"
      ],
      "text/plain": [
       "   index         uid\n",
       "0  count  364.000000\n",
       "1   mean  138.502747\n",
       "2    std   76.858480\n",
       "3    min    1.000000\n",
       "4    25%   82.750000\n",
       "5    50%  136.000000\n",
       "6    75%  177.000000\n",
       "7    max  814.000000"
      ]
     },
     "execution_count": 82,
     "metadata": {},
     "output_type": "execute_result"
    }
   ],
   "source": [
    "buying_per_day = orders.groupby('buying_date').agg({'uid' : 'count'}).describe().reset_index()\n",
    "buying_per_day"
   ]
  },
  {
   "cell_type": "markdown",
   "metadata": {},
   "source": [
    "Неделю:"
   ]
  },
  {
   "cell_type": "code",
   "execution_count": 83,
   "metadata": {},
   "outputs": [
    {
     "data": {
      "text/html": [
       "<div>\n",
       "<style scoped>\n",
       "    .dataframe tbody tr th:only-of-type {\n",
       "        vertical-align: middle;\n",
       "    }\n",
       "\n",
       "    .dataframe tbody tr th {\n",
       "        vertical-align: top;\n",
       "    }\n",
       "\n",
       "    .dataframe thead th {\n",
       "        text-align: right;\n",
       "    }\n",
       "</style>\n",
       "<table border=\"1\" class=\"dataframe\">\n",
       "  <thead>\n",
       "    <tr style=\"text-align: right;\">\n",
       "      <th></th>\n",
       "      <th>index</th>\n",
       "      <th>uid</th>\n",
       "    </tr>\n",
       "  </thead>\n",
       "  <tbody>\n",
       "    <tr>\n",
       "      <td>0</td>\n",
       "      <td>count</td>\n",
       "      <td>52.000000</td>\n",
       "    </tr>\n",
       "    <tr>\n",
       "      <td>1</td>\n",
       "      <td>mean</td>\n",
       "      <td>969.519231</td>\n",
       "    </tr>\n",
       "    <tr>\n",
       "      <td>2</td>\n",
       "      <td>std</td>\n",
       "      <td>397.630457</td>\n",
       "    </tr>\n",
       "    <tr>\n",
       "      <td>3</td>\n",
       "      <td>min</td>\n",
       "      <td>314.000000</td>\n",
       "    </tr>\n",
       "    <tr>\n",
       "      <td>4</td>\n",
       "      <td>25%</td>\n",
       "      <td>658.500000</td>\n",
       "    </tr>\n",
       "    <tr>\n",
       "      <td>5</td>\n",
       "      <td>50%</td>\n",
       "      <td>997.500000</td>\n",
       "    </tr>\n",
       "    <tr>\n",
       "      <td>6</td>\n",
       "      <td>75%</td>\n",
       "      <td>1270.500000</td>\n",
       "    </tr>\n",
       "    <tr>\n",
       "      <td>7</td>\n",
       "      <td>max</td>\n",
       "      <td>1894.000000</td>\n",
       "    </tr>\n",
       "  </tbody>\n",
       "</table>\n",
       "</div>"
      ],
      "text/plain": [
       "   index          uid\n",
       "0  count    52.000000\n",
       "1   mean   969.519231\n",
       "2    std   397.630457\n",
       "3    min   314.000000\n",
       "4    25%   658.500000\n",
       "5    50%   997.500000\n",
       "6    75%  1270.500000\n",
       "7    max  1894.000000"
      ]
     },
     "execution_count": 83,
     "metadata": {},
     "output_type": "execute_result"
    }
   ],
   "source": [
    "buying_per_week =  orders.groupby('buying_week').agg({'uid' : 'count'}).describe().reset_index()\n",
    "buying_per_week"
   ]
  },
  {
   "cell_type": "markdown",
   "metadata": {},
   "source": [
    "Месяц:"
   ]
  },
  {
   "cell_type": "code",
   "execution_count": 84,
   "metadata": {},
   "outputs": [
    {
     "data": {
      "text/html": [
       "<div>\n",
       "<style scoped>\n",
       "    .dataframe tbody tr th:only-of-type {\n",
       "        vertical-align: middle;\n",
       "    }\n",
       "\n",
       "    .dataframe tbody tr th {\n",
       "        vertical-align: top;\n",
       "    }\n",
       "\n",
       "    .dataframe thead th {\n",
       "        text-align: right;\n",
       "    }\n",
       "</style>\n",
       "<table border=\"1\" class=\"dataframe\">\n",
       "  <thead>\n",
       "    <tr style=\"text-align: right;\">\n",
       "      <th></th>\n",
       "      <th>index</th>\n",
       "      <th>uid</th>\n",
       "    </tr>\n",
       "  </thead>\n",
       "  <tbody>\n",
       "    <tr>\n",
       "      <td>0</td>\n",
       "      <td>count</td>\n",
       "      <td>12.000000</td>\n",
       "    </tr>\n",
       "    <tr>\n",
       "      <td>1</td>\n",
       "      <td>mean</td>\n",
       "      <td>4201.250000</td>\n",
       "    </tr>\n",
       "    <tr>\n",
       "      <td>2</td>\n",
       "      <td>std</td>\n",
       "      <td>1511.861052</td>\n",
       "    </tr>\n",
       "    <tr>\n",
       "      <td>3</td>\n",
       "      <td>min</td>\n",
       "      <td>1807.000000</td>\n",
       "    </tr>\n",
       "    <tr>\n",
       "      <td>4</td>\n",
       "      <td>25%</td>\n",
       "      <td>3045.500000</td>\n",
       "    </tr>\n",
       "    <tr>\n",
       "      <td>5</td>\n",
       "      <td>50%</td>\n",
       "      <td>4533.500000</td>\n",
       "    </tr>\n",
       "    <tr>\n",
       "      <td>6</td>\n",
       "      <td>75%</td>\n",
       "      <td>5409.250000</td>\n",
       "    </tr>\n",
       "    <tr>\n",
       "      <td>7</td>\n",
       "      <td>max</td>\n",
       "      <td>6218.000000</td>\n",
       "    </tr>\n",
       "  </tbody>\n",
       "</table>\n",
       "</div>"
      ],
      "text/plain": [
       "   index          uid\n",
       "0  count    12.000000\n",
       "1   mean  4201.250000\n",
       "2    std  1511.861052\n",
       "3    min  1807.000000\n",
       "4    25%  3045.500000\n",
       "5    50%  4533.500000\n",
       "6    75%  5409.250000\n",
       "7    max  6218.000000"
      ]
     },
     "execution_count": 84,
     "metadata": {},
     "output_type": "execute_result"
    }
   ],
   "source": [
    "buying_per_month=  orders.groupby('buying_month').agg({'uid' : 'count'}).describe().reset_index()\n",
    "buying_per_month"
   ]
  },
  {
   "cell_type": "code",
   "execution_count": 85,
   "metadata": {},
   "outputs": [
    {
     "data": {
      "text/html": [
       "<div>\n",
       "<style scoped>\n",
       "    .dataframe tbody tr th:only-of-type {\n",
       "        vertical-align: middle;\n",
       "    }\n",
       "\n",
       "    .dataframe tbody tr th {\n",
       "        vertical-align: top;\n",
       "    }\n",
       "\n",
       "    .dataframe thead th {\n",
       "        text-align: right;\n",
       "    }\n",
       "</style>\n",
       "<table border=\"1\" class=\"dataframe\">\n",
       "  <thead>\n",
       "    <tr style=\"text-align: right;\">\n",
       "      <th></th>\n",
       "      <th>parameter</th>\n",
       "      <th>per_day</th>\n",
       "      <th>per_week</th>\n",
       "      <th>per_month</th>\n",
       "    </tr>\n",
       "  </thead>\n",
       "  <tbody>\n",
       "    <tr>\n",
       "      <td>0</td>\n",
       "      <td>count</td>\n",
       "      <td>364.000000</td>\n",
       "      <td>52.000000</td>\n",
       "      <td>12.000000</td>\n",
       "    </tr>\n",
       "    <tr>\n",
       "      <td>1</td>\n",
       "      <td>mean</td>\n",
       "      <td>138.502747</td>\n",
       "      <td>969.519231</td>\n",
       "      <td>4201.250000</td>\n",
       "    </tr>\n",
       "    <tr>\n",
       "      <td>2</td>\n",
       "      <td>std</td>\n",
       "      <td>76.858480</td>\n",
       "      <td>397.630457</td>\n",
       "      <td>1511.861052</td>\n",
       "    </tr>\n",
       "    <tr>\n",
       "      <td>3</td>\n",
       "      <td>min</td>\n",
       "      <td>1.000000</td>\n",
       "      <td>314.000000</td>\n",
       "      <td>1807.000000</td>\n",
       "    </tr>\n",
       "    <tr>\n",
       "      <td>4</td>\n",
       "      <td>25%</td>\n",
       "      <td>82.750000</td>\n",
       "      <td>658.500000</td>\n",
       "      <td>3045.500000</td>\n",
       "    </tr>\n",
       "    <tr>\n",
       "      <td>5</td>\n",
       "      <td>50%</td>\n",
       "      <td>136.000000</td>\n",
       "      <td>997.500000</td>\n",
       "      <td>4533.500000</td>\n",
       "    </tr>\n",
       "    <tr>\n",
       "      <td>6</td>\n",
       "      <td>75%</td>\n",
       "      <td>177.000000</td>\n",
       "      <td>1270.500000</td>\n",
       "      <td>5409.250000</td>\n",
       "    </tr>\n",
       "    <tr>\n",
       "      <td>7</td>\n",
       "      <td>max</td>\n",
       "      <td>814.000000</td>\n",
       "      <td>1894.000000</td>\n",
       "      <td>6218.000000</td>\n",
       "    </tr>\n",
       "  </tbody>\n",
       "</table>\n",
       "</div>"
      ],
      "text/plain": [
       "  parameter    per_day      per_week    per_month\n",
       "0     count  364.000000    52.000000    12.000000\n",
       "1      mean  138.502747   969.519231  4201.250000\n",
       "2       std   76.858480   397.630457  1511.861052\n",
       "3       min    1.000000   314.000000  1807.000000\n",
       "4       25%   82.750000   658.500000  3045.500000\n",
       "5       50%  136.000000   997.500000  4533.500000\n",
       "6       75%  177.000000  1270.500000  5409.250000\n",
       "7       max  814.000000  1894.000000  6218.000000"
      ]
     },
     "execution_count": 85,
     "metadata": {},
     "output_type": "execute_result"
    }
   ],
   "source": [
    "buying_per_dayweek = buying_per_day.merge(buying_per_week, on = 'index')\n",
    "united_buying = buying_per_dayweek.merge(buying_per_month, on = 'index')\n",
    "united_buying.columns = ['parameter', 'per_day ', 'per_week', 'per_month']\n",
    "united_buying\n",
    "#знаю, что получилось не очень, если бы вы подсказали, как сделать получше, была бы очень благодарна"
   ]
  },
  {
   "cell_type": "code",
   "execution_count": 86,
   "metadata": {},
   "outputs": [
    {
     "data": {
      "text/html": [
       "<div>\n",
       "<style scoped>\n",
       "    .dataframe tbody tr th:only-of-type {\n",
       "        vertical-align: middle;\n",
       "    }\n",
       "\n",
       "    .dataframe tbody tr th {\n",
       "        vertical-align: top;\n",
       "    }\n",
       "\n",
       "    .dataframe thead th {\n",
       "        text-align: right;\n",
       "    }\n",
       "</style>\n",
       "<table border=\"1\" class=\"dataframe\">\n",
       "  <thead>\n",
       "    <tr style=\"text-align: right;\">\n",
       "      <th></th>\n",
       "      <th>buying_month</th>\n",
       "      <th>buying_count</th>\n",
       "    </tr>\n",
       "  </thead>\n",
       "  <tbody>\n",
       "    <tr>\n",
       "      <td>0</td>\n",
       "      <td>1</td>\n",
       "      <td>4721</td>\n",
       "    </tr>\n",
       "    <tr>\n",
       "      <td>1</td>\n",
       "      <td>2</td>\n",
       "      <td>5281</td>\n",
       "    </tr>\n",
       "    <tr>\n",
       "      <td>2</td>\n",
       "      <td>3</td>\n",
       "      <td>5326</td>\n",
       "    </tr>\n",
       "    <tr>\n",
       "      <td>3</td>\n",
       "      <td>4</td>\n",
       "      <td>3273</td>\n",
       "    </tr>\n",
       "    <tr>\n",
       "      <td>4</td>\n",
       "      <td>5</td>\n",
       "      <td>4346</td>\n",
       "    </tr>\n",
       "    <tr>\n",
       "      <td>5</td>\n",
       "      <td>6</td>\n",
       "      <td>2355</td>\n",
       "    </tr>\n",
       "    <tr>\n",
       "      <td>6</td>\n",
       "      <td>7</td>\n",
       "      <td>2363</td>\n",
       "    </tr>\n",
       "    <tr>\n",
       "      <td>7</td>\n",
       "      <td>8</td>\n",
       "      <td>1807</td>\n",
       "    </tr>\n",
       "    <tr>\n",
       "      <td>8</td>\n",
       "      <td>9</td>\n",
       "      <td>3387</td>\n",
       "    </tr>\n",
       "    <tr>\n",
       "      <td>9</td>\n",
       "      <td>10</td>\n",
       "      <td>5679</td>\n",
       "    </tr>\n",
       "    <tr>\n",
       "      <td>10</td>\n",
       "      <td>11</td>\n",
       "      <td>5659</td>\n",
       "    </tr>\n",
       "    <tr>\n",
       "      <td>11</td>\n",
       "      <td>12</td>\n",
       "      <td>6218</td>\n",
       "    </tr>\n",
       "  </tbody>\n",
       "</table>\n",
       "</div>"
      ],
      "text/plain": [
       "    buying_month  buying_count\n",
       "0              1          4721\n",
       "1              2          5281\n",
       "2              3          5326\n",
       "3              4          3273\n",
       "4              5          4346\n",
       "5              6          2355\n",
       "6              7          2363\n",
       "7              8          1807\n",
       "8              9          3387\n",
       "9             10          5679\n",
       "10            11          5659\n",
       "11            12          6218"
      ]
     },
     "execution_count": 86,
     "metadata": {},
     "output_type": "execute_result"
    }
   ],
   "source": [
    "buying_per_month_count = orders.groupby('buying_month').agg({'uid' : 'count'}).reset_index()\n",
    "buying_per_month_count= buying_per_month_count.rename(columns={'uid':'buying_count'})\n",
    "buying_per_month_count"
   ]
  },
  {
   "cell_type": "code",
   "execution_count": 87,
   "metadata": {},
   "outputs": [
    {
     "data": {
      "text/html": [
       "<div>\n",
       "<style scoped>\n",
       "    .dataframe tbody tr th:only-of-type {\n",
       "        vertical-align: middle;\n",
       "    }\n",
       "\n",
       "    .dataframe tbody tr th {\n",
       "        vertical-align: top;\n",
       "    }\n",
       "\n",
       "    .dataframe thead th {\n",
       "        text-align: right;\n",
       "    }\n",
       "</style>\n",
       "<table border=\"1\" class=\"dataframe\">\n",
       "  <thead>\n",
       "    <tr style=\"text-align: right;\">\n",
       "      <th></th>\n",
       "      <th>buying_month</th>\n",
       "      <th>buyer_count</th>\n",
       "    </tr>\n",
       "  </thead>\n",
       "  <tbody>\n",
       "    <tr>\n",
       "      <td>0</td>\n",
       "      <td>1</td>\n",
       "      <td>3898</td>\n",
       "    </tr>\n",
       "    <tr>\n",
       "      <td>1</td>\n",
       "      <td>2</td>\n",
       "      <td>4258</td>\n",
       "    </tr>\n",
       "    <tr>\n",
       "      <td>2</td>\n",
       "      <td>3</td>\n",
       "      <td>4181</td>\n",
       "    </tr>\n",
       "    <tr>\n",
       "      <td>3</td>\n",
       "      <td>4</td>\n",
       "      <td>2744</td>\n",
       "    </tr>\n",
       "    <tr>\n",
       "      <td>4</td>\n",
       "      <td>5</td>\n",
       "      <td>3544</td>\n",
       "    </tr>\n",
       "    <tr>\n",
       "      <td>5</td>\n",
       "      <td>6</td>\n",
       "      <td>2024</td>\n",
       "    </tr>\n",
       "    <tr>\n",
       "      <td>6</td>\n",
       "      <td>7</td>\n",
       "      <td>1984</td>\n",
       "    </tr>\n",
       "    <tr>\n",
       "      <td>7</td>\n",
       "      <td>8</td>\n",
       "      <td>1472</td>\n",
       "    </tr>\n",
       "    <tr>\n",
       "      <td>8</td>\n",
       "      <td>9</td>\n",
       "      <td>2750</td>\n",
       "    </tr>\n",
       "    <tr>\n",
       "      <td>9</td>\n",
       "      <td>10</td>\n",
       "      <td>4675</td>\n",
       "    </tr>\n",
       "    <tr>\n",
       "      <td>10</td>\n",
       "      <td>11</td>\n",
       "      <td>4547</td>\n",
       "    </tr>\n",
       "    <tr>\n",
       "      <td>11</td>\n",
       "      <td>12</td>\n",
       "      <td>4942</td>\n",
       "    </tr>\n",
       "  </tbody>\n",
       "</table>\n",
       "</div>"
      ],
      "text/plain": [
       "    buying_month  buyer_count\n",
       "0              1         3898\n",
       "1              2         4258\n",
       "2              3         4181\n",
       "3              4         2744\n",
       "4              5         3544\n",
       "5              6         2024\n",
       "6              7         1984\n",
       "7              8         1472\n",
       "8              9         2750\n",
       "9             10         4675\n",
       "10            11         4547\n",
       "11            12         4942"
      ]
     },
     "execution_count": 87,
     "metadata": {},
     "output_type": "execute_result"
    }
   ],
   "source": [
    "buying_per_month_nunique = orders.groupby('buying_month').agg({'uid' : 'nunique'}).reset_index()\n",
    "buying_per_month_nunique = buying_per_month_nunique.rename(columns={'uid':'buyer_count'})\n",
    "buying_per_month_nunique"
   ]
  },
  {
   "cell_type": "code",
   "execution_count": 88,
   "metadata": {},
   "outputs": [],
   "source": [
    "buying_per_month_one_people = buying_per_month_count.merge(buying_per_month_nunique)\n",
    "buying_per_month_one_people ['one_people'] = buying_per_month_one_people['buying_count']/buying_per_month_one_people['buyer_count']"
   ]
  },
  {
   "cell_type": "code",
   "execution_count": 89,
   "metadata": {},
   "outputs": [
    {
     "data": {
      "text/html": [
       "<div>\n",
       "<style scoped>\n",
       "    .dataframe tbody tr th:only-of-type {\n",
       "        vertical-align: middle;\n",
       "    }\n",
       "\n",
       "    .dataframe tbody tr th {\n",
       "        vertical-align: top;\n",
       "    }\n",
       "\n",
       "    .dataframe thead th {\n",
       "        text-align: right;\n",
       "    }\n",
       "</style>\n",
       "<table border=\"1\" class=\"dataframe\">\n",
       "  <thead>\n",
       "    <tr style=\"text-align: right;\">\n",
       "      <th></th>\n",
       "      <th>buying_month</th>\n",
       "      <th>buying_count</th>\n",
       "      <th>buyer_count</th>\n",
       "      <th>one_people</th>\n",
       "    </tr>\n",
       "  </thead>\n",
       "  <tbody>\n",
       "    <tr>\n",
       "      <td>0</td>\n",
       "      <td>1</td>\n",
       "      <td>4721</td>\n",
       "      <td>3898</td>\n",
       "      <td>1.211134</td>\n",
       "    </tr>\n",
       "    <tr>\n",
       "      <td>1</td>\n",
       "      <td>2</td>\n",
       "      <td>5281</td>\n",
       "      <td>4258</td>\n",
       "      <td>1.240254</td>\n",
       "    </tr>\n",
       "    <tr>\n",
       "      <td>2</td>\n",
       "      <td>3</td>\n",
       "      <td>5326</td>\n",
       "      <td>4181</td>\n",
       "      <td>1.273858</td>\n",
       "    </tr>\n",
       "    <tr>\n",
       "      <td>3</td>\n",
       "      <td>4</td>\n",
       "      <td>3273</td>\n",
       "      <td>2744</td>\n",
       "      <td>1.192784</td>\n",
       "    </tr>\n",
       "    <tr>\n",
       "      <td>4</td>\n",
       "      <td>5</td>\n",
       "      <td>4346</td>\n",
       "      <td>3544</td>\n",
       "      <td>1.226298</td>\n",
       "    </tr>\n",
       "    <tr>\n",
       "      <td>5</td>\n",
       "      <td>6</td>\n",
       "      <td>2355</td>\n",
       "      <td>2024</td>\n",
       "      <td>1.163538</td>\n",
       "    </tr>\n",
       "    <tr>\n",
       "      <td>6</td>\n",
       "      <td>7</td>\n",
       "      <td>2363</td>\n",
       "      <td>1984</td>\n",
       "      <td>1.191028</td>\n",
       "    </tr>\n",
       "    <tr>\n",
       "      <td>7</td>\n",
       "      <td>8</td>\n",
       "      <td>1807</td>\n",
       "      <td>1472</td>\n",
       "      <td>1.227582</td>\n",
       "    </tr>\n",
       "    <tr>\n",
       "      <td>8</td>\n",
       "      <td>9</td>\n",
       "      <td>3387</td>\n",
       "      <td>2750</td>\n",
       "      <td>1.231636</td>\n",
       "    </tr>\n",
       "    <tr>\n",
       "      <td>9</td>\n",
       "      <td>10</td>\n",
       "      <td>5679</td>\n",
       "      <td>4675</td>\n",
       "      <td>1.214759</td>\n",
       "    </tr>\n",
       "    <tr>\n",
       "      <td>10</td>\n",
       "      <td>11</td>\n",
       "      <td>5659</td>\n",
       "      <td>4547</td>\n",
       "      <td>1.244557</td>\n",
       "    </tr>\n",
       "    <tr>\n",
       "      <td>11</td>\n",
       "      <td>12</td>\n",
       "      <td>6218</td>\n",
       "      <td>4942</td>\n",
       "      <td>1.258195</td>\n",
       "    </tr>\n",
       "  </tbody>\n",
       "</table>\n",
       "</div>"
      ],
      "text/plain": [
       "    buying_month  buying_count  buyer_count  one_people\n",
       "0              1          4721         3898    1.211134\n",
       "1              2          5281         4258    1.240254\n",
       "2              3          5326         4181    1.273858\n",
       "3              4          3273         2744    1.192784\n",
       "4              5          4346         3544    1.226298\n",
       "5              6          2355         2024    1.163538\n",
       "6              7          2363         1984    1.191028\n",
       "7              8          1807         1472    1.227582\n",
       "8              9          3387         2750    1.231636\n",
       "9             10          5679         4675    1.214759\n",
       "10            11          5659         4547    1.244557\n",
       "11            12          6218         4942    1.258195"
      ]
     },
     "execution_count": 89,
     "metadata": {},
     "output_type": "execute_result"
    }
   ],
   "source": [
    "buying_per_month_one_people"
   ]
  },
  {
   "cell_type": "code",
   "execution_count": 90,
   "metadata": {},
   "outputs": [
    {
     "data": {
      "text/plain": [
       "1.222968553416106"
      ]
     },
     "execution_count": 90,
     "metadata": {},
     "output_type": "execute_result"
    }
   ],
   "source": [
    "buying_per_month_one_people['one_people'].mean()"
   ]
  },
  {
   "cell_type": "markdown",
   "metadata": {},
   "source": [
    "#### Какой средний чек?<a name=\"step14\"></a>"
   ]
  },
  {
   "cell_type": "code",
   "execution_count": 91,
   "metadata": {},
   "outputs": [
    {
     "data": {
      "text/html": [
       "<div>\n",
       "<style scoped>\n",
       "    .dataframe tbody tr th:only-of-type {\n",
       "        vertical-align: middle;\n",
       "    }\n",
       "\n",
       "    .dataframe tbody tr th {\n",
       "        vertical-align: top;\n",
       "    }\n",
       "\n",
       "    .dataframe thead th {\n",
       "        text-align: right;\n",
       "    }\n",
       "</style>\n",
       "<table border=\"1\" class=\"dataframe\">\n",
       "  <thead>\n",
       "    <tr style=\"text-align: right;\">\n",
       "      <th></th>\n",
       "      <th>uid</th>\n",
       "      <th>buy_ts</th>\n",
       "      <th>revenue</th>\n",
       "      <th>buying_month</th>\n",
       "      <th>buying_week</th>\n",
       "      <th>buying_date</th>\n",
       "    </tr>\n",
       "  </thead>\n",
       "  <tbody>\n",
       "    <tr>\n",
       "      <td>0</td>\n",
       "      <td>10329302124590727494</td>\n",
       "      <td>2017-06-01 00:10:00</td>\n",
       "      <td>17.00</td>\n",
       "      <td>6</td>\n",
       "      <td>22</td>\n",
       "      <td>2017-06-01</td>\n",
       "    </tr>\n",
       "    <tr>\n",
       "      <td>1</td>\n",
       "      <td>11627257723692907447</td>\n",
       "      <td>2017-06-01 00:25:00</td>\n",
       "      <td>0.55</td>\n",
       "      <td>6</td>\n",
       "      <td>22</td>\n",
       "      <td>2017-06-01</td>\n",
       "    </tr>\n",
       "    <tr>\n",
       "      <td>2</td>\n",
       "      <td>17903680561304213844</td>\n",
       "      <td>2017-06-01 00:27:00</td>\n",
       "      <td>0.37</td>\n",
       "      <td>6</td>\n",
       "      <td>22</td>\n",
       "      <td>2017-06-01</td>\n",
       "    </tr>\n",
       "    <tr>\n",
       "      <td>3</td>\n",
       "      <td>16109239769442553005</td>\n",
       "      <td>2017-06-01 00:29:00</td>\n",
       "      <td>0.55</td>\n",
       "      <td>6</td>\n",
       "      <td>22</td>\n",
       "      <td>2017-06-01</td>\n",
       "    </tr>\n",
       "    <tr>\n",
       "      <td>4</td>\n",
       "      <td>14200605875248379450</td>\n",
       "      <td>2017-06-01 07:58:00</td>\n",
       "      <td>0.37</td>\n",
       "      <td>6</td>\n",
       "      <td>22</td>\n",
       "      <td>2017-06-01</td>\n",
       "    </tr>\n",
       "  </tbody>\n",
       "</table>\n",
       "</div>"
      ],
      "text/plain": [
       "                    uid              buy_ts  revenue  buying_month  \\\n",
       "0  10329302124590727494 2017-06-01 00:10:00    17.00             6   \n",
       "1  11627257723692907447 2017-06-01 00:25:00     0.55             6   \n",
       "2  17903680561304213844 2017-06-01 00:27:00     0.37             6   \n",
       "3  16109239769442553005 2017-06-01 00:29:00     0.55             6   \n",
       "4  14200605875248379450 2017-06-01 07:58:00     0.37             6   \n",
       "\n",
       "   buying_week buying_date  \n",
       "0           22  2017-06-01  \n",
       "1           22  2017-06-01  \n",
       "2           22  2017-06-01  \n",
       "3           22  2017-06-01  \n",
       "4           22  2017-06-01  "
      ]
     },
     "execution_count": 91,
     "metadata": {},
     "output_type": "execute_result"
    }
   ],
   "source": [
    "orders.head()"
   ]
  },
  {
   "cell_type": "code",
   "execution_count": 92,
   "metadata": {},
   "outputs": [
    {
     "data": {
      "text/html": [
       "<div>\n",
       "<style scoped>\n",
       "    .dataframe tbody tr th:only-of-type {\n",
       "        vertical-align: middle;\n",
       "    }\n",
       "\n",
       "    .dataframe tbody tr th {\n",
       "        vertical-align: top;\n",
       "    }\n",
       "\n",
       "    .dataframe thead th {\n",
       "        text-align: right;\n",
       "    }\n",
       "</style>\n",
       "<table border=\"1\" class=\"dataframe\">\n",
       "  <thead>\n",
       "    <tr style=\"text-align: right;\">\n",
       "      <th></th>\n",
       "      <th>buying_month</th>\n",
       "      <th>revenue</th>\n",
       "    </tr>\n",
       "  </thead>\n",
       "  <tbody>\n",
       "    <tr>\n",
       "      <td>0</td>\n",
       "      <td>1</td>\n",
       "      <td>4.112927</td>\n",
       "    </tr>\n",
       "    <tr>\n",
       "      <td>1</td>\n",
       "      <td>2</td>\n",
       "      <td>4.840095</td>\n",
       "    </tr>\n",
       "    <tr>\n",
       "      <td>2</td>\n",
       "      <td>3</td>\n",
       "      <td>5.413930</td>\n",
       "    </tr>\n",
       "    <tr>\n",
       "      <td>3</td>\n",
       "      <td>4</td>\n",
       "      <td>5.150645</td>\n",
       "    </tr>\n",
       "    <tr>\n",
       "      <td>4</td>\n",
       "      <td>5</td>\n",
       "      <td>4.771279</td>\n",
       "    </tr>\n",
       "    <tr>\n",
       "      <td>5</td>\n",
       "      <td>6</td>\n",
       "      <td>4.059834</td>\n",
       "    </tr>\n",
       "    <tr>\n",
       "      <td>6</td>\n",
       "      <td>7</td>\n",
       "      <td>5.306589</td>\n",
       "    </tr>\n",
       "    <tr>\n",
       "      <td>7</td>\n",
       "      <td>8</td>\n",
       "      <td>4.847139</td>\n",
       "    </tr>\n",
       "    <tr>\n",
       "      <td>8</td>\n",
       "      <td>9</td>\n",
       "      <td>5.416448</td>\n",
       "    </tr>\n",
       "    <tr>\n",
       "      <td>9</td>\n",
       "      <td>10</td>\n",
       "      <td>4.928280</td>\n",
       "    </tr>\n",
       "    <tr>\n",
       "      <td>10</td>\n",
       "      <td>11</td>\n",
       "      <td>4.783518</td>\n",
       "    </tr>\n",
       "    <tr>\n",
       "      <td>11</td>\n",
       "      <td>12</td>\n",
       "      <td>5.852139</td>\n",
       "    </tr>\n",
       "  </tbody>\n",
       "</table>\n",
       "</div>"
      ],
      "text/plain": [
       "    buying_month   revenue\n",
       "0              1  4.112927\n",
       "1              2  4.840095\n",
       "2              3  5.413930\n",
       "3              4  5.150645\n",
       "4              5  4.771279\n",
       "5              6  4.059834\n",
       "6              7  5.306589\n",
       "7              8  4.847139\n",
       "8              9  5.416448\n",
       "9             10  4.928280\n",
       "10            11  4.783518\n",
       "11            12  5.852139"
      ]
     },
     "execution_count": 92,
     "metadata": {},
     "output_type": "execute_result"
    }
   ],
   "source": [
    "average_check_per_month = orders.groupby('buying_month').agg({'revenue': 'mean'}).reset_index()\n",
    "average_check_per_month"
   ]
  },
  {
   "cell_type": "code",
   "execution_count": 93,
   "metadata": {},
   "outputs": [],
   "source": [
    "months = ['January', 'February', 'March', 'April', 'May', 'June', 'July', 'August', 'September', 'October', 'November', 'December']"
   ]
  },
  {
   "cell_type": "code",
   "execution_count": 94,
   "metadata": {},
   "outputs": [],
   "source": [
    "average_check_per_month['buying_month'] = months"
   ]
  },
  {
   "cell_type": "code",
   "execution_count": 95,
   "metadata": {},
   "outputs": [
    {
     "data": {
      "text/html": [
       "<div>\n",
       "<style scoped>\n",
       "    .dataframe tbody tr th:only-of-type {\n",
       "        vertical-align: middle;\n",
       "    }\n",
       "\n",
       "    .dataframe tbody tr th {\n",
       "        vertical-align: top;\n",
       "    }\n",
       "\n",
       "    .dataframe thead th {\n",
       "        text-align: right;\n",
       "    }\n",
       "</style>\n",
       "<table border=\"1\" class=\"dataframe\">\n",
       "  <thead>\n",
       "    <tr style=\"text-align: right;\">\n",
       "      <th></th>\n",
       "      <th>buying_month</th>\n",
       "      <th>revenue</th>\n",
       "    </tr>\n",
       "  </thead>\n",
       "  <tbody>\n",
       "    <tr>\n",
       "      <td>0</td>\n",
       "      <td>January</td>\n",
       "      <td>4.112927</td>\n",
       "    </tr>\n",
       "    <tr>\n",
       "      <td>1</td>\n",
       "      <td>February</td>\n",
       "      <td>4.840095</td>\n",
       "    </tr>\n",
       "    <tr>\n",
       "      <td>2</td>\n",
       "      <td>March</td>\n",
       "      <td>5.413930</td>\n",
       "    </tr>\n",
       "    <tr>\n",
       "      <td>3</td>\n",
       "      <td>April</td>\n",
       "      <td>5.150645</td>\n",
       "    </tr>\n",
       "    <tr>\n",
       "      <td>4</td>\n",
       "      <td>May</td>\n",
       "      <td>4.771279</td>\n",
       "    </tr>\n",
       "    <tr>\n",
       "      <td>5</td>\n",
       "      <td>June</td>\n",
       "      <td>4.059834</td>\n",
       "    </tr>\n",
       "    <tr>\n",
       "      <td>6</td>\n",
       "      <td>July</td>\n",
       "      <td>5.306589</td>\n",
       "    </tr>\n",
       "    <tr>\n",
       "      <td>7</td>\n",
       "      <td>August</td>\n",
       "      <td>4.847139</td>\n",
       "    </tr>\n",
       "    <tr>\n",
       "      <td>8</td>\n",
       "      <td>September</td>\n",
       "      <td>5.416448</td>\n",
       "    </tr>\n",
       "    <tr>\n",
       "      <td>9</td>\n",
       "      <td>October</td>\n",
       "      <td>4.928280</td>\n",
       "    </tr>\n",
       "    <tr>\n",
       "      <td>10</td>\n",
       "      <td>November</td>\n",
       "      <td>4.783518</td>\n",
       "    </tr>\n",
       "    <tr>\n",
       "      <td>11</td>\n",
       "      <td>December</td>\n",
       "      <td>5.852139</td>\n",
       "    </tr>\n",
       "  </tbody>\n",
       "</table>\n",
       "</div>"
      ],
      "text/plain": [
       "   buying_month   revenue\n",
       "0       January  4.112927\n",
       "1      February  4.840095\n",
       "2         March  5.413930\n",
       "3         April  5.150645\n",
       "4           May  4.771279\n",
       "5          June  4.059834\n",
       "6          July  5.306589\n",
       "7        August  4.847139\n",
       "8     September  5.416448\n",
       "9       October  4.928280\n",
       "10     November  4.783518\n",
       "11     December  5.852139"
      ]
     },
     "execution_count": 95,
     "metadata": {},
     "output_type": "execute_result"
    }
   ],
   "source": [
    "average_check_per_month"
   ]
  },
  {
   "cell_type": "code",
   "execution_count": 96,
   "metadata": {},
   "outputs": [
    {
     "data": {
      "text/plain": [
       "Text(0.5, 1.0, 'Average check per month')"
      ]
     },
     "execution_count": 96,
     "metadata": {},
     "output_type": "execute_result"
    },
    {
     "data": {
      "image/png": "[encoded data removed]",
      "text/plain": [
       "<Figure size 720x360 with 1 Axes>"
      ]
     },
     "metadata": {
      "needs_background": "light"
     },
     "output_type": "display_data"
    }
   ],
   "source": [
    "ax = average_check_per_month.plot(x='buying_month', y='revenue', kind='barh', grid = True, figsize = (10,5))\n",
    "ax.set_xlabel('revenue')\n",
    "ax.set_ylabel('buying_month')\n",
    "ax.set_title('Average check per month')"
   ]
  },
  {
   "cell_type": "markdown",
   "metadata": {},
   "source": [
    "Средний чек колеблется от 4 до 6. Самый большой в декабре, возможно кто то покупает билеты в подарок на новый год ☻"
   ]
  },
  {
   "cell_type": "markdown",
   "metadata": {},
   "source": [
    "Рассмотрим изменения среднего чека в когортах по месяцу совершения покупки"
   ]
  },
  {
   "cell_type": "code",
   "execution_count": 97,
   "metadata": {},
   "outputs": [
    {
     "data": {
      "text/plain": [
       "uid\n",
       "313578113262317        2018-01-03 21:51:00\n",
       "1575281904278712       2017-06-03 10:13:00\n",
       "2429014661409475       2017-10-11 18:33:00\n",
       "2464366381792757       2018-01-28 15:54:00\n",
       "2551852515556206       2017-11-24 10:14:00\n",
       "                               ...        \n",
       "18445147675727495770   2017-11-24 09:03:00\n",
       "18445407535914413204   2017-09-22 23:55:00\n",
       "18445601152732270159   2018-03-26 22:54:00\n",
       "18446156210226471712   2018-02-18 19:34:00\n",
       "18446167067214817906   2017-10-17 10:16:00\n",
       "Name: first_buying_date, Length: 36523, dtype: datetime64[ns]"
      ]
     },
     "execution_count": 97,
     "metadata": {},
     "output_type": "execute_result"
    }
   ],
   "source": [
    "first_order_date_by_customers = orders.groupby('uid')['buy_ts'].min()\n",
    "first_order_date_by_customers.name = 'first_buying_date'\n",
    "first_order_date_by_customers"
   ]
  },
  {
   "cell_type": "code",
   "execution_count": 98,
   "metadata": {},
   "outputs": [
    {
     "data": {
      "text/html": [
       "<div>\n",
       "<style scoped>\n",
       "    .dataframe tbody tr th:only-of-type {\n",
       "        vertical-align: middle;\n",
       "    }\n",
       "\n",
       "    .dataframe tbody tr th {\n",
       "        vertical-align: top;\n",
       "    }\n",
       "\n",
       "    .dataframe thead th {\n",
       "        text-align: right;\n",
       "    }\n",
       "</style>\n",
       "<table border=\"1\" class=\"dataframe\">\n",
       "  <thead>\n",
       "    <tr style=\"text-align: right;\">\n",
       "      <th></th>\n",
       "      <th>uid</th>\n",
       "      <th>buy_ts</th>\n",
       "      <th>revenue</th>\n",
       "      <th>buying_month</th>\n",
       "      <th>buying_week</th>\n",
       "      <th>buying_date</th>\n",
       "      <th>first_buying_date</th>\n",
       "      <th>first_buying_month</th>\n",
       "    </tr>\n",
       "  </thead>\n",
       "  <tbody>\n",
       "    <tr>\n",
       "      <td>0</td>\n",
       "      <td>10329302124590727494</td>\n",
       "      <td>2017-06-01 00:10:00</td>\n",
       "      <td>17.00</td>\n",
       "      <td>2017-06-01</td>\n",
       "      <td>22</td>\n",
       "      <td>2017-06-01</td>\n",
       "      <td>2017-06-01 00:10:00</td>\n",
       "      <td>2017-06-01</td>\n",
       "    </tr>\n",
       "    <tr>\n",
       "      <td>1</td>\n",
       "      <td>11627257723692907447</td>\n",
       "      <td>2017-06-01 00:25:00</td>\n",
       "      <td>0.55</td>\n",
       "      <td>2017-06-01</td>\n",
       "      <td>22</td>\n",
       "      <td>2017-06-01</td>\n",
       "      <td>2017-06-01 00:25:00</td>\n",
       "      <td>2017-06-01</td>\n",
       "    </tr>\n",
       "    <tr>\n",
       "      <td>2</td>\n",
       "      <td>17903680561304213844</td>\n",
       "      <td>2017-06-01 00:27:00</td>\n",
       "      <td>0.37</td>\n",
       "      <td>2017-06-01</td>\n",
       "      <td>22</td>\n",
       "      <td>2017-06-01</td>\n",
       "      <td>2017-06-01 00:27:00</td>\n",
       "      <td>2017-06-01</td>\n",
       "    </tr>\n",
       "    <tr>\n",
       "      <td>3</td>\n",
       "      <td>16109239769442553005</td>\n",
       "      <td>2017-06-01 00:29:00</td>\n",
       "      <td>0.55</td>\n",
       "      <td>2017-06-01</td>\n",
       "      <td>22</td>\n",
       "      <td>2017-06-01</td>\n",
       "      <td>2017-06-01 00:29:00</td>\n",
       "      <td>2017-06-01</td>\n",
       "    </tr>\n",
       "    <tr>\n",
       "      <td>4</td>\n",
       "      <td>14200605875248379450</td>\n",
       "      <td>2017-06-01 07:58:00</td>\n",
       "      <td>0.37</td>\n",
       "      <td>2017-06-01</td>\n",
       "      <td>22</td>\n",
       "      <td>2017-06-01</td>\n",
       "      <td>2017-06-01 07:58:00</td>\n",
       "      <td>2017-06-01</td>\n",
       "    </tr>\n",
       "    <tr>\n",
       "      <td>...</td>\n",
       "      <td>...</td>\n",
       "      <td>...</td>\n",
       "      <td>...</td>\n",
       "      <td>...</td>\n",
       "      <td>...</td>\n",
       "      <td>...</td>\n",
       "      <td>...</td>\n",
       "      <td>...</td>\n",
       "    </tr>\n",
       "    <tr>\n",
       "      <td>50410</td>\n",
       "      <td>12296626599487328624</td>\n",
       "      <td>2018-05-31 23:50:00</td>\n",
       "      <td>4.64</td>\n",
       "      <td>2018-05-01</td>\n",
       "      <td>22</td>\n",
       "      <td>2018-05-31</td>\n",
       "      <td>2018-05-31 23:50:00</td>\n",
       "      <td>2018-05-01</td>\n",
       "    </tr>\n",
       "    <tr>\n",
       "      <td>50411</td>\n",
       "      <td>11369640365507475976</td>\n",
       "      <td>2018-05-31 23:50:00</td>\n",
       "      <td>5.80</td>\n",
       "      <td>2018-05-01</td>\n",
       "      <td>22</td>\n",
       "      <td>2018-05-31</td>\n",
       "      <td>2018-05-31 23:50:00</td>\n",
       "      <td>2018-05-01</td>\n",
       "    </tr>\n",
       "    <tr>\n",
       "      <td>50412</td>\n",
       "      <td>1786462140797698849</td>\n",
       "      <td>2018-05-31 23:54:00</td>\n",
       "      <td>0.30</td>\n",
       "      <td>2018-05-01</td>\n",
       "      <td>22</td>\n",
       "      <td>2018-05-31</td>\n",
       "      <td>2018-05-31 23:54:00</td>\n",
       "      <td>2018-05-01</td>\n",
       "    </tr>\n",
       "    <tr>\n",
       "      <td>50413</td>\n",
       "      <td>3993697860786194247</td>\n",
       "      <td>2018-05-31 23:56:00</td>\n",
       "      <td>3.67</td>\n",
       "      <td>2018-05-01</td>\n",
       "      <td>22</td>\n",
       "      <td>2018-05-31</td>\n",
       "      <td>2018-05-31 23:56:00</td>\n",
       "      <td>2018-05-01</td>\n",
       "    </tr>\n",
       "    <tr>\n",
       "      <td>50414</td>\n",
       "      <td>83872787173869366</td>\n",
       "      <td>2018-06-01 00:02:00</td>\n",
       "      <td>3.42</td>\n",
       "      <td>2018-06-01</td>\n",
       "      <td>22</td>\n",
       "      <td>2018-06-01</td>\n",
       "      <td>2018-06-01 00:02:00</td>\n",
       "      <td>2018-06-01</td>\n",
       "    </tr>\n",
       "  </tbody>\n",
       "</table>\n",
       "<p>50415 rows × 8 columns</p>\n",
       "</div>"
      ],
      "text/plain": [
       "                        uid              buy_ts  revenue buying_month  \\\n",
       "0      10329302124590727494 2017-06-01 00:10:00    17.00   2017-06-01   \n",
       "1      11627257723692907447 2017-06-01 00:25:00     0.55   2017-06-01   \n",
       "2      17903680561304213844 2017-06-01 00:27:00     0.37   2017-06-01   \n",
       "3      16109239769442553005 2017-06-01 00:29:00     0.55   2017-06-01   \n",
       "4      14200605875248379450 2017-06-01 07:58:00     0.37   2017-06-01   \n",
       "...                     ...                 ...      ...          ...   \n",
       "50410  12296626599487328624 2018-05-31 23:50:00     4.64   2018-05-01   \n",
       "50411  11369640365507475976 2018-05-31 23:50:00     5.80   2018-05-01   \n",
       "50412   1786462140797698849 2018-05-31 23:54:00     0.30   2018-05-01   \n",
       "50413   3993697860786194247 2018-05-31 23:56:00     3.67   2018-05-01   \n",
       "50414     83872787173869366 2018-06-01 00:02:00     3.42   2018-06-01   \n",
       "\n",
       "       buying_week buying_date   first_buying_date first_buying_month  \n",
       "0               22  2017-06-01 2017-06-01 00:10:00         2017-06-01  \n",
       "1               22  2017-06-01 2017-06-01 00:25:00         2017-06-01  \n",
       "2               22  2017-06-01 2017-06-01 00:27:00         2017-06-01  \n",
       "3               22  2017-06-01 2017-06-01 00:29:00         2017-06-01  \n",
       "4               22  2017-06-01 2017-06-01 07:58:00         2017-06-01  \n",
       "...            ...         ...                 ...                ...  \n",
       "50410           22  2018-05-31 2018-05-31 23:50:00         2018-05-01  \n",
       "50411           22  2018-05-31 2018-05-31 23:50:00         2018-05-01  \n",
       "50412           22  2018-05-31 2018-05-31 23:54:00         2018-05-01  \n",
       "50413           22  2018-05-31 2018-05-31 23:56:00         2018-05-01  \n",
       "50414           22  2018-06-01 2018-06-01 00:02:00         2018-06-01  \n",
       "\n",
       "[50415 rows x 8 columns]"
      ]
     },
     "execution_count": 98,
     "metadata": {},
     "output_type": "execute_result"
    }
   ],
   "source": [
    "orders = orders.merge(first_order_date_by_customers,on= 'uid')\n",
    "orders['first_buying_month'] = orders['first_buying_date'].astype('datetime64[M]')\n",
    "orders['buying_month'] = orders['buy_ts'].astype('datetime64[M]')\n",
    "orders"
   ]
  },
  {
   "cell_type": "code",
   "execution_count": 99,
   "metadata": {},
   "outputs": [],
   "source": [
    "buying_grouped_by_cohorts = orders.groupby(['first_buying_month','buying_month']).agg({'revenue':'sum','uid':'nunique'})"
   ]
  },
  {
   "cell_type": "code",
   "execution_count": 100,
   "metadata": {},
   "outputs": [],
   "source": [
    "buying_grouped_by_cohorts['revenue_per_user'] = buying_grouped_by_cohorts['revenue'] / buying_grouped_by_cohorts['uid']"
   ]
  },
  {
   "cell_type": "code",
   "execution_count": 101,
   "metadata": {},
   "outputs": [
    {
     "data": {
      "text/html": [
       "<div>\n",
       "<style scoped>\n",
       "    .dataframe tbody tr th:only-of-type {\n",
       "        vertical-align: middle;\n",
       "    }\n",
       "\n",
       "    .dataframe tbody tr th {\n",
       "        vertical-align: top;\n",
       "    }\n",
       "\n",
       "    .dataframe thead th {\n",
       "        text-align: right;\n",
       "    }\n",
       "</style>\n",
       "<table border=\"1\" class=\"dataframe\">\n",
       "  <thead>\n",
       "    <tr style=\"text-align: right;\">\n",
       "      <th>buying_month</th>\n",
       "      <th>2017-06-01</th>\n",
       "      <th>2017-07-01</th>\n",
       "      <th>2017-08-01</th>\n",
       "      <th>2017-09-01</th>\n",
       "      <th>2017-10-01</th>\n",
       "      <th>2017-11-01</th>\n",
       "      <th>2017-12-01</th>\n",
       "      <th>2018-01-01</th>\n",
       "      <th>2018-02-01</th>\n",
       "      <th>2018-03-01</th>\n",
       "      <th>2018-04-01</th>\n",
       "      <th>2018-05-01</th>\n",
       "      <th>2018-06-01</th>\n",
       "    </tr>\n",
       "    <tr>\n",
       "      <th>first_buying_month</th>\n",
       "      <th></th>\n",
       "      <th></th>\n",
       "      <th></th>\n",
       "      <th></th>\n",
       "      <th></th>\n",
       "      <th></th>\n",
       "      <th></th>\n",
       "      <th></th>\n",
       "      <th></th>\n",
       "      <th></th>\n",
       "      <th></th>\n",
       "      <th></th>\n",
       "      <th></th>\n",
       "    </tr>\n",
       "  </thead>\n",
       "  <tbody>\n",
       "    <tr>\n",
       "      <td>2017-06-01</td>\n",
       "      <td>4.724414</td>\n",
       "      <td>16.095410</td>\n",
       "      <td>17.706800</td>\n",
       "      <td>35.764815</td>\n",
       "      <td>23.506591</td>\n",
       "      <td>22.207761</td>\n",
       "      <td>31.011935</td>\n",
       "      <td>25.033191</td>\n",
       "      <td>19.295690</td>\n",
       "      <td>27.233556</td>\n",
       "      <td>25.681333</td>\n",
       "      <td>9.804151</td>\n",
       "      <td>NaN</td>\n",
       "    </tr>\n",
       "    <tr>\n",
       "      <td>2017-07-01</td>\n",
       "      <td>NaN</td>\n",
       "      <td>6.010218</td>\n",
       "      <td>12.396346</td>\n",
       "      <td>21.035965</td>\n",
       "      <td>10.786094</td>\n",
       "      <td>6.938163</td>\n",
       "      <td>7.896842</td>\n",
       "      <td>6.421111</td>\n",
       "      <td>6.992821</td>\n",
       "      <td>7.382143</td>\n",
       "      <td>12.861818</td>\n",
       "      <td>11.513846</td>\n",
       "      <td>NaN</td>\n",
       "    </tr>\n",
       "    <tr>\n",
       "      <td>2017-08-01</td>\n",
       "      <td>NaN</td>\n",
       "      <td>NaN</td>\n",
       "      <td>5.276518</td>\n",
       "      <td>11.148793</td>\n",
       "      <td>11.851321</td>\n",
       "      <td>12.182955</td>\n",
       "      <td>16.921250</td>\n",
       "      <td>12.139063</td>\n",
       "      <td>9.620333</td>\n",
       "      <td>12.610455</td>\n",
       "      <td>21.070000</td>\n",
       "      <td>8.307419</td>\n",
       "      <td>NaN</td>\n",
       "    </tr>\n",
       "    <tr>\n",
       "      <td>2017-09-01</td>\n",
       "      <td>NaN</td>\n",
       "      <td>NaN</td>\n",
       "      <td>NaN</td>\n",
       "      <td>5.644529</td>\n",
       "      <td>22.188385</td>\n",
       "      <td>13.445200</td>\n",
       "      <td>138.669189</td>\n",
       "      <td>19.881538</td>\n",
       "      <td>26.095000</td>\n",
       "      <td>27.437121</td>\n",
       "      <td>16.961351</td>\n",
       "      <td>11.044651</td>\n",
       "      <td>NaN</td>\n",
       "    </tr>\n",
       "    <tr>\n",
       "      <td>2017-10-01</td>\n",
       "      <td>NaN</td>\n",
       "      <td>NaN</td>\n",
       "      <td>NaN</td>\n",
       "      <td>NaN</td>\n",
       "      <td>5.003733</td>\n",
       "      <td>11.287427</td>\n",
       "      <td>6.753252</td>\n",
       "      <td>7.413152</td>\n",
       "      <td>7.072796</td>\n",
       "      <td>7.255139</td>\n",
       "      <td>6.573214</td>\n",
       "      <td>7.479701</td>\n",
       "      <td>NaN</td>\n",
       "    </tr>\n",
       "    <tr>\n",
       "      <td>2017-11-01</td>\n",
       "      <td>NaN</td>\n",
       "      <td>NaN</td>\n",
       "      <td>NaN</td>\n",
       "      <td>NaN</td>\n",
       "      <td>NaN</td>\n",
       "      <td>5.154683</td>\n",
       "      <td>7.339054</td>\n",
       "      <td>6.786583</td>\n",
       "      <td>12.510660</td>\n",
       "      <td>7.457284</td>\n",
       "      <td>4.580833</td>\n",
       "      <td>7.564839</td>\n",
       "      <td>NaN</td>\n",
       "    </tr>\n",
       "    <tr>\n",
       "      <td>2017-12-01</td>\n",
       "      <td>NaN</td>\n",
       "      <td>NaN</td>\n",
       "      <td>NaN</td>\n",
       "      <td>NaN</td>\n",
       "      <td>NaN</td>\n",
       "      <td>NaN</td>\n",
       "      <td>4.738191</td>\n",
       "      <td>7.816575</td>\n",
       "      <td>39.366019</td>\n",
       "      <td>48.135052</td>\n",
       "      <td>27.431400</td>\n",
       "      <td>23.518413</td>\n",
       "      <td>NaN</td>\n",
       "    </tr>\n",
       "    <tr>\n",
       "      <td>2018-01-01</td>\n",
       "      <td>NaN</td>\n",
       "      <td>NaN</td>\n",
       "      <td>NaN</td>\n",
       "      <td>NaN</td>\n",
       "      <td>NaN</td>\n",
       "      <td>NaN</td>\n",
       "      <td>NaN</td>\n",
       "      <td>4.135636</td>\n",
       "      <td>8.721228</td>\n",
       "      <td>12.365542</td>\n",
       "      <td>11.199767</td>\n",
       "      <td>4.699556</td>\n",
       "      <td>NaN</td>\n",
       "    </tr>\n",
       "    <tr>\n",
       "      <td>2018-02-01</td>\n",
       "      <td>NaN</td>\n",
       "      <td>NaN</td>\n",
       "      <td>NaN</td>\n",
       "      <td>NaN</td>\n",
       "      <td>NaN</td>\n",
       "      <td>NaN</td>\n",
       "      <td>NaN</td>\n",
       "      <td>NaN</td>\n",
       "      <td>4.156987</td>\n",
       "      <td>8.610000</td>\n",
       "      <td>4.942414</td>\n",
       "      <td>6.941026</td>\n",
       "      <td>NaN</td>\n",
       "    </tr>\n",
       "    <tr>\n",
       "      <td>2018-03-01</td>\n",
       "      <td>NaN</td>\n",
       "      <td>NaN</td>\n",
       "      <td>NaN</td>\n",
       "      <td>NaN</td>\n",
       "      <td>NaN</td>\n",
       "      <td>NaN</td>\n",
       "      <td>NaN</td>\n",
       "      <td>NaN</td>\n",
       "      <td>NaN</td>\n",
       "      <td>4.838803</td>\n",
       "      <td>11.811667</td>\n",
       "      <td>19.221897</td>\n",
       "      <td>NaN</td>\n",
       "    </tr>\n",
       "    <tr>\n",
       "      <td>2018-04-01</td>\n",
       "      <td>NaN</td>\n",
       "      <td>NaN</td>\n",
       "      <td>NaN</td>\n",
       "      <td>NaN</td>\n",
       "      <td>NaN</td>\n",
       "      <td>NaN</td>\n",
       "      <td>NaN</td>\n",
       "      <td>NaN</td>\n",
       "      <td>NaN</td>\n",
       "      <td>NaN</td>\n",
       "      <td>4.657597</td>\n",
       "      <td>17.535072</td>\n",
       "      <td>NaN</td>\n",
       "    </tr>\n",
       "    <tr>\n",
       "      <td>2018-05-01</td>\n",
       "      <td>NaN</td>\n",
       "      <td>NaN</td>\n",
       "      <td>NaN</td>\n",
       "      <td>NaN</td>\n",
       "      <td>NaN</td>\n",
       "      <td>NaN</td>\n",
       "      <td>NaN</td>\n",
       "      <td>NaN</td>\n",
       "      <td>NaN</td>\n",
       "      <td>NaN</td>\n",
       "      <td>NaN</td>\n",
       "      <td>4.660562</td>\n",
       "      <td>NaN</td>\n",
       "    </tr>\n",
       "    <tr>\n",
       "      <td>2018-06-01</td>\n",
       "      <td>NaN</td>\n",
       "      <td>NaN</td>\n",
       "      <td>NaN</td>\n",
       "      <td>NaN</td>\n",
       "      <td>NaN</td>\n",
       "      <td>NaN</td>\n",
       "      <td>NaN</td>\n",
       "      <td>NaN</td>\n",
       "      <td>NaN</td>\n",
       "      <td>NaN</td>\n",
       "      <td>NaN</td>\n",
       "      <td>NaN</td>\n",
       "      <td>3.42</td>\n",
       "    </tr>\n",
       "  </tbody>\n",
       "</table>\n",
       "</div>"
      ],
      "text/plain": [
       "buying_month        2017-06-01  2017-07-01  2017-08-01  2017-09-01  \\\n",
       "first_buying_month                                                   \n",
       "2017-06-01            4.724414   16.095410   17.706800   35.764815   \n",
       "2017-07-01                 NaN    6.010218   12.396346   21.035965   \n",
       "2017-08-01                 NaN         NaN    5.276518   11.148793   \n",
       "2017-09-01                 NaN         NaN         NaN    5.644529   \n",
       "2017-10-01                 NaN         NaN         NaN         NaN   \n",
       "2017-11-01                 NaN         NaN         NaN         NaN   \n",
       "2017-12-01                 NaN         NaN         NaN         NaN   \n",
       "2018-01-01                 NaN         NaN         NaN         NaN   \n",
       "2018-02-01                 NaN         NaN         NaN         NaN   \n",
       "2018-03-01                 NaN         NaN         NaN         NaN   \n",
       "2018-04-01                 NaN         NaN         NaN         NaN   \n",
       "2018-05-01                 NaN         NaN         NaN         NaN   \n",
       "2018-06-01                 NaN         NaN         NaN         NaN   \n",
       "\n",
       "buying_month        2017-10-01  2017-11-01  2017-12-01  2018-01-01  \\\n",
       "first_buying_month                                                   \n",
       "2017-06-01           23.506591   22.207761   31.011935   25.033191   \n",
       "2017-07-01           10.786094    6.938163    7.896842    6.421111   \n",
       "2017-08-01           11.851321   12.182955   16.921250   12.139063   \n",
       "2017-09-01           22.188385   13.445200  138.669189   19.881538   \n",
       "2017-10-01            5.003733   11.287427    6.753252    7.413152   \n",
       "2017-11-01                 NaN    5.154683    7.339054    6.786583   \n",
       "2017-12-01                 NaN         NaN    4.738191    7.816575   \n",
       "2018-01-01                 NaN         NaN         NaN    4.135636   \n",
       "2018-02-01                 NaN         NaN         NaN         NaN   \n",
       "2018-03-01                 NaN         NaN         NaN         NaN   \n",
       "2018-04-01                 NaN         NaN         NaN         NaN   \n",
       "2018-05-01                 NaN         NaN         NaN         NaN   \n",
       "2018-06-01                 NaN         NaN         NaN         NaN   \n",
       "\n",
       "buying_month        2018-02-01  2018-03-01  2018-04-01  2018-05-01  2018-06-01  \n",
       "first_buying_month                                                              \n",
       "2017-06-01           19.295690   27.233556   25.681333    9.804151         NaN  \n",
       "2017-07-01            6.992821    7.382143   12.861818   11.513846         NaN  \n",
       "2017-08-01            9.620333   12.610455   21.070000    8.307419         NaN  \n",
       "2017-09-01           26.095000   27.437121   16.961351   11.044651         NaN  \n",
       "2017-10-01            7.072796    7.255139    6.573214    7.479701         NaN  \n",
       "2017-11-01           12.510660    7.457284    4.580833    7.564839         NaN  \n",
       "2017-12-01           39.366019   48.135052   27.431400   23.518413         NaN  \n",
       "2018-01-01            8.721228   12.365542   11.199767    4.699556         NaN  \n",
       "2018-02-01            4.156987    8.610000    4.942414    6.941026         NaN  \n",
       "2018-03-01                 NaN    4.838803   11.811667   19.221897         NaN  \n",
       "2018-04-01                 NaN         NaN    4.657597   17.535072         NaN  \n",
       "2018-05-01                 NaN         NaN         NaN    4.660562         NaN  \n",
       "2018-06-01                 NaN         NaN         NaN         NaN        3.42  "
      ]
     },
     "execution_count": 101,
     "metadata": {},
     "output_type": "execute_result"
    }
   ],
   "source": [
    "buying_grouped_by_cohorts.pivot_table(index='first_buying_month',columns='buying_month',values='revenue_per_user',aggfunc='mean') "
   ]
  },
  {
   "cell_type": "markdown",
   "metadata": {},
   "source": [
    "Среднее по столбцу со средним чеком покупателя revenue_per_user"
   ]
  },
  {
   "cell_type": "code",
   "execution_count": 102,
   "metadata": {},
   "outputs": [
    {
     "data": {
      "text/plain": [
       "14.733567597262237"
      ]
     },
     "execution_count": 102,
     "metadata": {},
     "output_type": "execute_result"
    }
   ],
   "source": [
    "buying_grouped_by_cohorts['revenue_per_user'].mean()"
   ]
  },
  {
   "cell_type": "markdown",
   "metadata": {},
   "source": [
    "#### Сколько денег приносят? (LTV)<a name=\"step15\"></a>"
   ]
  },
  {
   "cell_type": "markdown",
   "metadata": {},
   "source": [
    "LTV удобно считать по когортам. Вспомним, что для этого нужно:\n",
    "* найти дату первой покупки каждого покупателя;\n",
    "* вычислить число новых покупателей за каждую дату;\n",
    "* добавить дату первой покупки в таблицу с заказами;\n",
    "* сгруппировать таблицу и посчитать выручку."
   ]
  },
  {
   "cell_type": "code",
   "execution_count": 103,
   "metadata": {},
   "outputs": [
    {
     "data": {
      "text/html": [
       "<div>\n",
       "<style scoped>\n",
       "    .dataframe tbody tr th:only-of-type {\n",
       "        vertical-align: middle;\n",
       "    }\n",
       "\n",
       "    .dataframe tbody tr th {\n",
       "        vertical-align: top;\n",
       "    }\n",
       "\n",
       "    .dataframe thead th {\n",
       "        text-align: right;\n",
       "    }\n",
       "</style>\n",
       "<table border=\"1\" class=\"dataframe\">\n",
       "  <thead>\n",
       "    <tr style=\"text-align: right;\">\n",
       "      <th></th>\n",
       "      <th>uid</th>\n",
       "      <th>buy_ts</th>\n",
       "      <th>revenue</th>\n",
       "      <th>buying_month</th>\n",
       "      <th>buying_week</th>\n",
       "      <th>buying_date</th>\n",
       "      <th>first_buying_date</th>\n",
       "      <th>first_buying_month</th>\n",
       "    </tr>\n",
       "  </thead>\n",
       "  <tbody>\n",
       "    <tr>\n",
       "      <td>0</td>\n",
       "      <td>10329302124590727494</td>\n",
       "      <td>2017-06-01 00:10:00</td>\n",
       "      <td>17.00</td>\n",
       "      <td>2017-06-01</td>\n",
       "      <td>22</td>\n",
       "      <td>2017-06-01</td>\n",
       "      <td>2017-06-01 00:10:00</td>\n",
       "      <td>2017-06-01</td>\n",
       "    </tr>\n",
       "    <tr>\n",
       "      <td>1</td>\n",
       "      <td>11627257723692907447</td>\n",
       "      <td>2017-06-01 00:25:00</td>\n",
       "      <td>0.55</td>\n",
       "      <td>2017-06-01</td>\n",
       "      <td>22</td>\n",
       "      <td>2017-06-01</td>\n",
       "      <td>2017-06-01 00:25:00</td>\n",
       "      <td>2017-06-01</td>\n",
       "    </tr>\n",
       "    <tr>\n",
       "      <td>2</td>\n",
       "      <td>17903680561304213844</td>\n",
       "      <td>2017-06-01 00:27:00</td>\n",
       "      <td>0.37</td>\n",
       "      <td>2017-06-01</td>\n",
       "      <td>22</td>\n",
       "      <td>2017-06-01</td>\n",
       "      <td>2017-06-01 00:27:00</td>\n",
       "      <td>2017-06-01</td>\n",
       "    </tr>\n",
       "    <tr>\n",
       "      <td>3</td>\n",
       "      <td>16109239769442553005</td>\n",
       "      <td>2017-06-01 00:29:00</td>\n",
       "      <td>0.55</td>\n",
       "      <td>2017-06-01</td>\n",
       "      <td>22</td>\n",
       "      <td>2017-06-01</td>\n",
       "      <td>2017-06-01 00:29:00</td>\n",
       "      <td>2017-06-01</td>\n",
       "    </tr>\n",
       "    <tr>\n",
       "      <td>4</td>\n",
       "      <td>14200605875248379450</td>\n",
       "      <td>2017-06-01 07:58:00</td>\n",
       "      <td>0.37</td>\n",
       "      <td>2017-06-01</td>\n",
       "      <td>22</td>\n",
       "      <td>2017-06-01</td>\n",
       "      <td>2017-06-01 07:58:00</td>\n",
       "      <td>2017-06-01</td>\n",
       "    </tr>\n",
       "  </tbody>\n",
       "</table>\n",
       "</div>"
      ],
      "text/plain": [
       "                    uid              buy_ts  revenue buying_month  \\\n",
       "0  10329302124590727494 2017-06-01 00:10:00    17.00   2017-06-01   \n",
       "1  11627257723692907447 2017-06-01 00:25:00     0.55   2017-06-01   \n",
       "2  17903680561304213844 2017-06-01 00:27:00     0.37   2017-06-01   \n",
       "3  16109239769442553005 2017-06-01 00:29:00     0.55   2017-06-01   \n",
       "4  14200605875248379450 2017-06-01 07:58:00     0.37   2017-06-01   \n",
       "\n",
       "   buying_week buying_date   first_buying_date first_buying_month  \n",
       "0           22  2017-06-01 2017-06-01 00:10:00         2017-06-01  \n",
       "1           22  2017-06-01 2017-06-01 00:25:00         2017-06-01  \n",
       "2           22  2017-06-01 2017-06-01 00:27:00         2017-06-01  \n",
       "3           22  2017-06-01 2017-06-01 00:29:00         2017-06-01  \n",
       "4           22  2017-06-01 2017-06-01 07:58:00         2017-06-01  "
      ]
     },
     "execution_count": 103,
     "metadata": {},
     "output_type": "execute_result"
    }
   ],
   "source": [
    "orders.head()"
   ]
  },
  {
   "cell_type": "markdown",
   "metadata": {},
   "source": [
    "Количество новых покупателей за каждый месяц"
   ]
  },
  {
   "cell_type": "code",
   "execution_count": 104,
   "metadata": {},
   "outputs": [],
   "source": [
    "first_orders = orders.groupby('uid').agg({'buying_month': 'min'}).reset_index()\n",
    "first_orders.columns = ['uid', 'first_buying_month']"
   ]
  },
  {
   "cell_type": "code",
   "execution_count": 105,
   "metadata": {},
   "outputs": [
    {
     "data": {
      "text/html": [
       "<div>\n",
       "<style scoped>\n",
       "    .dataframe tbody tr th:only-of-type {\n",
       "        vertical-align: middle;\n",
       "    }\n",
       "\n",
       "    .dataframe tbody tr th {\n",
       "        vertical-align: top;\n",
       "    }\n",
       "\n",
       "    .dataframe thead th {\n",
       "        text-align: right;\n",
       "    }\n",
       "</style>\n",
       "<table border=\"1\" class=\"dataframe\">\n",
       "  <thead>\n",
       "    <tr style=\"text-align: right;\">\n",
       "      <th></th>\n",
       "      <th>first_buying_month</th>\n",
       "      <th>new_buyers</th>\n",
       "    </tr>\n",
       "  </thead>\n",
       "  <tbody>\n",
       "    <tr>\n",
       "      <td>0</td>\n",
       "      <td>2017-06-01</td>\n",
       "      <td>2023</td>\n",
       "    </tr>\n",
       "    <tr>\n",
       "      <td>1</td>\n",
       "      <td>2017-07-01</td>\n",
       "      <td>1923</td>\n",
       "    </tr>\n",
       "    <tr>\n",
       "      <td>2</td>\n",
       "      <td>2017-08-01</td>\n",
       "      <td>1370</td>\n",
       "    </tr>\n",
       "    <tr>\n",
       "      <td>3</td>\n",
       "      <td>2017-09-01</td>\n",
       "      <td>2581</td>\n",
       "    </tr>\n",
       "    <tr>\n",
       "      <td>4</td>\n",
       "      <td>2017-10-01</td>\n",
       "      <td>4340</td>\n",
       "    </tr>\n",
       "    <tr>\n",
       "      <td>5</td>\n",
       "      <td>2017-11-01</td>\n",
       "      <td>4081</td>\n",
       "    </tr>\n",
       "    <tr>\n",
       "      <td>6</td>\n",
       "      <td>2017-12-01</td>\n",
       "      <td>4383</td>\n",
       "    </tr>\n",
       "    <tr>\n",
       "      <td>7</td>\n",
       "      <td>2018-01-01</td>\n",
       "      <td>3373</td>\n",
       "    </tr>\n",
       "    <tr>\n",
       "      <td>8</td>\n",
       "      <td>2018-02-01</td>\n",
       "      <td>3651</td>\n",
       "    </tr>\n",
       "    <tr>\n",
       "      <td>9</td>\n",
       "      <td>2018-03-01</td>\n",
       "      <td>3533</td>\n",
       "    </tr>\n",
       "    <tr>\n",
       "      <td>10</td>\n",
       "      <td>2018-04-01</td>\n",
       "      <td>2276</td>\n",
       "    </tr>\n",
       "    <tr>\n",
       "      <td>11</td>\n",
       "      <td>2018-05-01</td>\n",
       "      <td>2988</td>\n",
       "    </tr>\n",
       "    <tr>\n",
       "      <td>12</td>\n",
       "      <td>2018-06-01</td>\n",
       "      <td>1</td>\n",
       "    </tr>\n",
       "  </tbody>\n",
       "</table>\n",
       "</div>"
      ],
      "text/plain": [
       "   first_buying_month  new_buyers\n",
       "0          2017-06-01        2023\n",
       "1          2017-07-01        1923\n",
       "2          2017-08-01        1370\n",
       "3          2017-09-01        2581\n",
       "4          2017-10-01        4340\n",
       "5          2017-11-01        4081\n",
       "6          2017-12-01        4383\n",
       "7          2018-01-01        3373\n",
       "8          2018-02-01        3651\n",
       "9          2018-03-01        3533\n",
       "10         2018-04-01        2276\n",
       "11         2018-05-01        2988\n",
       "12         2018-06-01           1"
      ]
     },
     "execution_count": 105,
     "metadata": {},
     "output_type": "execute_result"
    }
   ],
   "source": [
    "cohort_sizes = first_orders.groupby('first_buying_month').agg({'uid': 'nunique'}).reset_index()\n",
    "cohort_sizes.columns = ['first_buying_month', 'new_buyers']\n",
    "cohort_sizes"
   ]
  },
  {
   "cell_type": "markdown",
   "metadata": {},
   "source": [
    "Сгруппируем таблицу заказов по месяцу первой покупки и месяцу каждого заказа и сложим выручку"
   ]
  },
  {
   "cell_type": "code",
   "execution_count": 106,
   "metadata": {},
   "outputs": [
    {
     "data": {
      "text/html": [
       "<div>\n",
       "<style scoped>\n",
       "    .dataframe tbody tr th:only-of-type {\n",
       "        vertical-align: middle;\n",
       "    }\n",
       "\n",
       "    .dataframe tbody tr th {\n",
       "        vertical-align: top;\n",
       "    }\n",
       "\n",
       "    .dataframe thead th {\n",
       "        text-align: right;\n",
       "    }\n",
       "</style>\n",
       "<table border=\"1\" class=\"dataframe\">\n",
       "  <thead>\n",
       "    <tr style=\"text-align: right;\">\n",
       "      <th></th>\n",
       "      <th>first_buying_month</th>\n",
       "      <th>buying_month</th>\n",
       "      <th>revenue</th>\n",
       "    </tr>\n",
       "  </thead>\n",
       "  <tbody>\n",
       "    <tr>\n",
       "      <td>0</td>\n",
       "      <td>2017-06-01</td>\n",
       "      <td>2017-06-01</td>\n",
       "      <td>9557.49</td>\n",
       "    </tr>\n",
       "    <tr>\n",
       "      <td>1</td>\n",
       "      <td>2017-06-01</td>\n",
       "      <td>2017-07-01</td>\n",
       "      <td>981.82</td>\n",
       "    </tr>\n",
       "    <tr>\n",
       "      <td>2</td>\n",
       "      <td>2017-06-01</td>\n",
       "      <td>2017-08-01</td>\n",
       "      <td>885.34</td>\n",
       "    </tr>\n",
       "    <tr>\n",
       "      <td>3</td>\n",
       "      <td>2017-06-01</td>\n",
       "      <td>2017-09-01</td>\n",
       "      <td>1931.30</td>\n",
       "    </tr>\n",
       "    <tr>\n",
       "      <td>4</td>\n",
       "      <td>2017-06-01</td>\n",
       "      <td>2017-10-01</td>\n",
       "      <td>2068.58</td>\n",
       "    </tr>\n",
       "    <tr>\n",
       "      <td>...</td>\n",
       "      <td>...</td>\n",
       "      <td>...</td>\n",
       "      <td>...</td>\n",
       "    </tr>\n",
       "    <tr>\n",
       "      <td>74</td>\n",
       "      <td>2018-03-01</td>\n",
       "      <td>2018-05-01</td>\n",
       "      <td>1114.87</td>\n",
       "    </tr>\n",
       "    <tr>\n",
       "      <td>75</td>\n",
       "      <td>2018-04-01</td>\n",
       "      <td>2018-04-01</td>\n",
       "      <td>10600.69</td>\n",
       "    </tr>\n",
       "    <tr>\n",
       "      <td>76</td>\n",
       "      <td>2018-04-01</td>\n",
       "      <td>2018-05-01</td>\n",
       "      <td>1209.92</td>\n",
       "    </tr>\n",
       "    <tr>\n",
       "      <td>77</td>\n",
       "      <td>2018-05-01</td>\n",
       "      <td>2018-05-01</td>\n",
       "      <td>13925.76</td>\n",
       "    </tr>\n",
       "    <tr>\n",
       "      <td>78</td>\n",
       "      <td>2018-06-01</td>\n",
       "      <td>2018-06-01</td>\n",
       "      <td>3.42</td>\n",
       "    </tr>\n",
       "  </tbody>\n",
       "</table>\n",
       "<p>79 rows × 3 columns</p>\n",
       "</div>"
      ],
      "text/plain": [
       "   first_buying_month buying_month   revenue\n",
       "0          2017-06-01   2017-06-01   9557.49\n",
       "1          2017-06-01   2017-07-01    981.82\n",
       "2          2017-06-01   2017-08-01    885.34\n",
       "3          2017-06-01   2017-09-01   1931.30\n",
       "4          2017-06-01   2017-10-01   2068.58\n",
       "..                ...          ...       ...\n",
       "74         2018-03-01   2018-05-01   1114.87\n",
       "75         2018-04-01   2018-04-01  10600.69\n",
       "76         2018-04-01   2018-05-01   1209.92\n",
       "77         2018-05-01   2018-05-01  13925.76\n",
       "78         2018-06-01   2018-06-01      3.42\n",
       "\n",
       "[79 rows x 3 columns]"
      ]
     },
     "execution_count": 106,
     "metadata": {},
     "output_type": "execute_result"
    }
   ],
   "source": [
    "cohorts = orders.groupby(['first_buying_month','buying_month']).agg({'revenue': 'sum'}).reset_index()\n",
    "cohorts"
   ]
  },
  {
   "cell_type": "code",
   "execution_count": 107,
   "metadata": {},
   "outputs": [
    {
     "data": {
      "text/html": [
       "<div>\n",
       "<style scoped>\n",
       "    .dataframe tbody tr th:only-of-type {\n",
       "        vertical-align: middle;\n",
       "    }\n",
       "\n",
       "    .dataframe tbody tr th {\n",
       "        vertical-align: top;\n",
       "    }\n",
       "\n",
       "    .dataframe thead th {\n",
       "        text-align: right;\n",
       "    }\n",
       "</style>\n",
       "<table border=\"1\" class=\"dataframe\">\n",
       "  <thead>\n",
       "    <tr style=\"text-align: right;\">\n",
       "      <th></th>\n",
       "      <th>first_buying_month</th>\n",
       "      <th>new_buyers</th>\n",
       "      <th>buying_month</th>\n",
       "      <th>revenue</th>\n",
       "    </tr>\n",
       "  </thead>\n",
       "  <tbody>\n",
       "    <tr>\n",
       "      <td>0</td>\n",
       "      <td>2017-06-01</td>\n",
       "      <td>2023</td>\n",
       "      <td>2017-06-01</td>\n",
       "      <td>9557.49</td>\n",
       "    </tr>\n",
       "    <tr>\n",
       "      <td>1</td>\n",
       "      <td>2017-06-01</td>\n",
       "      <td>2023</td>\n",
       "      <td>2017-07-01</td>\n",
       "      <td>981.82</td>\n",
       "    </tr>\n",
       "    <tr>\n",
       "      <td>2</td>\n",
       "      <td>2017-06-01</td>\n",
       "      <td>2023</td>\n",
       "      <td>2017-08-01</td>\n",
       "      <td>885.34</td>\n",
       "    </tr>\n",
       "    <tr>\n",
       "      <td>3</td>\n",
       "      <td>2017-06-01</td>\n",
       "      <td>2023</td>\n",
       "      <td>2017-09-01</td>\n",
       "      <td>1931.30</td>\n",
       "    </tr>\n",
       "    <tr>\n",
       "      <td>4</td>\n",
       "      <td>2017-06-01</td>\n",
       "      <td>2023</td>\n",
       "      <td>2017-10-01</td>\n",
       "      <td>2068.58</td>\n",
       "    </tr>\n",
       "    <tr>\n",
       "      <td>...</td>\n",
       "      <td>...</td>\n",
       "      <td>...</td>\n",
       "      <td>...</td>\n",
       "      <td>...</td>\n",
       "    </tr>\n",
       "    <tr>\n",
       "      <td>74</td>\n",
       "      <td>2018-03-01</td>\n",
       "      <td>3533</td>\n",
       "      <td>2018-05-01</td>\n",
       "      <td>1114.87</td>\n",
       "    </tr>\n",
       "    <tr>\n",
       "      <td>75</td>\n",
       "      <td>2018-04-01</td>\n",
       "      <td>2276</td>\n",
       "      <td>2018-04-01</td>\n",
       "      <td>10600.69</td>\n",
       "    </tr>\n",
       "    <tr>\n",
       "      <td>76</td>\n",
       "      <td>2018-04-01</td>\n",
       "      <td>2276</td>\n",
       "      <td>2018-05-01</td>\n",
       "      <td>1209.92</td>\n",
       "    </tr>\n",
       "    <tr>\n",
       "      <td>77</td>\n",
       "      <td>2018-05-01</td>\n",
       "      <td>2988</td>\n",
       "      <td>2018-05-01</td>\n",
       "      <td>13925.76</td>\n",
       "    </tr>\n",
       "    <tr>\n",
       "      <td>78</td>\n",
       "      <td>2018-06-01</td>\n",
       "      <td>1</td>\n",
       "      <td>2018-06-01</td>\n",
       "      <td>3.42</td>\n",
       "    </tr>\n",
       "  </tbody>\n",
       "</table>\n",
       "<p>79 rows × 4 columns</p>\n",
       "</div>"
      ],
      "text/plain": [
       "   first_buying_month  new_buyers buying_month   revenue\n",
       "0          2017-06-01        2023   2017-06-01   9557.49\n",
       "1          2017-06-01        2023   2017-07-01    981.82\n",
       "2          2017-06-01        2023   2017-08-01    885.34\n",
       "3          2017-06-01        2023   2017-09-01   1931.30\n",
       "4          2017-06-01        2023   2017-10-01   2068.58\n",
       "..                ...         ...          ...       ...\n",
       "74         2018-03-01        3533   2018-05-01   1114.87\n",
       "75         2018-04-01        2276   2018-04-01  10600.69\n",
       "76         2018-04-01        2276   2018-05-01   1209.92\n",
       "77         2018-05-01        2988   2018-05-01  13925.76\n",
       "78         2018-06-01           1   2018-06-01      3.42\n",
       "\n",
       "[79 rows x 4 columns]"
      ]
     },
     "execution_count": 107,
     "metadata": {},
     "output_type": "execute_result"
    }
   ],
   "source": [
    "report = pd.merge(cohort_sizes, cohorts, on='first_buying_month')\n",
    "report"
   ]
  },
  {
   "cell_type": "markdown",
   "metadata": {},
   "source": [
    "Найдем валовую прибыль, умножив выручку на маржинальность"
   ]
  },
  {
   "cell_type": "markdown",
   "metadata": {},
   "source": [
    "Маржинальность на практике чаще всего аналитику или неизвестна или пренебрежимо мала. Поэтому ее практически никогда не учитывают (берут 100%).(с) Наставник проектов практикума"
   ]
  },
  {
   "cell_type": "markdown",
   "metadata": {},
   "source": [
    "Так как LTV — относительный показатель. Значит его удобнее смотреть по «возрастным» когортам, где в столбцах — не месяц заказа, а возраст (age) когорты."
   ]
  },
  {
   "cell_type": "code",
   "execution_count": 108,
   "metadata": {},
   "outputs": [
    {
     "data": {
      "text/html": [
       "<div>\n",
       "<style scoped>\n",
       "    .dataframe tbody tr th:only-of-type {\n",
       "        vertical-align: middle;\n",
       "    }\n",
       "\n",
       "    .dataframe tbody tr th {\n",
       "        vertical-align: top;\n",
       "    }\n",
       "\n",
       "    .dataframe thead th {\n",
       "        text-align: right;\n",
       "    }\n",
       "</style>\n",
       "<table border=\"1\" class=\"dataframe\">\n",
       "  <thead>\n",
       "    <tr style=\"text-align: right;\">\n",
       "      <th></th>\n",
       "      <th>first_buying_month</th>\n",
       "      <th>new_buyers</th>\n",
       "      <th>buying_month</th>\n",
       "      <th>revenue</th>\n",
       "      <th>gp</th>\n",
       "      <th>age</th>\n",
       "    </tr>\n",
       "  </thead>\n",
       "  <tbody>\n",
       "    <tr>\n",
       "      <td>0</td>\n",
       "      <td>2017-06-01</td>\n",
       "      <td>2023</td>\n",
       "      <td>2017-06-01</td>\n",
       "      <td>9557.49</td>\n",
       "      <td>9557.49</td>\n",
       "      <td>0</td>\n",
       "    </tr>\n",
       "    <tr>\n",
       "      <td>1</td>\n",
       "      <td>2017-06-01</td>\n",
       "      <td>2023</td>\n",
       "      <td>2017-07-01</td>\n",
       "      <td>981.82</td>\n",
       "      <td>981.82</td>\n",
       "      <td>1</td>\n",
       "    </tr>\n",
       "    <tr>\n",
       "      <td>2</td>\n",
       "      <td>2017-06-01</td>\n",
       "      <td>2023</td>\n",
       "      <td>2017-08-01</td>\n",
       "      <td>885.34</td>\n",
       "      <td>885.34</td>\n",
       "      <td>2</td>\n",
       "    </tr>\n",
       "    <tr>\n",
       "      <td>3</td>\n",
       "      <td>2017-06-01</td>\n",
       "      <td>2023</td>\n",
       "      <td>2017-09-01</td>\n",
       "      <td>1931.30</td>\n",
       "      <td>1931.30</td>\n",
       "      <td>3</td>\n",
       "    </tr>\n",
       "    <tr>\n",
       "      <td>4</td>\n",
       "      <td>2017-06-01</td>\n",
       "      <td>2023</td>\n",
       "      <td>2017-10-01</td>\n",
       "      <td>2068.58</td>\n",
       "      <td>2068.58</td>\n",
       "      <td>4</td>\n",
       "    </tr>\n",
       "    <tr>\n",
       "      <td>...</td>\n",
       "      <td>...</td>\n",
       "      <td>...</td>\n",
       "      <td>...</td>\n",
       "      <td>...</td>\n",
       "      <td>...</td>\n",
       "      <td>...</td>\n",
       "    </tr>\n",
       "    <tr>\n",
       "      <td>74</td>\n",
       "      <td>2018-03-01</td>\n",
       "      <td>3533</td>\n",
       "      <td>2018-05-01</td>\n",
       "      <td>1114.87</td>\n",
       "      <td>1114.87</td>\n",
       "      <td>2</td>\n",
       "    </tr>\n",
       "    <tr>\n",
       "      <td>75</td>\n",
       "      <td>2018-04-01</td>\n",
       "      <td>2276</td>\n",
       "      <td>2018-04-01</td>\n",
       "      <td>10600.69</td>\n",
       "      <td>10600.69</td>\n",
       "      <td>0</td>\n",
       "    </tr>\n",
       "    <tr>\n",
       "      <td>76</td>\n",
       "      <td>2018-04-01</td>\n",
       "      <td>2276</td>\n",
       "      <td>2018-05-01</td>\n",
       "      <td>1209.92</td>\n",
       "      <td>1209.92</td>\n",
       "      <td>1</td>\n",
       "    </tr>\n",
       "    <tr>\n",
       "      <td>77</td>\n",
       "      <td>2018-05-01</td>\n",
       "      <td>2988</td>\n",
       "      <td>2018-05-01</td>\n",
       "      <td>13925.76</td>\n",
       "      <td>13925.76</td>\n",
       "      <td>0</td>\n",
       "    </tr>\n",
       "    <tr>\n",
       "      <td>78</td>\n",
       "      <td>2018-06-01</td>\n",
       "      <td>1</td>\n",
       "      <td>2018-06-01</td>\n",
       "      <td>3.42</td>\n",
       "      <td>3.42</td>\n",
       "      <td>0</td>\n",
       "    </tr>\n",
       "  </tbody>\n",
       "</table>\n",
       "<p>79 rows × 6 columns</p>\n",
       "</div>"
      ],
      "text/plain": [
       "   first_buying_month  new_buyers buying_month   revenue        gp  age\n",
       "0          2017-06-01        2023   2017-06-01   9557.49   9557.49    0\n",
       "1          2017-06-01        2023   2017-07-01    981.82    981.82    1\n",
       "2          2017-06-01        2023   2017-08-01    885.34    885.34    2\n",
       "3          2017-06-01        2023   2017-09-01   1931.30   1931.30    3\n",
       "4          2017-06-01        2023   2017-10-01   2068.58   2068.58    4\n",
       "..                ...         ...          ...       ...       ...  ...\n",
       "74         2018-03-01        3533   2018-05-01   1114.87   1114.87    2\n",
       "75         2018-04-01        2276   2018-04-01  10600.69  10600.69    0\n",
       "76         2018-04-01        2276   2018-05-01   1209.92   1209.92    1\n",
       "77         2018-05-01        2988   2018-05-01  13925.76  13925.76    0\n",
       "78         2018-06-01           1   2018-06-01      3.42      3.42    0\n",
       "\n",
       "[79 rows x 6 columns]"
      ]
     },
     "execution_count": 108,
     "metadata": {},
     "output_type": "execute_result"
    }
   ],
   "source": [
    "report['gp'] = report['revenue']*1\n",
    "report['age'] = (report['buying_month'] - report['first_buying_month']) / np.timedelta64(1, 'M')\n",
    "report['age'] = report['age'].round().astype('int')\n",
    "report"
   ]
  },
  {
   "cell_type": "markdown",
   "metadata": {},
   "source": [
    "Разделим валовую прибыль когорт за каждый месяц на общее число пользователей в каждой когорте"
   ]
  },
  {
   "cell_type": "code",
   "execution_count": 109,
   "metadata": {},
   "outputs": [],
   "source": [
    "report['ltv'] = report['gp'] / report['new_buyers']"
   ]
  },
  {
   "cell_type": "code",
   "execution_count": 110,
   "metadata": {},
   "outputs": [
    {
     "data": {
      "text/html": [
       "<div>\n",
       "<style scoped>\n",
       "    .dataframe tbody tr th:only-of-type {\n",
       "        vertical-align: middle;\n",
       "    }\n",
       "\n",
       "    .dataframe tbody tr th {\n",
       "        vertical-align: top;\n",
       "    }\n",
       "\n",
       "    .dataframe thead th {\n",
       "        text-align: right;\n",
       "    }\n",
       "</style>\n",
       "<table border=\"1\" class=\"dataframe\">\n",
       "  <thead>\n",
       "    <tr style=\"text-align: right;\">\n",
       "      <th></th>\n",
       "      <th>first_buying_month</th>\n",
       "      <th>new_buyers</th>\n",
       "      <th>buying_month</th>\n",
       "      <th>revenue</th>\n",
       "      <th>gp</th>\n",
       "      <th>age</th>\n",
       "      <th>ltv</th>\n",
       "    </tr>\n",
       "  </thead>\n",
       "  <tbody>\n",
       "    <tr>\n",
       "      <td>7</td>\n",
       "      <td>2017-06-01</td>\n",
       "      <td>2023</td>\n",
       "      <td>2018-01-01</td>\n",
       "      <td>1176.56</td>\n",
       "      <td>1176.56</td>\n",
       "      <td>7</td>\n",
       "      <td>0.581592</td>\n",
       "    </tr>\n",
       "    <tr>\n",
       "      <td>44</td>\n",
       "      <td>2017-10-01</td>\n",
       "      <td>4340</td>\n",
       "      <td>2017-12-01</td>\n",
       "      <td>830.65</td>\n",
       "      <td>830.65</td>\n",
       "      <td>2</td>\n",
       "      <td>0.191394</td>\n",
       "    </tr>\n",
       "    <tr>\n",
       "      <td>70</td>\n",
       "      <td>2018-02-01</td>\n",
       "      <td>3651</td>\n",
       "      <td>2018-04-01</td>\n",
       "      <td>286.66</td>\n",
       "      <td>286.66</td>\n",
       "      <td>2</td>\n",
       "      <td>0.078515</td>\n",
       "    </tr>\n",
       "    <tr>\n",
       "      <td>78</td>\n",
       "      <td>2018-06-01</td>\n",
       "      <td>1</td>\n",
       "      <td>2018-06-01</td>\n",
       "      <td>3.42</td>\n",
       "      <td>3.42</td>\n",
       "      <td>0</td>\n",
       "      <td>3.420000</td>\n",
       "    </tr>\n",
       "    <tr>\n",
       "      <td>9</td>\n",
       "      <td>2017-06-01</td>\n",
       "      <td>2023</td>\n",
       "      <td>2018-03-01</td>\n",
       "      <td>1225.51</td>\n",
       "      <td>1225.51</td>\n",
       "      <td>9</td>\n",
       "      <td>0.605788</td>\n",
       "    </tr>\n",
       "    <tr>\n",
       "      <td>48</td>\n",
       "      <td>2017-10-01</td>\n",
       "      <td>4340</td>\n",
       "      <td>2018-04-01</td>\n",
       "      <td>368.10</td>\n",
       "      <td>368.10</td>\n",
       "      <td>6</td>\n",
       "      <td>0.084816</td>\n",
       "    </tr>\n",
       "    <tr>\n",
       "      <td>23</td>\n",
       "      <td>2017-08-01</td>\n",
       "      <td>1370</td>\n",
       "      <td>2017-08-01</td>\n",
       "      <td>7228.83</td>\n",
       "      <td>7228.83</td>\n",
       "      <td>0</td>\n",
       "      <td>5.276518</td>\n",
       "    </tr>\n",
       "    <tr>\n",
       "      <td>14</td>\n",
       "      <td>2017-07-01</td>\n",
       "      <td>1923</td>\n",
       "      <td>2017-09-01</td>\n",
       "      <td>1199.05</td>\n",
       "      <td>1199.05</td>\n",
       "      <td>2</td>\n",
       "      <td>0.623531</td>\n",
       "    </tr>\n",
       "    <tr>\n",
       "      <td>74</td>\n",
       "      <td>2018-03-01</td>\n",
       "      <td>3533</td>\n",
       "      <td>2018-05-01</td>\n",
       "      <td>1114.87</td>\n",
       "      <td>1114.87</td>\n",
       "      <td>2</td>\n",
       "      <td>0.315559</td>\n",
       "    </tr>\n",
       "    <tr>\n",
       "      <td>30</td>\n",
       "      <td>2017-08-01</td>\n",
       "      <td>1370</td>\n",
       "      <td>2018-03-01</td>\n",
       "      <td>554.86</td>\n",
       "      <td>554.86</td>\n",
       "      <td>7</td>\n",
       "      <td>0.405007</td>\n",
       "    </tr>\n",
       "    <tr>\n",
       "      <td>32</td>\n",
       "      <td>2017-08-01</td>\n",
       "      <td>1370</td>\n",
       "      <td>2018-05-01</td>\n",
       "      <td>257.53</td>\n",
       "      <td>257.53</td>\n",
       "      <td>9</td>\n",
       "      <td>0.187978</td>\n",
       "    </tr>\n",
       "    <tr>\n",
       "      <td>33</td>\n",
       "      <td>2017-09-01</td>\n",
       "      <td>2581</td>\n",
       "      <td>2017-09-01</td>\n",
       "      <td>14568.53</td>\n",
       "      <td>14568.53</td>\n",
       "      <td>0</td>\n",
       "      <td>5.644529</td>\n",
       "    </tr>\n",
       "    <tr>\n",
       "      <td>62</td>\n",
       "      <td>2017-12-01</td>\n",
       "      <td>4383</td>\n",
       "      <td>2018-05-01</td>\n",
       "      <td>1481.66</td>\n",
       "      <td>1481.66</td>\n",
       "      <td>5</td>\n",
       "      <td>0.338047</td>\n",
       "    </tr>\n",
       "    <tr>\n",
       "      <td>13</td>\n",
       "      <td>2017-07-01</td>\n",
       "      <td>1923</td>\n",
       "      <td>2017-08-01</td>\n",
       "      <td>644.61</td>\n",
       "      <td>644.61</td>\n",
       "      <td>1</td>\n",
       "      <td>0.335211</td>\n",
       "    </tr>\n",
       "    <tr>\n",
       "      <td>28</td>\n",
       "      <td>2017-08-01</td>\n",
       "      <td>1370</td>\n",
       "      <td>2018-01-01</td>\n",
       "      <td>388.45</td>\n",
       "      <td>388.45</td>\n",
       "      <td>5</td>\n",
       "      <td>0.283540</td>\n",
       "    </tr>\n",
       "  </tbody>\n",
       "</table>\n",
       "</div>"
      ],
      "text/plain": [
       "   first_buying_month  new_buyers buying_month   revenue        gp  age  \\\n",
       "7          2017-06-01        2023   2018-01-01   1176.56   1176.56    7   \n",
       "44         2017-10-01        4340   2017-12-01    830.65    830.65    2   \n",
       "70         2018-02-01        3651   2018-04-01    286.66    286.66    2   \n",
       "78         2018-06-01           1   2018-06-01      3.42      3.42    0   \n",
       "9          2017-06-01        2023   2018-03-01   1225.51   1225.51    9   \n",
       "48         2017-10-01        4340   2018-04-01    368.10    368.10    6   \n",
       "23         2017-08-01        1370   2017-08-01   7228.83   7228.83    0   \n",
       "14         2017-07-01        1923   2017-09-01   1199.05   1199.05    2   \n",
       "74         2018-03-01        3533   2018-05-01   1114.87   1114.87    2   \n",
       "30         2017-08-01        1370   2018-03-01    554.86    554.86    7   \n",
       "32         2017-08-01        1370   2018-05-01    257.53    257.53    9   \n",
       "33         2017-09-01        2581   2017-09-01  14568.53  14568.53    0   \n",
       "62         2017-12-01        4383   2018-05-01   1481.66   1481.66    5   \n",
       "13         2017-07-01        1923   2017-08-01    644.61    644.61    1   \n",
       "28         2017-08-01        1370   2018-01-01    388.45    388.45    5   \n",
       "\n",
       "         ltv  \n",
       "7   0.581592  \n",
       "44  0.191394  \n",
       "70  0.078515  \n",
       "78  3.420000  \n",
       "9   0.605788  \n",
       "48  0.084816  \n",
       "23  5.276518  \n",
       "14  0.623531  \n",
       "74  0.315559  \n",
       "30  0.405007  \n",
       "32  0.187978  \n",
       "33  5.644529  \n",
       "62  0.338047  \n",
       "13  0.335211  \n",
       "28  0.283540  "
      ]
     },
     "execution_count": 110,
     "metadata": {},
     "output_type": "execute_result"
    }
   ],
   "source": [
    "report.sample(15)"
   ]
  },
  {
   "cell_type": "code",
   "execution_count": 111,
   "metadata": {},
   "outputs": [
    {
     "data": {
      "text/html": [
       "<div>\n",
       "<style scoped>\n",
       "    .dataframe tbody tr th:only-of-type {\n",
       "        vertical-align: middle;\n",
       "    }\n",
       "\n",
       "    .dataframe tbody tr th {\n",
       "        vertical-align: top;\n",
       "    }\n",
       "\n",
       "    .dataframe thead th {\n",
       "        text-align: right;\n",
       "    }\n",
       "</style>\n",
       "<table border=\"1\" class=\"dataframe\">\n",
       "  <thead>\n",
       "    <tr style=\"text-align: right;\">\n",
       "      <th>age</th>\n",
       "      <th>0</th>\n",
       "      <th>1</th>\n",
       "      <th>2</th>\n",
       "      <th>3</th>\n",
       "      <th>4</th>\n",
       "      <th>5</th>\n",
       "      <th>6</th>\n",
       "      <th>7</th>\n",
       "      <th>8</th>\n",
       "      <th>9</th>\n",
       "      <th>10</th>\n",
       "      <th>11</th>\n",
       "    </tr>\n",
       "    <tr>\n",
       "      <th>first_buying_month</th>\n",
       "      <th></th>\n",
       "      <th></th>\n",
       "      <th></th>\n",
       "      <th></th>\n",
       "      <th></th>\n",
       "      <th></th>\n",
       "      <th></th>\n",
       "      <th></th>\n",
       "      <th></th>\n",
       "      <th></th>\n",
       "      <th></th>\n",
       "      <th></th>\n",
       "    </tr>\n",
       "  </thead>\n",
       "  <tbody>\n",
       "    <tr>\n",
       "      <td>2017-06-01</td>\n",
       "      <td>4.72</td>\n",
       "      <td>5.21</td>\n",
       "      <td>5.65</td>\n",
       "      <td>6.6</td>\n",
       "      <td>7.62</td>\n",
       "      <td>8.36</td>\n",
       "      <td>9.31</td>\n",
       "      <td>9.89</td>\n",
       "      <td>10.45</td>\n",
       "      <td>11.05</td>\n",
       "      <td>11.62</td>\n",
       "      <td>11.88</td>\n",
       "    </tr>\n",
       "    <tr>\n",
       "      <td>2017-07-01</td>\n",
       "      <td>6.01</td>\n",
       "      <td>6.35</td>\n",
       "      <td>6.97</td>\n",
       "      <td>7.33</td>\n",
       "      <td>7.5</td>\n",
       "      <td>7.66</td>\n",
       "      <td>7.78</td>\n",
       "      <td>7.92</td>\n",
       "      <td>8.08</td>\n",
       "      <td>8.23</td>\n",
       "      <td>8.39</td>\n",
       "      <td></td>\n",
       "    </tr>\n",
       "    <tr>\n",
       "      <td>2017-08-01</td>\n",
       "      <td>5.28</td>\n",
       "      <td>5.75</td>\n",
       "      <td>6.21</td>\n",
       "      <td>6.6</td>\n",
       "      <td>7.09</td>\n",
       "      <td>7.38</td>\n",
       "      <td>7.59</td>\n",
       "      <td>7.99</td>\n",
       "      <td>8.28</td>\n",
       "      <td>8.47</td>\n",
       "      <td></td>\n",
       "      <td></td>\n",
       "    </tr>\n",
       "    <tr>\n",
       "      <td>2017-09-01</td>\n",
       "      <td>5.64</td>\n",
       "      <td>6.76</td>\n",
       "      <td>7.28</td>\n",
       "      <td>11.26</td>\n",
       "      <td>11.66</td>\n",
       "      <td>12.31</td>\n",
       "      <td>13.01</td>\n",
       "      <td>13.25</td>\n",
       "      <td>13.44</td>\n",
       "      <td></td>\n",
       "      <td></td>\n",
       "      <td></td>\n",
       "    </tr>\n",
       "    <tr>\n",
       "      <td>2017-10-01</td>\n",
       "      <td>5.00</td>\n",
       "      <td>5.54</td>\n",
       "      <td>5.73</td>\n",
       "      <td>5.89</td>\n",
       "      <td>6.04</td>\n",
       "      <td>6.16</td>\n",
       "      <td>6.24</td>\n",
       "      <td>6.36</td>\n",
       "      <td></td>\n",
       "      <td></td>\n",
       "      <td></td>\n",
       "      <td></td>\n",
       "    </tr>\n",
       "    <tr>\n",
       "      <td>2017-11-01</td>\n",
       "      <td>5.15</td>\n",
       "      <td>5.55</td>\n",
       "      <td>5.75</td>\n",
       "      <td>6.08</td>\n",
       "      <td>6.23</td>\n",
       "      <td>6.28</td>\n",
       "      <td>6.4</td>\n",
       "      <td></td>\n",
       "      <td></td>\n",
       "      <td></td>\n",
       "      <td></td>\n",
       "      <td></td>\n",
       "    </tr>\n",
       "    <tr>\n",
       "      <td>2017-12-01</td>\n",
       "      <td>4.74</td>\n",
       "      <td>5</td>\n",
       "      <td>5.92</td>\n",
       "      <td>6.99</td>\n",
       "      <td>7.3</td>\n",
       "      <td>7.64</td>\n",
       "      <td></td>\n",
       "      <td></td>\n",
       "      <td></td>\n",
       "      <td></td>\n",
       "      <td></td>\n",
       "      <td></td>\n",
       "    </tr>\n",
       "    <tr>\n",
       "      <td>2018-01-01</td>\n",
       "      <td>4.14</td>\n",
       "      <td>4.43</td>\n",
       "      <td>4.73</td>\n",
       "      <td>4.88</td>\n",
       "      <td>4.94</td>\n",
       "      <td></td>\n",
       "      <td></td>\n",
       "      <td></td>\n",
       "      <td></td>\n",
       "      <td></td>\n",
       "      <td></td>\n",
       "      <td></td>\n",
       "    </tr>\n",
       "    <tr>\n",
       "      <td>2018-02-01</td>\n",
       "      <td>4.16</td>\n",
       "      <td>4.44</td>\n",
       "      <td>4.51</td>\n",
       "      <td>4.59</td>\n",
       "      <td></td>\n",
       "      <td></td>\n",
       "      <td></td>\n",
       "      <td></td>\n",
       "      <td></td>\n",
       "      <td></td>\n",
       "      <td></td>\n",
       "      <td></td>\n",
       "    </tr>\n",
       "    <tr>\n",
       "      <td>2018-03-01</td>\n",
       "      <td>4.84</td>\n",
       "      <td>5.14</td>\n",
       "      <td>5.46</td>\n",
       "      <td></td>\n",
       "      <td></td>\n",
       "      <td></td>\n",
       "      <td></td>\n",
       "      <td></td>\n",
       "      <td></td>\n",
       "      <td></td>\n",
       "      <td></td>\n",
       "      <td></td>\n",
       "    </tr>\n",
       "    <tr>\n",
       "      <td>2018-04-01</td>\n",
       "      <td>4.66</td>\n",
       "      <td>5.19</td>\n",
       "      <td></td>\n",
       "      <td></td>\n",
       "      <td></td>\n",
       "      <td></td>\n",
       "      <td></td>\n",
       "      <td></td>\n",
       "      <td></td>\n",
       "      <td></td>\n",
       "      <td></td>\n",
       "      <td></td>\n",
       "    </tr>\n",
       "    <tr>\n",
       "      <td>2018-05-01</td>\n",
       "      <td>4.66</td>\n",
       "      <td></td>\n",
       "      <td></td>\n",
       "      <td></td>\n",
       "      <td></td>\n",
       "      <td></td>\n",
       "      <td></td>\n",
       "      <td></td>\n",
       "      <td></td>\n",
       "      <td></td>\n",
       "      <td></td>\n",
       "      <td></td>\n",
       "    </tr>\n",
       "    <tr>\n",
       "      <td>2018-06-01</td>\n",
       "      <td>3.42</td>\n",
       "      <td></td>\n",
       "      <td></td>\n",
       "      <td></td>\n",
       "      <td></td>\n",
       "      <td></td>\n",
       "      <td></td>\n",
       "      <td></td>\n",
       "      <td></td>\n",
       "      <td></td>\n",
       "      <td></td>\n",
       "      <td></td>\n",
       "    </tr>\n",
       "  </tbody>\n",
       "</table>\n",
       "</div>"
      ],
      "text/plain": [
       "age                   0     1     2      3      4      5      6      7   \\\n",
       "first_buying_month                                                        \n",
       "2017-06-01          4.72  5.21  5.65    6.6   7.62   8.36   9.31   9.89   \n",
       "2017-07-01          6.01  6.35  6.97   7.33    7.5   7.66   7.78   7.92   \n",
       "2017-08-01          5.28  5.75  6.21    6.6   7.09   7.38   7.59   7.99   \n",
       "2017-09-01          5.64  6.76  7.28  11.26  11.66  12.31  13.01  13.25   \n",
       "2017-10-01          5.00  5.54  5.73   5.89   6.04   6.16   6.24   6.36   \n",
       "2017-11-01          5.15  5.55  5.75   6.08   6.23   6.28    6.4          \n",
       "2017-12-01          4.74     5  5.92   6.99    7.3   7.64                 \n",
       "2018-01-01          4.14  4.43  4.73   4.88   4.94                        \n",
       "2018-02-01          4.16  4.44  4.51   4.59                               \n",
       "2018-03-01          4.84  5.14  5.46                                      \n",
       "2018-04-01          4.66  5.19                                            \n",
       "2018-05-01          4.66                                                  \n",
       "2018-06-01          3.42                                                  \n",
       "\n",
       "age                    8      9      10     11  \n",
       "first_buying_month                              \n",
       "2017-06-01          10.45  11.05  11.62  11.88  \n",
       "2017-07-01           8.08   8.23   8.39         \n",
       "2017-08-01           8.28   8.47                \n",
       "2017-09-01          13.44                       \n",
       "2017-10-01                                      \n",
       "2017-11-01                                      \n",
       "2017-12-01                                      \n",
       "2018-01-01                                      \n",
       "2018-02-01                                      \n",
       "2018-03-01                                      \n",
       "2018-04-01                                      \n",
       "2018-05-01                                      \n",
       "2018-06-01                                      "
      ]
     },
     "execution_count": 111,
     "metadata": {},
     "output_type": "execute_result"
    }
   ],
   "source": [
    "output = report.pivot_table(\n",
    "        index='first_buying_month', \n",
    "        columns='age', \n",
    "        values='ltv', \n",
    "        aggfunc='mean')\n",
    "output.cumsum(axis=1).round(2).fillna('') "
   ]
  },
  {
   "cell_type": "code",
   "execution_count": 112,
   "metadata": {},
   "outputs": [
    {
     "data": {
      "image/png": "[encoded data removed]",
      "text/plain": [
       "<Figure size 936x648 with 2 Axes>"
      ]
     },
     "metadata": {
      "needs_background": "light"
     },
     "output_type": "display_data"
    }
   ],
   "source": [
    "plt.figure(figsize=(13, 9))\n",
    "plt.title('Cohorts: LTV')\n",
    "sns.heatmap(output.cumsum(axis=1), annot=True, vmin=0, vmax=14, center= 6, linewidths=0.5,cmap= 'coolwarm', linecolor='grey').set_yticklabels(output.index.date);"
   ]
  },
  {
   "cell_type": "markdown",
   "metadata": {},
   "source": [
    "Посчитаем усредненный LTV, например, за 6 месяцев - время до которого дожило несколько когорт, чтоб можно было сделать усреднение"
   ]
  },
  {
   "cell_type": "code",
   "execution_count": 113,
   "metadata": {},
   "outputs": [
    {
     "data": {
      "text/plain": [
       "7.969052630207336"
      ]
     },
     "execution_count": 113,
     "metadata": {},
     "output_type": "execute_result"
    }
   ],
   "source": [
    "output.cumsum(axis=1)[5].mean()"
   ]
  },
  {
   "cell_type": "markdown",
   "metadata": {},
   "source": [
    "### Маркетинг<a name=\"step16\"></a>"
   ]
  },
  {
   "cell_type": "markdown",
   "metadata": {},
   "source": [
    "#### Сколько денег потратили? Всего / на каждый источник / по времени<a name=\"step17\"></a>"
   ]
  },
  {
   "cell_type": "code",
   "execution_count": 114,
   "metadata": {},
   "outputs": [
    {
     "data": {
      "text/html": [
       "<div>\n",
       "<style scoped>\n",
       "    .dataframe tbody tr th:only-of-type {\n",
       "        vertical-align: middle;\n",
       "    }\n",
       "\n",
       "    .dataframe tbody tr th {\n",
       "        vertical-align: top;\n",
       "    }\n",
       "\n",
       "    .dataframe thead th {\n",
       "        text-align: right;\n",
       "    }\n",
       "</style>\n",
       "<table border=\"1\" class=\"dataframe\">\n",
       "  <thead>\n",
       "    <tr style=\"text-align: right;\">\n",
       "      <th></th>\n",
       "      <th>source_id</th>\n",
       "      <th>date</th>\n",
       "      <th>costs</th>\n",
       "    </tr>\n",
       "  </thead>\n",
       "  <tbody>\n",
       "    <tr>\n",
       "      <td>0</td>\n",
       "      <td>1</td>\n",
       "      <td>2017-06-01</td>\n",
       "      <td>75.20</td>\n",
       "    </tr>\n",
       "    <tr>\n",
       "      <td>1</td>\n",
       "      <td>1</td>\n",
       "      <td>2017-06-02</td>\n",
       "      <td>62.25</td>\n",
       "    </tr>\n",
       "    <tr>\n",
       "      <td>2</td>\n",
       "      <td>1</td>\n",
       "      <td>2017-06-03</td>\n",
       "      <td>36.53</td>\n",
       "    </tr>\n",
       "    <tr>\n",
       "      <td>3</td>\n",
       "      <td>1</td>\n",
       "      <td>2017-06-04</td>\n",
       "      <td>55.00</td>\n",
       "    </tr>\n",
       "    <tr>\n",
       "      <td>4</td>\n",
       "      <td>1</td>\n",
       "      <td>2017-06-05</td>\n",
       "      <td>57.08</td>\n",
       "    </tr>\n",
       "  </tbody>\n",
       "</table>\n",
       "</div>"
      ],
      "text/plain": [
       "   source_id       date  costs\n",
       "0          1 2017-06-01  75.20\n",
       "1          1 2017-06-02  62.25\n",
       "2          1 2017-06-03  36.53\n",
       "3          1 2017-06-04  55.00\n",
       "4          1 2017-06-05  57.08"
      ]
     },
     "execution_count": 114,
     "metadata": {},
     "output_type": "execute_result"
    }
   ],
   "source": [
    "costs.head()"
   ]
  },
  {
   "cell_type": "markdown",
   "metadata": {},
   "source": [
    "Всего потрачено"
   ]
  },
  {
   "cell_type": "code",
   "execution_count": 115,
   "metadata": {},
   "outputs": [
    {
     "data": {
      "text/plain": [
       "329131.62"
      ]
     },
     "execution_count": 115,
     "metadata": {},
     "output_type": "execute_result"
    }
   ],
   "source": [
    "sum_costs = costs['costs'].sum()\n",
    "sum_costs"
   ]
  },
  {
   "cell_type": "markdown",
   "metadata": {},
   "source": [
    "На каждый источник"
   ]
  },
  {
   "cell_type": "code",
   "execution_count": 116,
   "metadata": {},
   "outputs": [
    {
     "data": {
      "text/html": [
       "<div>\n",
       "<style scoped>\n",
       "    .dataframe tbody tr th:only-of-type {\n",
       "        vertical-align: middle;\n",
       "    }\n",
       "\n",
       "    .dataframe tbody tr th {\n",
       "        vertical-align: top;\n",
       "    }\n",
       "\n",
       "    .dataframe thead th {\n",
       "        text-align: right;\n",
       "    }\n",
       "</style>\n",
       "<table border=\"1\" class=\"dataframe\">\n",
       "  <thead>\n",
       "    <tr style=\"text-align: right;\">\n",
       "      <th></th>\n",
       "      <th>source_id</th>\n",
       "      <th>costs</th>\n",
       "    </tr>\n",
       "  </thead>\n",
       "  <tbody>\n",
       "    <tr>\n",
       "      <td>0</td>\n",
       "      <td>1</td>\n",
       "      <td>20833.27</td>\n",
       "    </tr>\n",
       "    <tr>\n",
       "      <td>1</td>\n",
       "      <td>2</td>\n",
       "      <td>42806.04</td>\n",
       "    </tr>\n",
       "    <tr>\n",
       "      <td>2</td>\n",
       "      <td>3</td>\n",
       "      <td>141321.63</td>\n",
       "    </tr>\n",
       "    <tr>\n",
       "      <td>3</td>\n",
       "      <td>4</td>\n",
       "      <td>61073.60</td>\n",
       "    </tr>\n",
       "    <tr>\n",
       "      <td>4</td>\n",
       "      <td>5</td>\n",
       "      <td>51757.10</td>\n",
       "    </tr>\n",
       "    <tr>\n",
       "      <td>5</td>\n",
       "      <td>9</td>\n",
       "      <td>5517.49</td>\n",
       "    </tr>\n",
       "    <tr>\n",
       "      <td>6</td>\n",
       "      <td>10</td>\n",
       "      <td>5822.49</td>\n",
       "    </tr>\n",
       "  </tbody>\n",
       "</table>\n",
       "</div>"
      ],
      "text/plain": [
       "   source_id      costs\n",
       "0          1   20833.27\n",
       "1          2   42806.04\n",
       "2          3  141321.63\n",
       "3          4   61073.60\n",
       "4          5   51757.10\n",
       "5          9    5517.49\n",
       "6         10    5822.49"
      ]
     },
     "execution_count": 116,
     "metadata": {},
     "output_type": "execute_result"
    }
   ],
   "source": [
    "costs_by_source = costs.groupby('source_id').agg({'costs': 'sum'}).reset_index()\n",
    "costs_by_source"
   ]
  },
  {
   "cell_type": "markdown",
   "metadata": {},
   "source": [
    "По месяцам"
   ]
  },
  {
   "cell_type": "code",
   "execution_count": 117,
   "metadata": {},
   "outputs": [],
   "source": [
    "costs['month'] = costs['date'].astype('datetime64[M]') "
   ]
  },
  {
   "cell_type": "code",
   "execution_count": 118,
   "metadata": {},
   "outputs": [
    {
     "data": {
      "text/html": [
       "<div>\n",
       "<style scoped>\n",
       "    .dataframe tbody tr th:only-of-type {\n",
       "        vertical-align: middle;\n",
       "    }\n",
       "\n",
       "    .dataframe tbody tr th {\n",
       "        vertical-align: top;\n",
       "    }\n",
       "\n",
       "    .dataframe thead th {\n",
       "        text-align: right;\n",
       "    }\n",
       "</style>\n",
       "<table border=\"1\" class=\"dataframe\">\n",
       "  <thead>\n",
       "    <tr style=\"text-align: right;\">\n",
       "      <th></th>\n",
       "      <th>month</th>\n",
       "      <th>costs</th>\n",
       "    </tr>\n",
       "  </thead>\n",
       "  <tbody>\n",
       "    <tr>\n",
       "      <td>0</td>\n",
       "      <td>2017-06-01</td>\n",
       "      <td>18015.00</td>\n",
       "    </tr>\n",
       "    <tr>\n",
       "      <td>1</td>\n",
       "      <td>2017-07-01</td>\n",
       "      <td>18240.59</td>\n",
       "    </tr>\n",
       "    <tr>\n",
       "      <td>2</td>\n",
       "      <td>2017-08-01</td>\n",
       "      <td>14790.54</td>\n",
       "    </tr>\n",
       "    <tr>\n",
       "      <td>3</td>\n",
       "      <td>2017-09-01</td>\n",
       "      <td>24368.91</td>\n",
       "    </tr>\n",
       "    <tr>\n",
       "      <td>4</td>\n",
       "      <td>2017-10-01</td>\n",
       "      <td>36322.88</td>\n",
       "    </tr>\n",
       "    <tr>\n",
       "      <td>5</td>\n",
       "      <td>2017-11-01</td>\n",
       "      <td>37907.88</td>\n",
       "    </tr>\n",
       "    <tr>\n",
       "      <td>6</td>\n",
       "      <td>2017-12-01</td>\n",
       "      <td>38315.35</td>\n",
       "    </tr>\n",
       "    <tr>\n",
       "      <td>7</td>\n",
       "      <td>2018-01-01</td>\n",
       "      <td>33518.52</td>\n",
       "    </tr>\n",
       "    <tr>\n",
       "      <td>8</td>\n",
       "      <td>2018-02-01</td>\n",
       "      <td>32723.03</td>\n",
       "    </tr>\n",
       "    <tr>\n",
       "      <td>9</td>\n",
       "      <td>2018-03-01</td>\n",
       "      <td>30415.27</td>\n",
       "    </tr>\n",
       "    <tr>\n",
       "      <td>10</td>\n",
       "      <td>2018-04-01</td>\n",
       "      <td>22289.38</td>\n",
       "    </tr>\n",
       "    <tr>\n",
       "      <td>11</td>\n",
       "      <td>2018-05-01</td>\n",
       "      <td>22224.27</td>\n",
       "    </tr>\n",
       "  </tbody>\n",
       "</table>\n",
       "</div>"
      ],
      "text/plain": [
       "        month     costs\n",
       "0  2017-06-01  18015.00\n",
       "1  2017-07-01  18240.59\n",
       "2  2017-08-01  14790.54\n",
       "3  2017-09-01  24368.91\n",
       "4  2017-10-01  36322.88\n",
       "5  2017-11-01  37907.88\n",
       "6  2017-12-01  38315.35\n",
       "7  2018-01-01  33518.52\n",
       "8  2018-02-01  32723.03\n",
       "9  2018-03-01  30415.27\n",
       "10 2018-04-01  22289.38\n",
       "11 2018-05-01  22224.27"
      ]
     },
     "execution_count": 118,
     "metadata": {},
     "output_type": "execute_result"
    }
   ],
   "source": [
    "costs_by_month = costs.groupby('month').agg({'costs': 'sum'}).reset_index()\n",
    "costs_by_month"
   ]
  },
  {
   "cell_type": "code",
   "execution_count": 119,
   "metadata": {},
   "outputs": [
    {
     "data": {
      "text/plain": [
       "Text(0.5, 1.0, 'Costs by month')"
      ]
     },
     "execution_count": 119,
     "metadata": {},
     "output_type": "execute_result"
    },
    {
     "data": {
      "image/png": "[encoded data removed]",
      "text/plain": [
       "<Figure size 720x360 with 1 Axes>"
      ]
     },
     "metadata": {
      "needs_background": "light"
     },
     "output_type": "display_data"
    }
   ],
   "source": [
    "ax =costs_by_month.plot(x='month', y='costs', kind='barh', grid = True, figsize = (10,5))\n",
    "ax.set_yticklabels(costs_by_month['month'].dt.date)\n",
    "ax.set_xlabel('costs')\n",
    "ax.set_ylabel('month')\n",
    "ax.set_title('Costs by month')"
   ]
  },
  {
   "cell_type": "markdown",
   "metadata": {},
   "source": [
    "Самые большие траты пришлись на ноябрь и декабрь 2017 года"
   ]
  },
  {
   "cell_type": "code",
   "execution_count": 120,
   "metadata": {},
   "outputs": [
    {
     "data": {
      "text/html": [
       "<div>\n",
       "<style scoped>\n",
       "    .dataframe tbody tr th:only-of-type {\n",
       "        vertical-align: middle;\n",
       "    }\n",
       "\n",
       "    .dataframe tbody tr th {\n",
       "        vertical-align: top;\n",
       "    }\n",
       "\n",
       "    .dataframe thead th {\n",
       "        text-align: right;\n",
       "    }\n",
       "</style>\n",
       "<table border=\"1\" class=\"dataframe\">\n",
       "  <thead>\n",
       "    <tr style=\"text-align: right;\">\n",
       "      <th></th>\n",
       "      <th>source_id</th>\n",
       "      <th>date</th>\n",
       "      <th>costs</th>\n",
       "      <th>month</th>\n",
       "    </tr>\n",
       "  </thead>\n",
       "  <tbody>\n",
       "    <tr>\n",
       "      <td>0</td>\n",
       "      <td>1</td>\n",
       "      <td>2017-06-01</td>\n",
       "      <td>75.20</td>\n",
       "      <td>2017-06-01</td>\n",
       "    </tr>\n",
       "    <tr>\n",
       "      <td>1</td>\n",
       "      <td>1</td>\n",
       "      <td>2017-06-02</td>\n",
       "      <td>62.25</td>\n",
       "      <td>2017-06-01</td>\n",
       "    </tr>\n",
       "    <tr>\n",
       "      <td>2</td>\n",
       "      <td>1</td>\n",
       "      <td>2017-06-03</td>\n",
       "      <td>36.53</td>\n",
       "      <td>2017-06-01</td>\n",
       "    </tr>\n",
       "    <tr>\n",
       "      <td>3</td>\n",
       "      <td>1</td>\n",
       "      <td>2017-06-04</td>\n",
       "      <td>55.00</td>\n",
       "      <td>2017-06-01</td>\n",
       "    </tr>\n",
       "    <tr>\n",
       "      <td>4</td>\n",
       "      <td>1</td>\n",
       "      <td>2017-06-05</td>\n",
       "      <td>57.08</td>\n",
       "      <td>2017-06-01</td>\n",
       "    </tr>\n",
       "  </tbody>\n",
       "</table>\n",
       "</div>"
      ],
      "text/plain": [
       "   source_id       date  costs      month\n",
       "0          1 2017-06-01  75.20 2017-06-01\n",
       "1          1 2017-06-02  62.25 2017-06-01\n",
       "2          1 2017-06-03  36.53 2017-06-01\n",
       "3          1 2017-06-04  55.00 2017-06-01\n",
       "4          1 2017-06-05  57.08 2017-06-01"
      ]
     },
     "execution_count": 120,
     "metadata": {},
     "output_type": "execute_result"
    }
   ],
   "source": [
    "costs.head()"
   ]
  },
  {
   "cell_type": "code",
   "execution_count": 121,
   "metadata": {},
   "outputs": [],
   "source": [
    "costs['month'] = costs['month'].dt.date"
   ]
  },
  {
   "cell_type": "code",
   "execution_count": 122,
   "metadata": {},
   "outputs": [
    {
     "data": {
      "text/html": [
       "<div>\n",
       "<style scoped>\n",
       "    .dataframe tbody tr th:only-of-type {\n",
       "        vertical-align: middle;\n",
       "    }\n",
       "\n",
       "    .dataframe tbody tr th {\n",
       "        vertical-align: top;\n",
       "    }\n",
       "\n",
       "    .dataframe thead th {\n",
       "        text-align: right;\n",
       "    }\n",
       "</style>\n",
       "<table border=\"1\" class=\"dataframe\">\n",
       "  <thead>\n",
       "    <tr style=\"text-align: right;\">\n",
       "      <th>source_id</th>\n",
       "      <th>1</th>\n",
       "      <th>2</th>\n",
       "      <th>3</th>\n",
       "      <th>4</th>\n",
       "      <th>5</th>\n",
       "      <th>9</th>\n",
       "      <th>10</th>\n",
       "    </tr>\n",
       "    <tr>\n",
       "      <th>month</th>\n",
       "      <th></th>\n",
       "      <th></th>\n",
       "      <th></th>\n",
       "      <th></th>\n",
       "      <th></th>\n",
       "      <th></th>\n",
       "      <th></th>\n",
       "    </tr>\n",
       "  </thead>\n",
       "  <tbody>\n",
       "    <tr>\n",
       "      <td>2017-06-01</td>\n",
       "      <td>1125.61</td>\n",
       "      <td>2427.38</td>\n",
       "      <td>7731.65</td>\n",
       "      <td>3514.80</td>\n",
       "      <td>2616.12</td>\n",
       "      <td>285.22</td>\n",
       "      <td>314.22</td>\n",
       "    </tr>\n",
       "    <tr>\n",
       "      <td>2017-07-01</td>\n",
       "      <td>1072.88</td>\n",
       "      <td>2333.11</td>\n",
       "      <td>7674.37</td>\n",
       "      <td>3529.73</td>\n",
       "      <td>2998.14</td>\n",
       "      <td>302.54</td>\n",
       "      <td>329.82</td>\n",
       "    </tr>\n",
       "    <tr>\n",
       "      <td>2017-08-01</td>\n",
       "      <td>951.81</td>\n",
       "      <td>1811.05</td>\n",
       "      <td>6143.54</td>\n",
       "      <td>3217.36</td>\n",
       "      <td>2185.28</td>\n",
       "      <td>248.93</td>\n",
       "      <td>232.57</td>\n",
       "    </tr>\n",
       "    <tr>\n",
       "      <td>2017-09-01</td>\n",
       "      <td>1502.01</td>\n",
       "      <td>2985.66</td>\n",
       "      <td>9963.55</td>\n",
       "      <td>5192.26</td>\n",
       "      <td>3849.14</td>\n",
       "      <td>415.62</td>\n",
       "      <td>460.67</td>\n",
       "    </tr>\n",
       "    <tr>\n",
       "      <td>2017-10-01</td>\n",
       "      <td>2315.75</td>\n",
       "      <td>4845.00</td>\n",
       "      <td>15737.24</td>\n",
       "      <td>6420.84</td>\n",
       "      <td>5767.40</td>\n",
       "      <td>609.41</td>\n",
       "      <td>627.24</td>\n",
       "    </tr>\n",
       "    <tr>\n",
       "      <td>2017-11-01</td>\n",
       "      <td>2445.16</td>\n",
       "      <td>5247.68</td>\n",
       "      <td>17025.34</td>\n",
       "      <td>5388.82</td>\n",
       "      <td>6325.34</td>\n",
       "      <td>683.18</td>\n",
       "      <td>792.36</td>\n",
       "    </tr>\n",
       "    <tr>\n",
       "      <td>2017-12-01</td>\n",
       "      <td>2341.20</td>\n",
       "      <td>4897.80</td>\n",
       "      <td>16219.52</td>\n",
       "      <td>7680.47</td>\n",
       "      <td>5872.52</td>\n",
       "      <td>657.98</td>\n",
       "      <td>645.86</td>\n",
       "    </tr>\n",
       "    <tr>\n",
       "      <td>2018-01-01</td>\n",
       "      <td>2186.18</td>\n",
       "      <td>4157.74</td>\n",
       "      <td>14808.78</td>\n",
       "      <td>5832.79</td>\n",
       "      <td>5371.52</td>\n",
       "      <td>547.16</td>\n",
       "      <td>614.35</td>\n",
       "    </tr>\n",
       "    <tr>\n",
       "      <td>2018-02-01</td>\n",
       "      <td>2204.48</td>\n",
       "      <td>4474.34</td>\n",
       "      <td>14228.56</td>\n",
       "      <td>5711.96</td>\n",
       "      <td>5071.31</td>\n",
       "      <td>551.50</td>\n",
       "      <td>480.88</td>\n",
       "    </tr>\n",
       "    <tr>\n",
       "      <td>2018-03-01</td>\n",
       "      <td>1893.09</td>\n",
       "      <td>3943.14</td>\n",
       "      <td>13080.85</td>\n",
       "      <td>5961.87</td>\n",
       "      <td>4529.62</td>\n",
       "      <td>480.29</td>\n",
       "      <td>526.41</td>\n",
       "    </tr>\n",
       "    <tr>\n",
       "      <td>2018-04-01</td>\n",
       "      <td>1327.49</td>\n",
       "      <td>2993.70</td>\n",
       "      <td>9296.81</td>\n",
       "      <td>4408.49</td>\n",
       "      <td>3501.15</td>\n",
       "      <td>373.49</td>\n",
       "      <td>388.25</td>\n",
       "    </tr>\n",
       "    <tr>\n",
       "      <td>2018-05-01</td>\n",
       "      <td>1467.61</td>\n",
       "      <td>2689.44</td>\n",
       "      <td>9411.42</td>\n",
       "      <td>4214.21</td>\n",
       "      <td>3669.56</td>\n",
       "      <td>362.17</td>\n",
       "      <td>409.86</td>\n",
       "    </tr>\n",
       "  </tbody>\n",
       "</table>\n",
       "</div>"
      ],
      "text/plain": [
       "source_id        1        2         3        4        5       9       10\n",
       "month                                                                   \n",
       "2017-06-01  1125.61  2427.38   7731.65  3514.80  2616.12  285.22  314.22\n",
       "2017-07-01  1072.88  2333.11   7674.37  3529.73  2998.14  302.54  329.82\n",
       "2017-08-01   951.81  1811.05   6143.54  3217.36  2185.28  248.93  232.57\n",
       "2017-09-01  1502.01  2985.66   9963.55  5192.26  3849.14  415.62  460.67\n",
       "2017-10-01  2315.75  4845.00  15737.24  6420.84  5767.40  609.41  627.24\n",
       "2017-11-01  2445.16  5247.68  17025.34  5388.82  6325.34  683.18  792.36\n",
       "2017-12-01  2341.20  4897.80  16219.52  7680.47  5872.52  657.98  645.86\n",
       "2018-01-01  2186.18  4157.74  14808.78  5832.79  5371.52  547.16  614.35\n",
       "2018-02-01  2204.48  4474.34  14228.56  5711.96  5071.31  551.50  480.88\n",
       "2018-03-01  1893.09  3943.14  13080.85  5961.87  4529.62  480.29  526.41\n",
       "2018-04-01  1327.49  2993.70   9296.81  4408.49  3501.15  373.49  388.25\n",
       "2018-05-01  1467.61  2689.44   9411.42  4214.21  3669.56  362.17  409.86"
      ]
     },
     "execution_count": 122,
     "metadata": {},
     "output_type": "execute_result"
    }
   ],
   "source": [
    "costs_month_source = costs.pivot_table(index= 'month', columns= 'source_id', values = 'costs', aggfunc='sum')\n",
    "costs_month_source"
   ]
  },
  {
   "cell_type": "code",
   "execution_count": 123,
   "metadata": {
    "scrolled": true
   },
   "outputs": [
    {
     "data": {
      "text/plain": [
       "Text(0.5, 1.0, 'Costs per month and source')"
      ]
     },
     "execution_count": 123,
     "metadata": {},
     "output_type": "execute_result"
    },
    {
     "data": {
      "image/png": "[encoded data removed]",
      "text/plain": [
       "<Figure size 1080x504 with 1 Axes>"
      ]
     },
     "metadata": {
      "needs_background": "light"
     },
     "output_type": "display_data"
    }
   ],
   "source": [
    "costs_month_source.plot(grid = True, figsize = (15,7)).set_ylabel('costs')\n",
    "plt.title('Costs per month and source')"
   ]
  },
  {
   "cell_type": "markdown",
   "metadata": {},
   "source": [
    "#### Сколько стоило привлечение одного покупателя из каждого источника?<a name=\"step18\"></a>"
   ]
  },
  {
   "cell_type": "markdown",
   "metadata": {},
   "source": [
    "CAC (от англ. customer acquisition cost) — стоимость привлечения клиента. Сумма денег, во сколько обходится новый клиент компании."
   ]
  },
  {
   "cell_type": "code",
   "execution_count": 124,
   "metadata": {},
   "outputs": [],
   "source": [
    "visits_by_source = visits.query('start_ts == first_time_session')"
   ]
  },
  {
   "cell_type": "code",
   "execution_count": 125,
   "metadata": {},
   "outputs": [
    {
     "data": {
      "text/html": [
       "<div>\n",
       "<style scoped>\n",
       "    .dataframe tbody tr th:only-of-type {\n",
       "        vertical-align: middle;\n",
       "    }\n",
       "\n",
       "    .dataframe tbody tr th {\n",
       "        vertical-align: top;\n",
       "    }\n",
       "\n",
       "    .dataframe thead th {\n",
       "        text-align: right;\n",
       "    }\n",
       "</style>\n",
       "<table border=\"1\" class=\"dataframe\">\n",
       "  <thead>\n",
       "    <tr style=\"text-align: right;\">\n",
       "      <th></th>\n",
       "      <th>source_id</th>\n",
       "      <th>customers</th>\n",
       "    </tr>\n",
       "  </thead>\n",
       "  <tbody>\n",
       "    <tr>\n",
       "      <td>0</td>\n",
       "      <td>1</td>\n",
       "      <td>2899</td>\n",
       "    </tr>\n",
       "    <tr>\n",
       "      <td>1</td>\n",
       "      <td>2</td>\n",
       "      <td>3506</td>\n",
       "    </tr>\n",
       "    <tr>\n",
       "      <td>2</td>\n",
       "      <td>3</td>\n",
       "      <td>10473</td>\n",
       "    </tr>\n",
       "    <tr>\n",
       "      <td>3</td>\n",
       "      <td>4</td>\n",
       "      <td>10296</td>\n",
       "    </tr>\n",
       "    <tr>\n",
       "      <td>4</td>\n",
       "      <td>5</td>\n",
       "      <td>6931</td>\n",
       "    </tr>\n",
       "    <tr>\n",
       "      <td>5</td>\n",
       "      <td>7</td>\n",
       "      <td>1</td>\n",
       "    </tr>\n",
       "    <tr>\n",
       "      <td>6</td>\n",
       "      <td>9</td>\n",
       "      <td>1088</td>\n",
       "    </tr>\n",
       "    <tr>\n",
       "      <td>7</td>\n",
       "      <td>10</td>\n",
       "      <td>1329</td>\n",
       "    </tr>\n",
       "  </tbody>\n",
       "</table>\n",
       "</div>"
      ],
      "text/plain": [
       "   source_id  customers\n",
       "0          1       2899\n",
       "1          2       3506\n",
       "2          3      10473\n",
       "3          4      10296\n",
       "4          5       6931\n",
       "5          7          1\n",
       "6          9       1088\n",
       "7         10       1329"
      ]
     },
     "execution_count": 125,
     "metadata": {},
     "output_type": "execute_result"
    }
   ],
   "source": [
    "customers_by_source = (orders.merge(visits_by_source, on='uid', how='inner')).groupby('source_id').agg({'uid':'nunique'}).rename(columns={'uid':'customers'}).reset_index()\n",
    "customers_by_source"
   ]
  },
  {
   "cell_type": "code",
   "execution_count": 126,
   "metadata": {},
   "outputs": [],
   "source": [
    "cac = customers_by_source.merge(costs_by_source, on = 'source_id', how = 'outer')"
   ]
  },
  {
   "cell_type": "code",
   "execution_count": 127,
   "metadata": {},
   "outputs": [],
   "source": [
    "cac['cac'] = cac['costs'] / cac['customers']"
   ]
  },
  {
   "cell_type": "code",
   "execution_count": 128,
   "metadata": {},
   "outputs": [
    {
     "data": {
      "text/html": [
       "<div>\n",
       "<style scoped>\n",
       "    .dataframe tbody tr th:only-of-type {\n",
       "        vertical-align: middle;\n",
       "    }\n",
       "\n",
       "    .dataframe tbody tr th {\n",
       "        vertical-align: top;\n",
       "    }\n",
       "\n",
       "    .dataframe thead th {\n",
       "        text-align: right;\n",
       "    }\n",
       "</style>\n",
       "<table border=\"1\" class=\"dataframe\">\n",
       "  <thead>\n",
       "    <tr style=\"text-align: right;\">\n",
       "      <th></th>\n",
       "      <th>source_id</th>\n",
       "      <th>customers</th>\n",
       "      <th>costs</th>\n",
       "      <th>cac</th>\n",
       "    </tr>\n",
       "  </thead>\n",
       "  <tbody>\n",
       "    <tr>\n",
       "      <td>0</td>\n",
       "      <td>1</td>\n",
       "      <td>2899</td>\n",
       "      <td>20833.27</td>\n",
       "      <td>7.186364</td>\n",
       "    </tr>\n",
       "    <tr>\n",
       "      <td>1</td>\n",
       "      <td>2</td>\n",
       "      <td>3506</td>\n",
       "      <td>42806.04</td>\n",
       "      <td>12.209367</td>\n",
       "    </tr>\n",
       "    <tr>\n",
       "      <td>2</td>\n",
       "      <td>3</td>\n",
       "      <td>10473</td>\n",
       "      <td>141321.63</td>\n",
       "      <td>13.493901</td>\n",
       "    </tr>\n",
       "    <tr>\n",
       "      <td>3</td>\n",
       "      <td>4</td>\n",
       "      <td>10296</td>\n",
       "      <td>61073.60</td>\n",
       "      <td>5.931779</td>\n",
       "    </tr>\n",
       "    <tr>\n",
       "      <td>4</td>\n",
       "      <td>5</td>\n",
       "      <td>6931</td>\n",
       "      <td>51757.10</td>\n",
       "      <td>7.467479</td>\n",
       "    </tr>\n",
       "    <tr>\n",
       "      <td>5</td>\n",
       "      <td>7</td>\n",
       "      <td>1</td>\n",
       "      <td>NaN</td>\n",
       "      <td>NaN</td>\n",
       "    </tr>\n",
       "    <tr>\n",
       "      <td>6</td>\n",
       "      <td>9</td>\n",
       "      <td>1088</td>\n",
       "      <td>5517.49</td>\n",
       "      <td>5.071222</td>\n",
       "    </tr>\n",
       "    <tr>\n",
       "      <td>7</td>\n",
       "      <td>10</td>\n",
       "      <td>1329</td>\n",
       "      <td>5822.49</td>\n",
       "      <td>4.381106</td>\n",
       "    </tr>\n",
       "  </tbody>\n",
       "</table>\n",
       "</div>"
      ],
      "text/plain": [
       "   source_id  customers      costs        cac\n",
       "0          1       2899   20833.27   7.186364\n",
       "1          2       3506   42806.04  12.209367\n",
       "2          3      10473  141321.63  13.493901\n",
       "3          4      10296   61073.60   5.931779\n",
       "4          5       6931   51757.10   7.467479\n",
       "5          7          1        NaN        NaN\n",
       "6          9       1088    5517.49   5.071222\n",
       "7         10       1329    5822.49   4.381106"
      ]
     },
     "execution_count": 128,
     "metadata": {},
     "output_type": "execute_result"
    }
   ],
   "source": [
    "cac"
   ]
  },
  {
   "cell_type": "code",
   "execution_count": 129,
   "metadata": {},
   "outputs": [
    {
     "data": {
      "text/plain": [
       "Text(0.5, 1.0, 'CAC by source')"
      ]
     },
     "execution_count": 129,
     "metadata": {},
     "output_type": "execute_result"
    },
    {
     "data": {
      "image/png": "[encoded data removed]",
      "text/plain": [
       "<Figure size 720x360 with 1 Axes>"
      ]
     },
     "metadata": {
      "needs_background": "light"
     },
     "output_type": "display_data"
    }
   ],
   "source": [
    "ax = cac.plot(x='source_id', y='cac', kind='barh', grid = True, figsize = (10,5))\n",
    "ax.set_xlabel('cac')\n",
    "ax.set_ylabel('source_id')\n",
    "ax.set_title('CAC by source')"
   ]
  },
  {
   "cell_type": "markdown",
   "metadata": {},
   "source": [
    "Странные показатели у ресурса 7"
   ]
  },
  {
   "cell_type": "code",
   "execution_count": 130,
   "metadata": {},
   "outputs": [
    {
     "data": {
      "text/html": [
       "<div>\n",
       "<style scoped>\n",
       "    .dataframe tbody tr th:only-of-type {\n",
       "        vertical-align: middle;\n",
       "    }\n",
       "\n",
       "    .dataframe tbody tr th {\n",
       "        vertical-align: top;\n",
       "    }\n",
       "\n",
       "    .dataframe thead th {\n",
       "        text-align: right;\n",
       "    }\n",
       "</style>\n",
       "<table border=\"1\" class=\"dataframe\">\n",
       "  <thead>\n",
       "    <tr style=\"text-align: right;\">\n",
       "      <th></th>\n",
       "      <th>uid</th>\n",
       "      <th>device</th>\n",
       "      <th>start_ts</th>\n",
       "      <th>end_ts</th>\n",
       "      <th>source_id</th>\n",
       "      <th>session_year</th>\n",
       "      <th>session_month</th>\n",
       "      <th>session_week</th>\n",
       "      <th>session_date</th>\n",
       "      <th>session_duration_sec</th>\n",
       "      <th>first_time_session</th>\n",
       "      <th>first_session_month</th>\n",
       "      <th>lifetime</th>\n",
       "    </tr>\n",
       "  </thead>\n",
       "  <tbody>\n",
       "    <tr>\n",
       "      <td>14834</td>\n",
       "      <td>16865718259540502578</td>\n",
       "      <td>desktop</td>\n",
       "      <td>2017-12-02 23:21:00</td>\n",
       "      <td>2017-12-02 23:34:00</td>\n",
       "      <td>7</td>\n",
       "      <td>2017</td>\n",
       "      <td>2017-12-01</td>\n",
       "      <td>48</td>\n",
       "      <td>2017-12-02</td>\n",
       "      <td>780</td>\n",
       "      <td>2017-12-02 23:21:00</td>\n",
       "      <td>2017-12-01</td>\n",
       "      <td>0</td>\n",
       "    </tr>\n",
       "    <tr>\n",
       "      <td>33671</td>\n",
       "      <td>11123532188766338866</td>\n",
       "      <td>desktop</td>\n",
       "      <td>2017-12-25 09:49:00</td>\n",
       "      <td>2017-12-25 09:50:00</td>\n",
       "      <td>7</td>\n",
       "      <td>2017</td>\n",
       "      <td>2017-12-01</td>\n",
       "      <td>52</td>\n",
       "      <td>2017-12-25</td>\n",
       "      <td>60</td>\n",
       "      <td>2017-12-25 09:49:00</td>\n",
       "      <td>2017-12-01</td>\n",
       "      <td>0</td>\n",
       "    </tr>\n",
       "    <tr>\n",
       "      <td>37719</td>\n",
       "      <td>6003985003549207556</td>\n",
       "      <td>desktop</td>\n",
       "      <td>2018-02-02 11:28:00</td>\n",
       "      <td>2018-02-02 11:30:00</td>\n",
       "      <td>7</td>\n",
       "      <td>2018</td>\n",
       "      <td>2018-02-01</td>\n",
       "      <td>5</td>\n",
       "      <td>2018-02-02</td>\n",
       "      <td>120</td>\n",
       "      <td>2017-10-09 17:28:00</td>\n",
       "      <td>2017-10-01</td>\n",
       "      <td>4</td>\n",
       "    </tr>\n",
       "    <tr>\n",
       "      <td>41606</td>\n",
       "      <td>13356978538990003750</td>\n",
       "      <td>desktop</td>\n",
       "      <td>2017-07-05 22:22:00</td>\n",
       "      <td>2017-07-05 22:29:00</td>\n",
       "      <td>7</td>\n",
       "      <td>2017</td>\n",
       "      <td>2017-07-01</td>\n",
       "      <td>27</td>\n",
       "      <td>2017-07-05</td>\n",
       "      <td>420</td>\n",
       "      <td>2017-07-05 22:22:00</td>\n",
       "      <td>2017-07-01</td>\n",
       "      <td>0</td>\n",
       "    </tr>\n",
       "    <tr>\n",
       "      <td>42765</td>\n",
       "      <td>4650558368878258850</td>\n",
       "      <td>desktop</td>\n",
       "      <td>2017-10-14 22:26:00</td>\n",
       "      <td>2017-10-14 22:27:00</td>\n",
       "      <td>7</td>\n",
       "      <td>2017</td>\n",
       "      <td>2017-10-01</td>\n",
       "      <td>41</td>\n",
       "      <td>2017-10-14</td>\n",
       "      <td>60</td>\n",
       "      <td>2017-10-14 22:26:00</td>\n",
       "      <td>2017-10-01</td>\n",
       "      <td>0</td>\n",
       "    </tr>\n",
       "  </tbody>\n",
       "</table>\n",
       "</div>"
      ],
      "text/plain": [
       "                        uid   device            start_ts              end_ts  \\\n",
       "14834  16865718259540502578  desktop 2017-12-02 23:21:00 2017-12-02 23:34:00   \n",
       "33671  11123532188766338866  desktop 2017-12-25 09:49:00 2017-12-25 09:50:00   \n",
       "37719   6003985003549207556  desktop 2018-02-02 11:28:00 2018-02-02 11:30:00   \n",
       "41606  13356978538990003750  desktop 2017-07-05 22:22:00 2017-07-05 22:29:00   \n",
       "42765   4650558368878258850  desktop 2017-10-14 22:26:00 2017-10-14 22:27:00   \n",
       "\n",
       "       source_id  session_year session_month  session_week session_date  \\\n",
       "14834          7          2017    2017-12-01            48   2017-12-02   \n",
       "33671          7          2017    2017-12-01            52   2017-12-25   \n",
       "37719          7          2018    2018-02-01             5   2018-02-02   \n",
       "41606          7          2017    2017-07-01            27   2017-07-05   \n",
       "42765          7          2017    2017-10-01            41   2017-10-14   \n",
       "\n",
       "       session_duration_sec  first_time_session first_session_month  lifetime  \n",
       "14834                   780 2017-12-02 23:21:00          2017-12-01         0  \n",
       "33671                    60 2017-12-25 09:49:00          2017-12-01         0  \n",
       "37719                   120 2017-10-09 17:28:00          2017-10-01         4  \n",
       "41606                   420 2017-07-05 22:22:00          2017-07-01         0  \n",
       "42765                    60 2017-10-14 22:26:00          2017-10-01         0  "
      ]
     },
     "execution_count": 130,
     "metadata": {},
     "output_type": "execute_result"
    }
   ],
   "source": [
    "visits.query('source_id == 7').head()"
   ]
  },
  {
   "cell_type": "code",
   "execution_count": 131,
   "metadata": {},
   "outputs": [
    {
     "data": {
      "text/html": [
       "<div>\n",
       "<style scoped>\n",
       "    .dataframe tbody tr th:only-of-type {\n",
       "        vertical-align: middle;\n",
       "    }\n",
       "\n",
       "    .dataframe tbody tr th {\n",
       "        vertical-align: top;\n",
       "    }\n",
       "\n",
       "    .dataframe thead th {\n",
       "        text-align: right;\n",
       "    }\n",
       "</style>\n",
       "<table border=\"1\" class=\"dataframe\">\n",
       "  <thead>\n",
       "    <tr style=\"text-align: right;\">\n",
       "      <th></th>\n",
       "      <th>source_id</th>\n",
       "      <th>date</th>\n",
       "      <th>costs</th>\n",
       "      <th>month</th>\n",
       "    </tr>\n",
       "  </thead>\n",
       "  <tbody>\n",
       "  </tbody>\n",
       "</table>\n",
       "</div>"
      ],
      "text/plain": [
       "Empty DataFrame\n",
       "Columns: [source_id, date, costs, month]\n",
       "Index: []"
      ]
     },
     "execution_count": 131,
     "metadata": {},
     "output_type": "execute_result"
    }
   ],
   "source": [
    "costs.query('source_id == 7')"
   ]
  },
  {
   "cell_type": "markdown",
   "metadata": {},
   "source": [
    "Почему то по нему нет никаких данных, видимо, он, либо так ничего и не купил, либо в данных ошибка"
   ]
  },
  {
   "cell_type": "markdown",
   "metadata": {},
   "source": [
    "Самые большие показатели у ресурса 3"
   ]
  },
  {
   "cell_type": "markdown",
   "metadata": {},
   "source": [
    "#### На сколько окупились расходы? (ROI)<a name=\"step19\"></a>"
   ]
  },
  {
   "cell_type": "markdown",
   "metadata": {},
   "source": [
    "Посчитаем коэффициент окупаемости инвестиций (ROI)"
   ]
  },
  {
   "cell_type": "code",
   "execution_count": 132,
   "metadata": {},
   "outputs": [
    {
     "data": {
      "text/html": [
       "<div>\n",
       "<style scoped>\n",
       "    .dataframe tbody tr th:only-of-type {\n",
       "        vertical-align: middle;\n",
       "    }\n",
       "\n",
       "    .dataframe tbody tr th {\n",
       "        vertical-align: top;\n",
       "    }\n",
       "\n",
       "    .dataframe thead th {\n",
       "        text-align: right;\n",
       "    }\n",
       "</style>\n",
       "<table border=\"1\" class=\"dataframe\">\n",
       "  <thead>\n",
       "    <tr style=\"text-align: right;\">\n",
       "      <th></th>\n",
       "      <th>source_id</th>\n",
       "      <th>costs</th>\n",
       "    </tr>\n",
       "  </thead>\n",
       "  <tbody>\n",
       "    <tr>\n",
       "      <td>0</td>\n",
       "      <td>1</td>\n",
       "      <td>20833.27</td>\n",
       "    </tr>\n",
       "    <tr>\n",
       "      <td>1</td>\n",
       "      <td>2</td>\n",
       "      <td>42806.04</td>\n",
       "    </tr>\n",
       "    <tr>\n",
       "      <td>2</td>\n",
       "      <td>3</td>\n",
       "      <td>141321.63</td>\n",
       "    </tr>\n",
       "    <tr>\n",
       "      <td>3</td>\n",
       "      <td>4</td>\n",
       "      <td>61073.60</td>\n",
       "    </tr>\n",
       "    <tr>\n",
       "      <td>4</td>\n",
       "      <td>5</td>\n",
       "      <td>51757.10</td>\n",
       "    </tr>\n",
       "    <tr>\n",
       "      <td>5</td>\n",
       "      <td>9</td>\n",
       "      <td>5517.49</td>\n",
       "    </tr>\n",
       "    <tr>\n",
       "      <td>6</td>\n",
       "      <td>10</td>\n",
       "      <td>5822.49</td>\n",
       "    </tr>\n",
       "  </tbody>\n",
       "</table>\n",
       "</div>"
      ],
      "text/plain": [
       "   source_id      costs\n",
       "0          1   20833.27\n",
       "1          2   42806.04\n",
       "2          3  141321.63\n",
       "3          4   61073.60\n",
       "4          5   51757.10\n",
       "5          9    5517.49\n",
       "6         10    5822.49"
      ]
     },
     "execution_count": 132,
     "metadata": {},
     "output_type": "execute_result"
    }
   ],
   "source": [
    "costs_by_source"
   ]
  },
  {
   "cell_type": "code",
   "execution_count": 133,
   "metadata": {},
   "outputs": [],
   "source": [
    "visits_by_source = visits.query('start_ts == first_time_session')"
   ]
  },
  {
   "cell_type": "code",
   "execution_count": 134,
   "metadata": {},
   "outputs": [
    {
     "data": {
      "text/html": [
       "<div>\n",
       "<style scoped>\n",
       "    .dataframe tbody tr th:only-of-type {\n",
       "        vertical-align: middle;\n",
       "    }\n",
       "\n",
       "    .dataframe tbody tr th {\n",
       "        vertical-align: top;\n",
       "    }\n",
       "\n",
       "    .dataframe thead th {\n",
       "        text-align: right;\n",
       "    }\n",
       "</style>\n",
       "<table border=\"1\" class=\"dataframe\">\n",
       "  <thead>\n",
       "    <tr style=\"text-align: right;\">\n",
       "      <th></th>\n",
       "      <th>source_id</th>\n",
       "      <th>revenue</th>\n",
       "    </tr>\n",
       "  </thead>\n",
       "  <tbody>\n",
       "    <tr>\n",
       "      <td>0</td>\n",
       "      <td>1</td>\n",
       "      <td>31090.55</td>\n",
       "    </tr>\n",
       "    <tr>\n",
       "      <td>1</td>\n",
       "      <td>2</td>\n",
       "      <td>46923.61</td>\n",
       "    </tr>\n",
       "    <tr>\n",
       "      <td>2</td>\n",
       "      <td>3</td>\n",
       "      <td>54511.24</td>\n",
       "    </tr>\n",
       "    <tr>\n",
       "      <td>3</td>\n",
       "      <td>4</td>\n",
       "      <td>56696.83</td>\n",
       "    </tr>\n",
       "    <tr>\n",
       "      <td>4</td>\n",
       "      <td>5</td>\n",
       "      <td>52624.02</td>\n",
       "    </tr>\n",
       "    <tr>\n",
       "      <td>5</td>\n",
       "      <td>7</td>\n",
       "      <td>1.22</td>\n",
       "    </tr>\n",
       "    <tr>\n",
       "      <td>6</td>\n",
       "      <td>9</td>\n",
       "      <td>5759.40</td>\n",
       "    </tr>\n",
       "    <tr>\n",
       "      <td>7</td>\n",
       "      <td>10</td>\n",
       "      <td>4450.33</td>\n",
       "    </tr>\n",
       "  </tbody>\n",
       "</table>\n",
       "</div>"
      ],
      "text/plain": [
       "   source_id   revenue\n",
       "0          1  31090.55\n",
       "1          2  46923.61\n",
       "2          3  54511.24\n",
       "3          4  56696.83\n",
       "4          5  52624.02\n",
       "5          7      1.22\n",
       "6          9   5759.40\n",
       "7         10   4450.33"
      ]
     },
     "execution_count": 134,
     "metadata": {},
     "output_type": "execute_result"
    }
   ],
   "source": [
    "revenue_by_source = (orders.merge(visits_by_source, on='uid', how='inner')).groupby('source_id').agg({'revenue':'sum'})\n",
    "revenue_by_source.reset_index()"
   ]
  },
  {
   "cell_type": "code",
   "execution_count": 135,
   "metadata": {},
   "outputs": [],
   "source": [
    "roi = revenue_by_source.merge(costs_by_source, on = 'source_id', how = 'outer')\n",
    "roi['roi'] = (roi['revenue'] - roi['costs']) / roi['costs']"
   ]
  },
  {
   "cell_type": "code",
   "execution_count": 136,
   "metadata": {},
   "outputs": [
    {
     "data": {
      "text/html": [
       "<div>\n",
       "<style scoped>\n",
       "    .dataframe tbody tr th:only-of-type {\n",
       "        vertical-align: middle;\n",
       "    }\n",
       "\n",
       "    .dataframe tbody tr th {\n",
       "        vertical-align: top;\n",
       "    }\n",
       "\n",
       "    .dataframe thead th {\n",
       "        text-align: right;\n",
       "    }\n",
       "</style>\n",
       "<table border=\"1\" class=\"dataframe\">\n",
       "  <thead>\n",
       "    <tr style=\"text-align: right;\">\n",
       "      <th></th>\n",
       "      <th>source_id</th>\n",
       "      <th>revenue</th>\n",
       "      <th>costs</th>\n",
       "      <th>roi</th>\n",
       "    </tr>\n",
       "  </thead>\n",
       "  <tbody>\n",
       "    <tr>\n",
       "      <td>0</td>\n",
       "      <td>1</td>\n",
       "      <td>31090.55</td>\n",
       "      <td>20833.27</td>\n",
       "      <td>0.492351</td>\n",
       "    </tr>\n",
       "    <tr>\n",
       "      <td>1</td>\n",
       "      <td>2</td>\n",
       "      <td>46923.61</td>\n",
       "      <td>42806.04</td>\n",
       "      <td>0.096191</td>\n",
       "    </tr>\n",
       "    <tr>\n",
       "      <td>2</td>\n",
       "      <td>3</td>\n",
       "      <td>54511.24</td>\n",
       "      <td>141321.63</td>\n",
       "      <td>-0.614275</td>\n",
       "    </tr>\n",
       "    <tr>\n",
       "      <td>3</td>\n",
       "      <td>4</td>\n",
       "      <td>56696.83</td>\n",
       "      <td>61073.60</td>\n",
       "      <td>-0.071664</td>\n",
       "    </tr>\n",
       "    <tr>\n",
       "      <td>4</td>\n",
       "      <td>5</td>\n",
       "      <td>52624.02</td>\n",
       "      <td>51757.10</td>\n",
       "      <td>0.016750</td>\n",
       "    </tr>\n",
       "    <tr>\n",
       "      <td>5</td>\n",
       "      <td>7</td>\n",
       "      <td>1.22</td>\n",
       "      <td>NaN</td>\n",
       "      <td>NaN</td>\n",
       "    </tr>\n",
       "    <tr>\n",
       "      <td>6</td>\n",
       "      <td>9</td>\n",
       "      <td>5759.40</td>\n",
       "      <td>5517.49</td>\n",
       "      <td>0.043844</td>\n",
       "    </tr>\n",
       "    <tr>\n",
       "      <td>7</td>\n",
       "      <td>10</td>\n",
       "      <td>4450.33</td>\n",
       "      <td>5822.49</td>\n",
       "      <td>-0.235665</td>\n",
       "    </tr>\n",
       "  </tbody>\n",
       "</table>\n",
       "</div>"
      ],
      "text/plain": [
       "   source_id   revenue      costs       roi\n",
       "0          1  31090.55   20833.27  0.492351\n",
       "1          2  46923.61   42806.04  0.096191\n",
       "2          3  54511.24  141321.63 -0.614275\n",
       "3          4  56696.83   61073.60 -0.071664\n",
       "4          5  52624.02   51757.10  0.016750\n",
       "5          7      1.22        NaN       NaN\n",
       "6          9   5759.40    5517.49  0.043844\n",
       "7         10   4450.33    5822.49 -0.235665"
      ]
     },
     "execution_count": 136,
     "metadata": {},
     "output_type": "execute_result"
    }
   ],
   "source": [
    "roi"
   ]
  },
  {
   "cell_type": "code",
   "execution_count": 137,
   "metadata": {},
   "outputs": [
    {
     "data": {
      "text/plain": [
       "Text(0.5, 1.0, 'ROI by source')"
      ]
     },
     "execution_count": 137,
     "metadata": {},
     "output_type": "execute_result"
    },
    {
     "data": {
      "image/png": "[encoded data removed]",
      "text/plain": [
       "<Figure size 720x360 with 1 Axes>"
      ]
     },
     "metadata": {
      "needs_background": "light"
     },
     "output_type": "display_data"
    }
   ],
   "source": [
    "ax = roi.plot(x='source_id', y='roi', kind='barh', grid = True, figsize = (10,5))\n",
    "ax.set_xlabel('source_id')\n",
    "ax.set_ylabel('roi')\n",
    "ax.set_title('ROI by source')"
   ]
  },
  {
   "cell_type": "markdown",
   "metadata": {},
   "source": [
    "Если значение ROI положительное, предприятие окупает свои инвестиции. Соответственно, если показатель отрицательный, то вложение средств следует пересмотреть. Ресурсам 3, 4 и 10 стоит пересмотреть вложение средств"
   ]
  },
  {
   "cell_type": "markdown",
   "metadata": {},
   "source": [
    "## Общий вывод<a name=\"step20\"></a>"
   ]
  },
  {
   "cell_type": "markdown",
   "metadata": {},
   "source": [
    "На основании проведенного нами анализа различных метрик могу сказать, что лучшими источниками являются 1, 2, 3, 5. Источникам 3, 4 и 10 стоит пересмотреть вложение средств. <br>\n",
    "Не удивительно, что показатели и спрос со временем падает, такой бизнес, как продажа билетов, можно назвать одноразовым. Мало кто из людей покупает билеты стабильно каждый месяц. Особенно в эпоху кризиса, концерты, скорее привилегия. <br>\n",
    "Небольшой скачок в декабре, возможно, это потому, что кто то покупает билеты в подарок перед новым годом. Остальные месяца, в принципе, похожи.<br>\n",
    "Советовать что то трудно, ведь бизнес этот нестабилен.<br>\n",
    "При выборе направления для инвестиций следует ориентироваться на показатели CAC, ROI и выручку."
   ]
  }
 ],
 "metadata": {
  "kernelspec": {
   "display_name": "Python 3",
   "language": "python",
   "name": "python3"
  },
  "language_info": {
   "codemirror_mode": {
    "name": "ipython",
    "version": 3
   },
   "file_extension": ".py",
   "mimetype": "text/x-python",
   "name": "python",
   "nbconvert_exporter": "python",
   "pygments_lexer": "ipython3",
   "version": "3.7.8"
  },
  "toc": {
   "base_numbering": 1,
   "nav_menu": {},
   "number_sections": true,
   "sideBar": true,
   "skip_h1_title": false,
   "title_cell": "Table of Contents",
   "title_sidebar": "Contents",
   "toc_cell": false,
   "toc_position": {},
   "toc_section_display": true,
   "toc_window_display": false
  }
 },
 "nbformat": 4,
 "nbformat_minor": 2
}
